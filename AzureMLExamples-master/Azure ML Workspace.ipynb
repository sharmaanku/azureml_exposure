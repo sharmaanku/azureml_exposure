{
 "cells": [
  {
   "cell_type": "code",
   "execution_count": null,
   "metadata": {},
   "outputs": [],
   "source": [
    "!pip install azureml-sdk[notebooks]"
   ]
  },
  {
   "cell_type": "code",
   "execution_count": 20,
   "metadata": {},
   "outputs": [],
   "source": [
    "from azureml.core import Workspace, Experiment\n",
    "import json\n",
    "\n",
    "config = json.load(open(\"config.json\"))"
   ]
  },
  {
   "cell_type": "code",
   "execution_count": 21,
   "metadata": {},
   "outputs": [
    {
     "name": "stderr",
     "output_type": "stream",
     "text": [
      "UserWarning: The resource group doesn't exist or was not provided. AzureML SDK is creating a resource group=mlRG in location=eastus2 using subscription=7b25ac66-7789-4f79-8332-7cb05601a3e8.\n"
     ]
    },
    {
     "name": "stdout",
     "output_type": "stream",
     "text": [
      "Deploying AppInsights with name demoworkinsightscd8df5c0.\n",
      "Deployed AppInsights with name demoworkinsightscd8df5c0. Took 8.14 seconds.\n",
      "Deploying KeyVault with name demoworkkeyvault6d0f2ffd.\n",
      "Deploying StorageAccount with name demoworkstorage056673ed2.\n",
      "Deployed KeyVault with name demoworkkeyvault6d0f2ffd. Took 23.22 seconds.\n",
      "Deployed StorageAccount with name demoworkstorage056673ed2. Took 31.96 seconds.\n",
      "Deploying Workspace with name demoworkspace.\n",
      "Deployed Workspace with name demoworkspace. Took 49.23 seconds.\n",
      "Deploying Compute Target with name cpu-cluster\n",
      "Deploying Compute Target with name gpu-cluster\n",
      "Deployed Compute Target with name cpu-cluster. Took 56.88 seconds\n",
      "Deployed Compute Target with name gpu-cluster. Took 57.22 seconds\n"
     ]
    }
   ],
   "source": [
    "workspace = Workspace.create(name=\"demoworkspace\",\n",
    "                             subscription_id=config[\"subscriptionId\"],\n",
    "                             resource_group=\"mlRG\",\n",
    "                             create_resource_group=True,\n",
    "                             location=\"eastus2\")"
   ]
  },
  {
   "cell_type": "code",
   "execution_count": 22,
   "metadata": {},
   "outputs": [],
   "source": [
    "experiment = Experiment(workspace=workspace, name=\"new_exp\")"
   ]
  },
  {
   "cell_type": "code",
   "execution_count": 23,
   "metadata": {},
   "outputs": [],
   "source": [
    "run = experiment.start_logging()"
   ]
  },
  {
   "cell_type": "code",
   "execution_count": 24,
   "metadata": {},
   "outputs": [],
   "source": [
    "run.log(\"R^2\", 0.84)"
   ]
  },
  {
   "cell_type": "code",
   "execution_count": 25,
   "metadata": {},
   "outputs": [],
   "source": [
    "run.log_list(\"list\", [2, 6, 3, 1, 9])"
   ]
  },
  {
   "cell_type": "code",
   "execution_count": 26,
   "metadata": {},
   "outputs": [],
   "source": [
    "run.complete()"
   ]
  }
 ],
 "metadata": {
  "kernelspec": {
   "display_name": "Python 3",
   "language": "python",
   "name": "python3"
  },
  "language_info": {
   "codemirror_mode": {
    "name": "ipython",
    "version": 3
   },
   "file_extension": ".py",
   "mimetype": "text/x-python",
   "name": "python",
   "nbconvert_exporter": "python",
   "pygments_lexer": "ipython3",
   "version": "3.6.8"
  }
 },
 "nbformat": 4,
 "nbformat_minor": 2
}

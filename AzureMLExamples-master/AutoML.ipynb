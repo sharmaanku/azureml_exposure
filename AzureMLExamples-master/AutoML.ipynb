{
 "cells": [
  {
   "cell_type": "code",
   "execution_count": 61,
   "metadata": {},
   "outputs": [],
   "source": [
    "from azureml.core.workspace import Workspace\n",
    "from azureml.core.dataset import Dataset\n",
    "from azureml.core.experiment import Experiment\n",
    "from azureml.train.automl import AutoMLConfig\n",
    "from azureml.widgets import RunDetails\n",
    "from sklearn.model_selection import train_test_split\n",
    "from sklearn.metrics import mean_squared_error"
   ]
  },
  {
   "cell_type": "code",
   "execution_count": 4,
   "metadata": {},
   "outputs": [
    {
     "name": "stdout",
     "output_type": "stream",
     "text": [
      "Performing interactive authentication. Please follow the instructions on the terminal.\n",
      "To sign in, use a web browser to open the page https://microsoft.com/devicelogin and enter the code F3Q5VDVWX to authenticate.\n",
      "Interactive authentication successfully completed.\n"
     ]
    }
   ],
   "source": [
    "ws = Workspace.from_config()"
   ]
  },
  {
   "cell_type": "code",
   "execution_count": 6,
   "metadata": {},
   "outputs": [],
   "source": [
    "housing_ds = Dataset.get_by_name(workspace=ws, name=\"Housing\")"
   ]
  },
  {
   "cell_type": "code",
   "execution_count": 7,
   "metadata": {},
   "outputs": []
     },
     "execution_count": 7,
     "metadata": {},
     "output_type": "execute_result"
    }
   ],
   "source": [
    "housing_ds"
   ]
  },
  {
   "cell_type": "code",
   "execution_count": 54,
   "metadata": {},
   "outputs": [],
   "source": [
    "housing_df = housing_ds.to_pandas_dataframe()"
   ]
  },
  {
   "cell_type": "code",
   "execution_count": 35,
   "metadata": {},
   "outputs": [
    {
     "data": {
      "text/html": [
       "<div>\n",
       "<style scoped>\n",
       "    .dataframe tbody tr th:only-of-type {\n",
       "        vertical-align: middle;\n",
       "    }\n",
       "\n",
       "    .dataframe tbody tr th {\n",
       "        vertical-align: top;\n",
       "    }\n",
       "\n",
       "    .dataframe thead th {\n",
       "        text-align: right;\n",
       "    }\n",
       "</style>\n",
       "<table border=\"1\" class=\"dataframe\">\n",
       "  <thead>\n",
       "    <tr style=\"text-align: right;\">\n",
       "      <th></th>\n",
       "      <th>longitude</th>\n",
       "      <th>latitude</th>\n",
       "      <th>housing_median_age</th>\n",
       "      <th>total_rooms</th>\n",
       "      <th>total_bedrooms</th>\n",
       "      <th>population</th>\n",
       "      <th>households</th>\n",
       "      <th>median_income</th>\n",
       "      <th>median_house_value</th>\n",
       "      <th>ocean_proximity</th>\n",
       "    </tr>\n",
       "  </thead>\n",
       "  <tbody>\n",
       "    <tr>\n",
       "      <th>0</th>\n",
       "      <td>-122.23</td>\n",
       "      <td>37.88</td>\n",
       "      <td>41.00</td>\n",
       "      <td>880.00</td>\n",
       "      <td>129.00</td>\n",
       "      <td>322.00</td>\n",
       "      <td>126.00</td>\n",
       "      <td>8.33</td>\n",
       "      <td>452600.00</td>\n",
       "      <td>NEAR BAY</td>\n",
       "    </tr>\n",
       "    <tr>\n",
       "      <th>1</th>\n",
       "      <td>-122.22</td>\n",
       "      <td>37.86</td>\n",
       "      <td>21.00</td>\n",
       "      <td>7099.00</td>\n",
       "      <td>1106.00</td>\n",
       "      <td>2401.00</td>\n",
       "      <td>1138.00</td>\n",
       "      <td>8.30</td>\n",
       "      <td>358500.00</td>\n",
       "      <td>NEAR BAY</td>\n",
       "    </tr>\n",
       "    <tr>\n",
       "      <th>2</th>\n",
       "      <td>-122.24</td>\n",
       "      <td>37.85</td>\n",
       "      <td>52.00</td>\n",
       "      <td>1467.00</td>\n",
       "      <td>190.00</td>\n",
       "      <td>496.00</td>\n",
       "      <td>177.00</td>\n",
       "      <td>7.26</td>\n",
       "      <td>352100.00</td>\n",
       "      <td>NEAR BAY</td>\n",
       "    </tr>\n",
       "    <tr>\n",
       "      <th>3</th>\n",
       "      <td>-122.25</td>\n",
       "      <td>37.85</td>\n",
       "      <td>52.00</td>\n",
       "      <td>1274.00</td>\n",
       "      <td>235.00</td>\n",
       "      <td>558.00</td>\n",
       "      <td>219.00</td>\n",
       "      <td>5.64</td>\n",
       "      <td>341300.00</td>\n",
       "      <td>NEAR BAY</td>\n",
       "    </tr>\n",
       "    <tr>\n",
       "      <th>4</th>\n",
       "      <td>-122.25</td>\n",
       "      <td>37.85</td>\n",
       "      <td>52.00</td>\n",
       "      <td>1627.00</td>\n",
       "      <td>280.00</td>\n",
       "      <td>565.00</td>\n",
       "      <td>259.00</td>\n",
       "      <td>3.85</td>\n",
       "      <td>342200.00</td>\n",
       "      <td>NEAR BAY</td>\n",
       "    </tr>\n",
       "  </tbody>\n",
       "</table>\n",
       "</div>"
      ],
      "text/plain": [
       "   longitude  latitude  housing_median_age  total_rooms  total_bedrooms  \\\n",
       "0    -122.23     37.88               41.00       880.00          129.00   \n",
       "1    -122.22     37.86               21.00      7099.00         1106.00   \n",
       "2    -122.24     37.85               52.00      1467.00          190.00   \n",
       "3    -122.25     37.85               52.00      1274.00          235.00   \n",
       "4    -122.25     37.85               52.00      1627.00          280.00   \n",
       "\n",
       "   population  households  median_income  median_house_value ocean_proximity  \n",
       "0      322.00      126.00           8.33           452600.00        NEAR BAY  \n",
       "1     2401.00     1138.00           8.30           358500.00        NEAR BAY  \n",
       "2      496.00      177.00           7.26           352100.00        NEAR BAY  \n",
       "3      558.00      219.00           5.64           341300.00        NEAR BAY  \n",
       "4      565.00      259.00           3.85           342200.00        NEAR BAY  "
      ]
     },
     "execution_count": 35,
     "metadata": {},
     "output_type": "execute_result"
    }
   ],
   "source": [
    "housing_df.head()"
   ]
  },
  {
   "cell_type": "code",
   "execution_count": 55,
   "metadata": {},
   "outputs": [],
   "source": [
    "X_train, X_test = train_test_split(housing_df, test_size=0.1, random_state=42)"
   ]
  },
  {
   "cell_type": "code",
   "execution_count": 37,
   "metadata": {},
   "outputs": [
    {
     "data": {
      "text/html": [
       "<div>\n",
       "<style scoped>\n",
       "    .dataframe tbody tr th:only-of-type {\n",
       "        vertical-align: middle;\n",
       "    }\n",
       "\n",
       "    .dataframe tbody tr th {\n",
       "        vertical-align: top;\n",
       "    }\n",
       "\n",
       "    .dataframe thead th {\n",
       "        text-align: right;\n",
       "    }\n",
       "</style>\n",
       "<table border=\"1\" class=\"dataframe\">\n",
       "  <thead>\n",
       "    <tr style=\"text-align: right;\">\n",
       "      <th></th>\n",
       "      <th>longitude</th>\n",
       "      <th>latitude</th>\n",
       "      <th>housing_median_age</th>\n",
       "      <th>total_rooms</th>\n",
       "      <th>total_bedrooms</th>\n",
       "      <th>population</th>\n",
       "      <th>households</th>\n",
       "      <th>median_income</th>\n",
       "      <th>median_house_value</th>\n",
       "      <th>ocean_proximity</th>\n",
       "    </tr>\n",
       "  </thead>\n",
       "  <tbody>\n",
       "    <tr>\n",
       "      <th>5564</th>\n",
       "      <td>-118.29</td>\n",
       "      <td>33.91</td>\n",
       "      <td>41.00</td>\n",
       "      <td>2475.00</td>\n",
       "      <td>532.00</td>\n",
       "      <td>1416.00</td>\n",
       "      <td>470.00</td>\n",
       "      <td>3.84</td>\n",
       "      <td>156400.00</td>\n",
       "      <td>&lt;1H OCEAN</td>\n",
       "    </tr>\n",
       "    <tr>\n",
       "      <th>16016</th>\n",
       "      <td>-122.46</td>\n",
       "      <td>37.73</td>\n",
       "      <td>52.00</td>\n",
       "      <td>3547.00</td>\n",
       "      <td>506.00</td>\n",
       "      <td>1276.00</td>\n",
       "      <td>491.00</td>\n",
       "      <td>8.01</td>\n",
       "      <td>426800.00</td>\n",
       "      <td>NEAR BAY</td>\n",
       "    </tr>\n",
       "    <tr>\n",
       "      <th>17131</th>\n",
       "      <td>-122.15</td>\n",
       "      <td>37.46</td>\n",
       "      <td>30.00</td>\n",
       "      <td>4198.00</td>\n",
       "      <td>1244.00</td>\n",
       "      <td>2678.00</td>\n",
       "      <td>1147.00</td>\n",
       "      <td>3.67</td>\n",
       "      <td>308600.00</td>\n",
       "      <td>NEAR BAY</td>\n",
       "    </tr>\n",
       "    <tr>\n",
       "      <th>11752</th>\n",
       "      <td>-121.21</td>\n",
       "      <td>38.76</td>\n",
       "      <td>16.00</td>\n",
       "      <td>1608.00</td>\n",
       "      <td>296.00</td>\n",
       "      <td>792.00</td>\n",
       "      <td>286.00</td>\n",
       "      <td>3.16</td>\n",
       "      <td>239200.00</td>\n",
       "      <td>INLAND</td>\n",
       "    </tr>\n",
       "    <tr>\n",
       "      <th>2308</th>\n",
       "      <td>-119.75</td>\n",
       "      <td>36.83</td>\n",
       "      <td>15.00</td>\n",
       "      <td>2793.00</td>\n",
       "      <td>436.00</td>\n",
       "      <td>1411.00</td>\n",
       "      <td>441.00</td>\n",
       "      <td>4.93</td>\n",
       "      <td>109400.00</td>\n",
       "      <td>INLAND</td>\n",
       "    </tr>\n",
       "  </tbody>\n",
       "</table>\n",
       "</div>"
      ],
      "text/plain": [
       "       longitude  latitude  housing_median_age  total_rooms  total_bedrooms  \\\n",
       "5564     -118.29     33.91               41.00      2475.00          532.00   \n",
       "16016    -122.46     37.73               52.00      3547.00          506.00   \n",
       "17131    -122.15     37.46               30.00      4198.00         1244.00   \n",
       "11752    -121.21     38.76               16.00      1608.00          296.00   \n",
       "2308     -119.75     36.83               15.00      2793.00          436.00   \n",
       "\n",
       "       population  households  median_income  median_house_value  \\\n",
       "5564      1416.00      470.00           3.84           156400.00   \n",
       "16016     1276.00      491.00           8.01           426800.00   \n",
       "17131     2678.00     1147.00           3.67           308600.00   \n",
       "11752      792.00      286.00           3.16           239200.00   \n",
       "2308      1411.00      441.00           4.93           109400.00   \n",
       "\n",
       "      ocean_proximity  \n",
       "5564        <1H OCEAN  \n",
       "16016        NEAR BAY  \n",
       "17131        NEAR BAY  \n",
       "11752          INLAND  \n",
       "2308           INLAND  "
      ]
     },
     "execution_count": 37,
     "metadata": {},
     "output_type": "execute_result"
    }
   ],
   "source": [
    "X_train.head()"
   ]
  },
  {
   "cell_type": "code",
   "execution_count": 38,
   "metadata": {},
   "outputs": [],
   "source": [
    "automl_settings = {\n",
    "    \"iteration_timeout_minutes\": 2,\n",
    "    \"experiment_timeout_minutes\": 15,\n",
    "    \"enable_early_stopping\": True,\n",
    "    \"primary_metric\": 'spearman_correlation',\n",
    "    \"featurization\": 'auto',\n",
    "    \"n_cross_validations\": 5\n",
    "}"
   ]
  },
  {
   "cell_type": "code",
   "execution_count": 40,
   "metadata": {},
   "outputs": [],
   "source": [
    "automl_config = AutoMLConfig(task='regression',\n",
    "    debug_log='automl_errors.log',\n",
    "    training_data=X_train,\n",
    "    label_column_name=\"median_house_value\",\n",
    "    **automl_settings)"
   ]
  },
  {
   "cell_type": "code",
   "execution_count": 28,
   "metadata": {},
   "outputs": [],
   "source": [
    "experiment = Experiment(ws, \"housing_experiment\")"
   ]
  },
  {
   "cell_type": "code",
   "execution_count": 41,
   "metadata": {},
   "outputs": [
    {
     "name": "stdout",
     "output_type": "stream",
     "text": [
      "Running on local machine\n",
      "Parent Run ID: AutoML_afab6e29-547c-4aba-8888-d56cddb118ec\n",
      "\n",
      "Current status: DatasetEvaluation. Gathering dataset statistics.\n",
      "Current status: FeaturesGeneration. Generating features for the dataset.\n",
      "Current status: DatasetFeaturization. Beginning to fit featurizers and featurize the dataset.\n",
      "Current status: DatasetFeaturizationCompleted. Completed fit featurizers and featurizing the dataset.\n",
      "Current status: DatasetCrossValidationSplit. Generating individually featurized CV splits.\n",
      "\n",
      "****************************************************************************************************\n",
      "DATA GUARDRAILS: \n",
      "\n",
      "TYPE:         Missing feature values imputation\n",
      "STATUS:       PASSED\n",
      "DESCRIPTION:  No feature missing values were detected in the training data.\n",
      "              Learn more about missing value imputation: https://aka.ms/AutomatedMLFeaturization\n",
      "\n",
      "TYPE:         High cardinality feature detection\n",
      "STATUS:       PASSED\n",
      "DESCRIPTION:  Your inputs were analyzed, and no high cardinality features were detected.\n",
      "              Learn more about high cardinality feature handling: https://aka.ms/AutomatedMLFeaturization\n",
      "\n",
      "****************************************************************************************************\n",
      "Current status: ModelSelection. Beginning model selection.\n",
      "\n",
      "****************************************************************************************************\n",
      "ITERATION: The iteration being evaluated.\n",
      "PIPELINE: A summary description of the pipeline being evaluated.\n",
      "DURATION: Time taken for the current iteration.\n",
      "METRIC: The result of computing score on the fitted pipeline.\n",
      "BEST: The best observed score thus far.\n",
      "****************************************************************************************************\n",
      "\n",
      " ITERATION   PIPELINE                                       DURATION      METRIC      BEST\n",
      "         0   MaxAbsScaler LightGBM                          0:00:37       0.9150    0.9150\n",
      "         1   [10:38:13] WARNING: src/objective/regression_obj.cu:152: reg:linear is now deprecated in favor of reg:squarederror.\n",
      "[10:38:13] WARNING: src/objective/regression_obj.cu:152: reg:linear is now deprecated in favor of reg:squarederror.\n",
      "[10:38:13] WARNING: src/objective/regression_obj.cu:152: reg:linear is now deprecated in favor of reg:squarederror.\n",
      "[10:38:13] WARNING: src/objective/regression_obj.cu:152: reg:linear is now deprecated in favor of reg:squarederror.\n",
      "[10:38:13] WARNING: src/objective/regression_obj.cu:152: reg:linear is now deprecated in favor of reg:squarederror.\n",
      "[10:38:27] WARNING: src/objective/regression_obj.cu:152: reg:linear is now deprecated in favor of reg:squarederror.\n",
      "MaxAbsScaler XGBoostRegressor                  0:00:39       0.8875    0.9150\n",
      "         2   StandardScalerWrapper RandomForest             0:00:34       0.8211    0.9150\n",
      "         3   MaxAbsScaler RandomForest                      0:00:53       0.8648    0.9150\n",
      "         4   StandardScalerWrapper ExtremeRandomTrees       0:00:33       0.8132    0.9150\n",
      "         5   StandardScalerWrapper LightGBM                 0:00:33       0.8629    0.9150\n",
      "         6   StandardScalerWrapper RandomForest             0:00:37       0.8368    0.9150\n",
      "         7   MaxAbsScaler ExtremeRandomTrees                0:00:59       0.8486    0.9150\n",
      "         8   StandardScalerWrapper ExtremeRandomTrees       0:00:42       0.8204    0.9150\n",
      "         9   MaxAbsScaler DecisionTree                      0:00:33       0.8684    0.9150\n",
      "        10   MaxAbsScaler ExtremeRandomTrees                0:00:34       0.8103    0.9150\n",
      "        11   MaxAbsScaler SGD                               0:00:36       0.7967    0.9150\n",
      "        12   StandardScalerWrapper RandomForest             0:00:36       0.8628    0.9150\n",
      "        13   StandardScalerWrapper DecisionTree             0:00:34       0.7552    0.9150\n",
      "        14   MaxAbsScaler SGD                               0:00:32       0.8119    0.9150\n",
      "        15   MaxAbsScaler DecisionTree                      0:00:35       0.8456    0.9150\n",
      "        16   MaxAbsScaler SGD                               0:00:34       0.8171    0.9150\n",
      "        17   StandardScalerWrapper ElasticNet               0:00:41       0.8362    0.9150\n",
      "        18   StandardScalerWrapper RandomForest             0:00:38       0.8650    0.9150\n",
      "        19   MaxAbsScaler RandomForest                      0:00:33       0.8012    0.9150\n",
      "        20   MaxAbsScaler ElasticNet                        0:00:44       0.8362    0.9150\n",
      "        21   MaxAbsScaler ExtremeRandomTrees                0:00:35       0.8038    0.9150\n",
      "        22   MaxAbsScaler DecisionTree                      0:00:32       0.8607    0.9150\n",
      "        23   StandardScalerWrapper LightGBM                 0:00:49       0.9115    0.9150\n",
      "        24   [10:54:05] WARNING: src/objective/regression_obj.cu:152: reg:linear is now deprecated in favor of reg:squarederror.\n",
      "VotingEnsemble                                 0:01:29       0.9183    0.9183\n",
      "        25   [10:55:28] WARNING: src/objective/regression_obj.cu:152: reg:linear is now deprecated in favor of reg:squarederror.\n",
      "StackEnsemble                                  0:01:24       0.9192    0.9192\n",
      "Stopping criteria reached at iteration 26. Ending experiment.\n",
      "[10:56:07] WARNING: src/objective/regression_obj.cu:152: reg:linear is now deprecated in favor of reg:squarederror.\n",
      "****************************************************************************************************\n",
      "Current status: BestRunExplainModel. Best run model explanations started\n",
      "Current status: ModelExplanationDataSetSetup. Model explanations data setup completed\n",
      "Current status: PickSurrogateModel. Choosing LightGBM as the surrogate model for explanations\n",
      "Current status: EngineeredFeatureExplanations. Computation of engineered features started\n",
      "Current status: EngineeredFeatureExplanations. Computation of engineered features completed\n",
      "Current status: BestRunExplainModel. Best run model explanations completed\n",
      "****************************************************************************************************\n"
     ]
    }
   ],
   "source": [
    "run = experiment.submit(automl_config, show_output=True)"
   ]
  },
  {
   "cell_type": "code",
   "execution_count": 43,
   "metadata": {},
   "outputs": [
    {
     "data": {
      "application/vnd.jupyter.widget-view+json": {
       "model_id": "cbb4982c9e4e4bea97174283b95c18df",
       "version_major": 2,
       "version_minor": 0
      },
      "text/plain": [
       "_AutoMLWidget(widget_settings={'childWidgetDisplay': 'popup', 'send_telemetry': False, 'log_level': 'INFO', 's…"
      ]
     },
     "metadata": {},
     "output_type": "display_data"
    },
    {
     "data": {
      "application/aml.mini.widget.v1": "{\"status\": \"Completed\", \"workbench_run_details_uri\": \"https://ml.azure.com/experiments/housing_experiment/runs/AutoML_afab6e29-547c-4aba-8888-d56cddb118ec?wsid=/subscriptions/7b25ac66-7789-4f79-8332-7cb05601a3e8/resourcegroups/demoRG/workspaces/mlDemo\", \"run_id\": \"AutoML_afab6e29-547c-4aba-8888-d56cddb118ec\", \"run_properties\": {\"run_id\": \"AutoML_afab6e29-547c-4aba-8888-d56cddb118ec\", \"created_utc\": \"2020-06-19T10:35:05.737787Z\", \"properties\": {\"num_iterations\": \"1000\", \"training_type\": \"TrainFull\", \"acquisition_function\": \"EI\", \"primary_metric\": \"spearman_correlation\", \"train_split\": \"0\", \"acquisition_parameter\": \"0\", \"num_cross_validation\": \"5\", \"target\": \"local\", \"RawAMLSettingsString\": \"{'name': 'housing_experiment', 'path': '.', 'subscription_id': '7b25ac66-7789-4f79-8332-7cb05601a3e8', 'resource_group': 'demoRG', 'workspace_name': 'mlDemo', 'region': 'westus', 'compute_target': 'local', 'spark_service': None, 'azure_service': 'Microsoft.AzureNotebookVM', '_local_managed_run_id': None, 'iterations': 1000, 'primary_metric': 'spearman_correlation', 'task_type': 'regression', 'data_script': None, 'validation_size': 0.0, 'n_cross_validations': 5, 'y_min': 14999.0, 'y_max': 500001.0, 'num_classes': None, 'featurization': 'auto', '_ignore_package_version_incompatibilities': False, 'is_timeseries': False, 'max_cores_per_iteration': 1, 'max_concurrent_iterations': 1, 'iteration_timeout_minutes': 2, 'mem_in_mb': None, 'enforce_time_on_windows': False, 'experiment_timeout_minutes': 15, 'experiment_exit_score': None, 'whitelist_models': None, 'blacklist_algos': ['KNN', 'KNN', 'SVM'], 'supported_models': ['KNN', 'LassoLars', 'LightGBM', 'DecisionTree', 'ExtremeRandomTrees', 'TensorFlowDNN', 'SGD', 'OnlineGradientDescentRegressor', 'GradientBoosting', 'ElasticNet', 'TensorFlowLinearRegressor', 'FastLinearRegressor', 'XGBoostRegressor', 'RandomForest'], 'auto_blacklist': True, 'blacklist_samples_reached': True, 'exclude_nan_labels': True, 'verbosity': 20, 'debug_log': 'automl_errors.log', 'show_warnings': False, 'model_explainability': True, 'service_url': None, 'sdk_url': None, 'sdk_packages': None, 'enable_onnx_compatible_models': False, 'enable_split_onnx_featurizer_estimator_models': False, 'vm_type': None, 'telemetry_verbosity': 20, 'send_telemetry': True, 'enable_dnn': False, 'force_text_dnn': False, 'enable_feature_sweeping': True, 'enable_early_stopping': True, 'early_stopping_n_iters': 10, 'metrics': None, 'enable_ensembling': True, 'enable_stack_ensembling': True, 'ensemble_iterations': 15, 'enable_tf': False, 'enable_cache': True, 'enable_subsampling': None, 'subsample_seed': None, 'enable_nimbusml': False, 'enable_streaming': False, 'force_streaming': False, 'track_child_runs': True, 'label_column_name': 'median_house_value', 'weight_column_name': None, 'cv_split_column_names': None, 'enable_local_managed': False, 'cost_mode': 1, 'lag_length': 0, 'metric_operation': 'maximize', 'preprocess': True, 'scenario': 'SDK-Compatible'}\", \"AMLSettingsJsonString\": \"{\\\"name\\\": \\\"housing_experiment\\\", \\\"path\\\": \\\".\\\", \\\"subscription_id\\\": \\\"7b25ac66-7789-4f79-8332-7cb05601a3e8\\\", \\\"resource_group\\\": \\\"demoRG\\\", \\\"workspace_name\\\": \\\"mlDemo\\\", \\\"region\\\": \\\"westus\\\", \\\"compute_target\\\": \\\"local\\\", \\\"spark_service\\\": null, \\\"azure_service\\\": \\\"Microsoft.AzureNotebookVM\\\", \\\"_local_managed_run_id\\\": null, \\\"iterations\\\": 1000, \\\"primary_metric\\\": \\\"spearman_correlation\\\", \\\"task_type\\\": \\\"regression\\\", \\\"data_script\\\": null, \\\"validation_size\\\": 0.0, \\\"n_cross_validations\\\": 5, \\\"y_min\\\": 14999.0, \\\"y_max\\\": 500001.0, \\\"num_classes\\\": null, \\\"featurization\\\": \\\"auto\\\", \\\"_ignore_package_version_incompatibilities\\\": false, \\\"is_timeseries\\\": false, \\\"max_cores_per_iteration\\\": 1, \\\"max_concurrent_iterations\\\": 1, \\\"iteration_timeout_minutes\\\": 2, \\\"mem_in_mb\\\": null, \\\"enforce_time_on_windows\\\": false, \\\"experiment_timeout_minutes\\\": 15, \\\"experiment_exit_score\\\": null, \\\"whitelist_models\\\": null, \\\"blacklist_algos\\\": [\\\"KNN\\\", \\\"KNN\\\", \\\"SVM\\\"], \\\"supported_models\\\": [\\\"KNN\\\", \\\"LassoLars\\\", \\\"LightGBM\\\", \\\"DecisionTree\\\", \\\"ExtremeRandomTrees\\\", \\\"TensorFlowDNN\\\", \\\"SGD\\\", \\\"OnlineGradientDescentRegressor\\\", \\\"GradientBoosting\\\", \\\"ElasticNet\\\", \\\"TensorFlowLinearRegressor\\\", \\\"FastLinearRegressor\\\", \\\"XGBoostRegressor\\\", \\\"RandomForest\\\"], \\\"auto_blacklist\\\": true, \\\"blacklist_samples_reached\\\": true, \\\"exclude_nan_labels\\\": true, \\\"verbosity\\\": 20, \\\"debug_log\\\": \\\"automl_errors.log\\\", \\\"show_warnings\\\": false, \\\"model_explainability\\\": true, \\\"service_url\\\": null, \\\"sdk_url\\\": null, \\\"sdk_packages\\\": null, \\\"enable_onnx_compatible_models\\\": false, \\\"enable_split_onnx_featurizer_estimator_models\\\": false, \\\"vm_type\\\": null, \\\"telemetry_verbosity\\\": 20, \\\"send_telemetry\\\": true, \\\"enable_dnn\\\": false, \\\"force_text_dnn\\\": false, \\\"enable_feature_sweeping\\\": true, \\\"enable_early_stopping\\\": true, \\\"early_stopping_n_iters\\\": 10, \\\"metrics\\\": null, \\\"enable_ensembling\\\": true, \\\"enable_stack_ensembling\\\": true, \\\"ensemble_iterations\\\": 15, \\\"enable_tf\\\": false, \\\"enable_cache\\\": true, \\\"enable_subsampling\\\": null, \\\"subsample_seed\\\": null, \\\"enable_nimbusml\\\": false, \\\"enable_streaming\\\": false, \\\"force_streaming\\\": false, \\\"track_child_runs\\\": true, \\\"label_column_name\\\": \\\"median_house_value\\\", \\\"weight_column_name\\\": null, \\\"cv_split_column_names\\\": null, \\\"enable_local_managed\\\": false, \\\"cost_mode\\\": 1, \\\"lag_length\\\": 0, \\\"metric_operation\\\": \\\"maximize\\\", \\\"preprocess\\\": true, \\\"scenario\\\": \\\"SDK-Compatible\\\"}\", \"DataPrepJsonString\": null, \"EnableSubsampling\": null, \"runTemplate\": \"AutoML\", \"azureml.runsource\": \"automl\", \"display_task_type\": \"regression\", \"dependencies_versions\": \"{\\\"azureml-widgets\\\": \\\"1.7.0\\\", \\\"azureml-train\\\": \\\"1.7.0\\\", \\\"azureml-train-restclients-hyperdrive\\\": \\\"1.7.0\\\", \\\"azureml-train-core\\\": \\\"1.7.0\\\", \\\"azureml-train-automl\\\": \\\"1.7.0\\\", \\\"azureml-train-automl-runtime\\\": \\\"1.7.0\\\", \\\"azureml-train-automl-client\\\": \\\"1.7.0\\\", \\\"azureml-tensorboard\\\": \\\"1.7.0\\\", \\\"azureml-telemetry\\\": \\\"1.7.0\\\", \\\"azureml-sdk\\\": \\\"1.7.0\\\", \\\"azureml-samples\\\": \\\"0+unknown\\\", \\\"azureml-pipeline\\\": \\\"1.7.0\\\", \\\"azureml-pipeline-steps\\\": \\\"1.7.0\\\", \\\"azureml-pipeline-core\\\": \\\"1.7.0.post1\\\", \\\"azureml-opendatasets\\\": \\\"1.7.0.post1\\\", \\\"azureml-monitoring\\\": \\\"0.1.0a18\\\", \\\"azureml-model-management-sdk\\\": \\\"1.0.1b6.post1\\\", \\\"azureml-mlflow\\\": \\\"1.7.0\\\", \\\"azureml-interpret\\\": \\\"1.7.0\\\", \\\"azureml-explain-model\\\": \\\"1.7.0\\\", \\\"azureml-defaults\\\": \\\"1.7.0\\\", \\\"azureml-dataprep\\\": \\\"1.7.0\\\", \\\"azureml-dataprep-native\\\": \\\"14.2.0\\\", \\\"azureml-datadrift\\\": \\\"1.7.0\\\", \\\"azureml-core\\\": \\\"1.7.0\\\", \\\"azureml-contrib-services\\\": \\\"1.7.0\\\", \\\"azureml-contrib-server\\\": \\\"1.7.0\\\", \\\"azureml-contrib-reinforcementlearning\\\": \\\"1.7.0\\\", \\\"azureml-contrib-pipeline-steps\\\": \\\"1.7.0\\\", \\\"azureml-contrib-notebook\\\": \\\"1.7.0\\\", \\\"azureml-contrib-interpret\\\": \\\"1.7.0\\\", \\\"azureml-contrib-gbdt\\\": \\\"1.7.0\\\", \\\"azureml-contrib-dataset\\\": \\\"1.7.0\\\", \\\"azureml-cli-common\\\": \\\"1.7.0\\\", \\\"azureml-automl-runtime\\\": \\\"1.7.0\\\", \\\"azureml-automl-core\\\": \\\"1.7.0\\\", \\\"azureml-accel-models\\\": \\\"1.7.0\\\"}\", \"ClientSdkVersion\": \"1.7.0\", \"ClientType\": \"SDK\", \"environment_cpu_name\": \"AzureML-AutoML\", \"environment_cpu_version\": \"17\", \"environment_gpu_name\": \"AzureML-AutoML-GPU\", \"environment_gpu_version\": \"10\", \"root_attribution\": \"AutoML\", \"attribution\": \"AutoML\", \"CancelUri\": \"https://westus.experiments.azureml.net/jasmine/v1.0/subscriptions/7b25ac66-7789-4f79-8332-7cb05601a3e8/resourceGroups/demoRG/providers/Microsoft.MachineLearningServices/workspaces/mlDemo/experiment/housing_experiment/cancel/AutoML_afab6e29-547c-4aba-8888-d56cddb118ec\", \"Orchestrator\": \"AutoML\", \"ProblemInfoJsonString\": \"{\\\"dataset_num_categorical\\\": 0, \\\"is_sparse\\\": true, \\\"subsampling\\\": false, \\\"dataset_classes\\\": 3762, \\\"dataset_features\\\": 13, \\\"dataset_samples\\\": 18576, \\\"single_frequency_class_detected\\\": false}\", \"feature_skus\": \"automatedml_sdk_guardrails\"}, \"tags\": {\"model_explain_run\": \"best_run\", \"azureml.automlComponent\": \"AutoML\", \"model_explain_best_run_child_id\": \"AutoML_afab6e29-547c-4aba-8888-d56cddb118ec_25\", \"best_score\": \"0.9191518753090915\", \"best_pipeline\": \"StackEnsemble\", \"automl_best_child_run_id\": \"AutoML_afab6e29-547c-4aba-8888-d56cddb118ec_25\"}, \"end_time_utc\": \"2020-06-19T10:56:42.126055Z\", \"status\": \"Completed\", \"log_files\": {}, \"log_groups\": [], \"run_duration\": \"0:21:36\"}, \"child_runs\": [{\"run_id\": \"AutoML_afab6e29-547c-4aba-8888-d56cddb118ec_0\", \"run_number\": 2, \"metric\": null, \"status\": \"Completed\", \"run_type\": null, \"training_percent\": \"100\", \"start_time\": \"2020-06-19T10:37:14.49938Z\", \"end_time\": \"2020-06-19T10:37:50.983686Z\", \"created_time\": \"2020-06-19T10:37:14.376498Z\", \"created_time_dt\": \"2020-06-19T10:37:14.376498Z\", \"duration\": \"0:00:36\", \"iteration\": \"0\", \"goal\": \"spearman_correlation_max\", \"run_name\": \"MaxAbsScaler, LightGBM\", \"run_properties\": \"copy=True\", \"primary_metric\": 0.91497175, \"best_metric\": 0.91497175}, {\"run_id\": \"AutoML_afab6e29-547c-4aba-8888-d56cddb118ec_1\", \"run_number\": 3, \"metric\": null, \"status\": \"Completed\", \"run_type\": null, \"training_percent\": \"100\", \"start_time\": \"2020-06-19T10:37:51.871547Z\", \"end_time\": \"2020-06-19T10:38:30.693051Z\", \"created_time\": \"2020-06-19T10:37:51.744462Z\", \"created_time_dt\": \"2020-06-19T10:37:51.744462Z\", \"duration\": \"0:00:38\", \"iteration\": \"1\", \"goal\": \"spearman_correlation_max\", \"run_name\": \"MaxAbsScaler, XGBoostRegressor\", \"run_properties\": \"copy=True\", \"primary_metric\": 0.88753002, \"best_metric\": 0.91497175}, {\"run_id\": \"AutoML_afab6e29-547c-4aba-8888-d56cddb118ec_2\", \"run_number\": 4, \"metric\": null, \"status\": \"Completed\", \"run_type\": null, \"training_percent\": \"100\", \"start_time\": \"2020-06-19T10:38:31.864891Z\", \"end_time\": \"2020-06-19T10:39:04.666728Z\", \"created_time\": \"2020-06-19T10:38:31.739983Z\", \"created_time_dt\": \"2020-06-19T10:38:31.739983Z\", \"duration\": \"0:00:32\", \"iteration\": \"2\", \"goal\": \"spearman_correlation_max\", \"run_name\": \"StandardScalerWrapper, RandomForest\", \"run_properties\": \"<azureml.automl.runtime.shared.model_wrappers.StandardScalerWrapper object at 0x7f039b566550\", \"primary_metric\": 0.82114581, \"best_metric\": 0.91497175}, {\"run_id\": \"AutoML_afab6e29-547c-4aba-8888-d56cddb118ec_3\", \"run_number\": 5, \"metric\": null, \"status\": \"Completed\", \"run_type\": null, \"training_percent\": \"100\", \"start_time\": \"2020-06-19T10:39:06.813578Z\", \"end_time\": \"2020-06-19T10:39:57.945871Z\", \"created_time\": \"2020-06-19T10:39:06.699067Z\", \"created_time_dt\": \"2020-06-19T10:39:06.699067Z\", \"duration\": \"0:00:51\", \"iteration\": \"3\", \"goal\": \"spearman_correlation_max\", \"run_name\": \"MaxAbsScaler, RandomForest\", \"run_properties\": \"copy=True\", \"primary_metric\": 0.86478998, \"best_metric\": 0.91497175}, {\"run_id\": \"AutoML_afab6e29-547c-4aba-8888-d56cddb118ec_4\", \"run_number\": 6, \"metric\": null, \"status\": \"Completed\", \"run_type\": null, \"training_percent\": \"100\", \"start_time\": \"2020-06-19T10:40:00.264729Z\", \"end_time\": \"2020-06-19T10:40:31.384131Z\", \"created_time\": \"2020-06-19T10:40:00.107336Z\", \"created_time_dt\": \"2020-06-19T10:40:00.107336Z\", \"duration\": \"0:00:31\", \"iteration\": \"4\", \"goal\": \"spearman_correlation_max\", \"run_name\": \"StandardScalerWrapper, ExtremeRandomTrees\", \"run_properties\": \"<azureml.automl.runtime.shared.model_wrappers.StandardScalerWrapper object at 0x7f039b5b8828\", \"primary_metric\": 0.81322326, \"best_metric\": 0.91497175}, {\"run_id\": \"AutoML_afab6e29-547c-4aba-8888-d56cddb118ec_5\", \"run_number\": 7, \"metric\": null, \"status\": \"Completed\", \"run_type\": null, \"training_percent\": \"100\", \"start_time\": \"2020-06-19T10:40:33.491447Z\", \"end_time\": \"2020-06-19T10:41:04.68627Z\", \"created_time\": \"2020-06-19T10:40:33.373552Z\", \"created_time_dt\": \"2020-06-19T10:40:33.373552Z\", \"duration\": \"0:00:31\", \"iteration\": \"5\", \"goal\": \"spearman_correlation_max\", \"run_name\": \"StandardScalerWrapper, LightGBM\", \"run_properties\": \"<azureml.automl.runtime.shared.model_wrappers.StandardScalerWrapper object at 0x7f045fffd630\", \"primary_metric\": 0.86289159, \"best_metric\": 0.91497175}, {\"run_id\": \"AutoML_afab6e29-547c-4aba-8888-d56cddb118ec_6\", \"run_number\": 8, \"metric\": null, \"status\": \"Completed\", \"run_type\": null, \"training_percent\": \"100\", \"start_time\": \"2020-06-19T10:41:06.904561Z\", \"end_time\": \"2020-06-19T10:41:42.642473Z\", \"created_time\": \"2020-06-19T10:41:06.782308Z\", \"created_time_dt\": \"2020-06-19T10:41:06.782308Z\", \"duration\": \"0:00:35\", \"iteration\": \"6\", \"goal\": \"spearman_correlation_max\", \"run_name\": \"StandardScalerWrapper, RandomForest\", \"run_properties\": \"<azureml.automl.runtime.shared.model_wrappers.StandardScalerWrapper object at 0x7f045ff494e0\", \"primary_metric\": 0.83683378, \"best_metric\": 0.91497175}, {\"run_id\": \"AutoML_afab6e29-547c-4aba-8888-d56cddb118ec_7\", \"run_number\": 9, \"metric\": null, \"status\": \"Completed\", \"run_type\": null, \"training_percent\": \"100\", \"start_time\": \"2020-06-19T10:41:44.844398Z\", \"end_time\": \"2020-06-19T10:42:40.747033Z\", \"created_time\": \"2020-06-19T10:41:44.713125Z\", \"created_time_dt\": \"2020-06-19T10:41:44.713125Z\", \"duration\": \"0:00:56\", \"iteration\": \"7\", \"goal\": \"spearman_correlation_max\", \"run_name\": \"MaxAbsScaler, ExtremeRandomTrees\", \"run_properties\": \"copy=True\", \"primary_metric\": 0.84863438, \"best_metric\": 0.91497175}, {\"run_id\": \"AutoML_afab6e29-547c-4aba-8888-d56cddb118ec_8\", \"run_number\": 10, \"metric\": null, \"status\": \"Completed\", \"run_type\": null, \"training_percent\": \"100\", \"start_time\": \"2020-06-19T10:42:46.408157Z\", \"end_time\": \"2020-06-19T10:43:24.298556Z\", \"created_time\": \"2020-06-19T10:42:45.450498Z\", \"created_time_dt\": \"2020-06-19T10:42:45.450498Z\", \"duration\": \"0:00:38\", \"iteration\": \"8\", \"goal\": \"spearman_correlation_max\", \"run_name\": \"StandardScalerWrapper, ExtremeRandomTrees\", \"run_properties\": \"<azureml.automl.runtime.shared.model_wrappers.StandardScalerWrapper object at 0x7f045fece0b8\", \"primary_metric\": 0.82038283, \"best_metric\": 0.91497175}, {\"run_id\": \"AutoML_afab6e29-547c-4aba-8888-d56cddb118ec_9\", \"run_number\": 11, \"metric\": null, \"status\": \"Completed\", \"run_type\": null, \"training_percent\": \"100\", \"start_time\": \"2020-06-19T10:43:27.049663Z\", \"end_time\": \"2020-06-19T10:43:58.68454Z\", \"created_time\": \"2020-06-19T10:43:26.901141Z\", \"created_time_dt\": \"2020-06-19T10:43:26.901141Z\", \"duration\": \"0:00:31\", \"iteration\": \"9\", \"goal\": \"spearman_correlation_max\", \"run_name\": \"MaxAbsScaler, DecisionTree\", \"run_properties\": \"copy=True\", \"primary_metric\": 0.86840979, \"best_metric\": 0.91497175}, {\"run_id\": \"AutoML_afab6e29-547c-4aba-8888-d56cddb118ec_10\", \"run_number\": 12, \"metric\": null, \"status\": \"Completed\", \"run_type\": null, \"training_percent\": \"100\", \"start_time\": \"2020-06-19T10:44:00.74939Z\", \"end_time\": \"2020-06-19T10:44:33.256956Z\", \"created_time\": \"2020-06-19T10:44:00.559071Z\", \"created_time_dt\": \"2020-06-19T10:44:00.559071Z\", \"duration\": \"0:00:32\", \"iteration\": \"10\", \"goal\": \"spearman_correlation_max\", \"run_name\": \"MaxAbsScaler, ExtremeRandomTrees\", \"run_properties\": \"copy=True\", \"primary_metric\": 0.81029425, \"best_metric\": 0.91497175}, {\"run_id\": \"AutoML_afab6e29-547c-4aba-8888-d56cddb118ec_11\", \"run_number\": 13, \"metric\": null, \"status\": \"Completed\", \"run_type\": null, \"training_percent\": \"100\", \"start_time\": \"2020-06-19T10:44:37.659882Z\", \"end_time\": \"2020-06-19T10:45:09.993963Z\", \"created_time\": \"2020-06-19T10:44:36.951597Z\", \"created_time_dt\": \"2020-06-19T10:44:36.951597Z\", \"duration\": \"0:00:33\", \"iteration\": \"11\", \"goal\": \"spearman_correlation_max\", \"run_name\": \"MaxAbsScaler, SGD\", \"run_properties\": \"copy=True\", \"primary_metric\": 0.79667211, \"best_metric\": 0.91497175}, {\"run_id\": \"AutoML_afab6e29-547c-4aba-8888-d56cddb118ec_12\", \"run_number\": 14, \"metric\": null, \"status\": \"Completed\", \"run_type\": null, \"training_percent\": \"100\", \"start_time\": \"2020-06-19T10:45:11.959304Z\", \"end_time\": \"2020-06-19T10:45:46.838556Z\", \"created_time\": \"2020-06-19T10:45:11.846824Z\", \"created_time_dt\": \"2020-06-19T10:45:11.846824Z\", \"duration\": \"0:00:34\", \"iteration\": \"12\", \"goal\": \"spearman_correlation_max\", \"run_name\": \"StandardScalerWrapper, RandomForest\", \"run_properties\": \"<azureml.automl.runtime.shared.model_wrappers.StandardScalerWrapper object at 0x7f045fe07f28\", \"primary_metric\": 0.86280355, \"best_metric\": 0.91497175}, {\"run_id\": \"AutoML_afab6e29-547c-4aba-8888-d56cddb118ec_13\", \"run_number\": 15, \"metric\": null, \"status\": \"Completed\", \"run_type\": null, \"training_percent\": \"100\", \"start_time\": \"2020-06-19T10:45:50.958058Z\", \"end_time\": \"2020-06-19T10:46:21.252118Z\", \"created_time\": \"2020-06-19T10:45:50.236347Z\", \"created_time_dt\": \"2020-06-19T10:45:50.236347Z\", \"duration\": \"0:00:31\", \"iteration\": \"13\", \"goal\": \"spearman_correlation_max\", \"run_name\": \"StandardScalerWrapper, DecisionTree\", \"run_properties\": \"<azureml.automl.runtime.shared.model_wrappers.StandardScalerWrapper object at 0x7f045feb2a58\", \"primary_metric\": 0.75519594, \"best_metric\": 0.91497175}, {\"run_id\": \"AutoML_afab6e29-547c-4aba-8888-d56cddb118ec_14\", \"run_number\": 16, \"metric\": null, \"status\": \"Completed\", \"run_type\": null, \"training_percent\": \"100\", \"start_time\": \"2020-06-19T10:46:23.127157Z\", \"end_time\": \"2020-06-19T10:46:53.550528Z\", \"created_time\": \"2020-06-19T10:46:23.004375Z\", \"created_time_dt\": \"2020-06-19T10:46:23.004375Z\", \"duration\": \"0:00:30\", \"iteration\": \"14\", \"goal\": \"spearman_correlation_max\", \"run_name\": \"MaxAbsScaler, SGD\", \"run_properties\": \"copy=True\", \"primary_metric\": 0.81193438, \"best_metric\": 0.91497175}, {\"run_id\": \"AutoML_afab6e29-547c-4aba-8888-d56cddb118ec_15\", \"run_number\": 17, \"metric\": null, \"status\": \"Completed\", \"run_type\": null, \"training_percent\": \"100\", \"start_time\": \"2020-06-19T10:46:58.209519Z\", \"end_time\": \"2020-06-19T10:47:29.100322Z\", \"created_time\": \"2020-06-19T10:46:57.474384Z\", \"created_time_dt\": \"2020-06-19T10:46:57.474384Z\", \"duration\": \"0:00:31\", \"iteration\": \"15\", \"goal\": \"spearman_correlation_max\", \"run_name\": \"MaxAbsScaler, DecisionTree\", \"run_properties\": \"copy=True\", \"primary_metric\": 0.84560957, \"best_metric\": 0.91497175}, {\"run_id\": \"AutoML_afab6e29-547c-4aba-8888-d56cddb118ec_16\", \"run_number\": 18, \"metric\": null, \"status\": \"Completed\", \"run_type\": null, \"training_percent\": \"100\", \"start_time\": \"2020-06-19T10:47:33.444237Z\", \"end_time\": \"2020-06-19T10:48:04.112601Z\", \"created_time\": \"2020-06-19T10:47:32.728907Z\", \"created_time_dt\": \"2020-06-19T10:47:32.728907Z\", \"duration\": \"0:00:31\", \"iteration\": \"16\", \"goal\": \"spearman_correlation_max\", \"run_name\": \"MaxAbsScaler, SGD\", \"run_properties\": \"copy=True\", \"primary_metric\": 0.8170865, \"best_metric\": 0.91497175}, {\"run_id\": \"AutoML_afab6e29-547c-4aba-8888-d56cddb118ec_17\", \"run_number\": 19, \"metric\": null, \"status\": \"Completed\", \"run_type\": null, \"training_percent\": \"100\", \"start_time\": \"2020-06-19T10:48:06.172706Z\", \"end_time\": \"2020-06-19T10:48:45.59105Z\", \"created_time\": \"2020-06-19T10:48:06.046526Z\", \"created_time_dt\": \"2020-06-19T10:48:06.046526Z\", \"duration\": \"0:00:39\", \"iteration\": \"17\", \"goal\": \"spearman_correlation_max\", \"run_name\": \"StandardScalerWrapper, ElasticNet\", \"run_properties\": \"<azureml.automl.runtime.shared.model_wrappers.StandardScalerWrapper object at 0x7f045fd48be0\", \"primary_metric\": 0.83624329, \"best_metric\": 0.91497175}, {\"run_id\": \"AutoML_afab6e29-547c-4aba-8888-d56cddb118ec_18\", \"run_number\": 20, \"metric\": null, \"status\": \"Completed\", \"run_type\": null, \"training_percent\": \"100\", \"start_time\": \"2020-06-19T10:48:50.194665Z\", \"end_time\": \"2020-06-19T10:49:23.959227Z\", \"created_time\": \"2020-06-19T10:48:49.471981Z\", \"created_time_dt\": \"2020-06-19T10:48:49.471981Z\", \"duration\": \"0:00:34\", \"iteration\": \"18\", \"goal\": \"spearman_correlation_max\", \"run_name\": \"StandardScalerWrapper, RandomForest\", \"run_properties\": \"<azureml.automl.runtime.shared.model_wrappers.StandardScalerWrapper object at 0x7f045fd94908\", \"primary_metric\": 0.86495919, \"best_metric\": 0.91497175}, {\"run_id\": \"AutoML_afab6e29-547c-4aba-8888-d56cddb118ec_19\", \"run_number\": 21, \"metric\": null, \"status\": \"Completed\", \"run_type\": null, \"training_percent\": \"100\", \"start_time\": \"2020-06-19T10:49:26.163677Z\", \"end_time\": \"2020-06-19T10:49:57.122663Z\", \"created_time\": \"2020-06-19T10:49:26.046968Z\", \"created_time_dt\": \"2020-06-19T10:49:26.046968Z\", \"duration\": \"0:00:31\", \"iteration\": \"19\", \"goal\": \"spearman_correlation_max\", \"run_name\": \"MaxAbsScaler, RandomForest\", \"run_properties\": \"copy=True\", \"primary_metric\": 0.8012155, \"best_metric\": 0.91497175}, {\"run_id\": \"AutoML_afab6e29-547c-4aba-8888-d56cddb118ec_20\", \"run_number\": 22, \"metric\": null, \"status\": \"Completed\", \"run_type\": null, \"training_percent\": \"100\", \"start_time\": \"2020-06-19T10:49:59.232616Z\", \"end_time\": \"2020-06-19T10:50:41.157058Z\", \"created_time\": \"2020-06-19T10:49:59.109006Z\", \"created_time_dt\": \"2020-06-19T10:49:59.109006Z\", \"duration\": \"0:00:42\", \"iteration\": \"20\", \"goal\": \"spearman_correlation_max\", \"run_name\": \"MaxAbsScaler, ElasticNet\", \"run_properties\": \"copy=True\", \"primary_metric\": 0.83624665, \"best_metric\": 0.91497175}, {\"run_id\": \"AutoML_afab6e29-547c-4aba-8888-d56cddb118ec_21\", \"run_number\": 23, \"metric\": null, \"status\": \"Completed\", \"run_type\": null, \"training_percent\": \"100\", \"start_time\": \"2020-06-19T10:50:43.736074Z\", \"end_time\": \"2020-06-19T10:51:16.650076Z\", \"created_time\": \"2020-06-19T10:50:43.618197Z\", \"created_time_dt\": \"2020-06-19T10:50:43.618197Z\", \"duration\": \"0:00:33\", \"iteration\": \"21\", \"goal\": \"spearman_correlation_max\", \"run_name\": \"MaxAbsScaler, ExtremeRandomTrees\", \"run_properties\": \"copy=True\", \"primary_metric\": 0.80376088, \"best_metric\": 0.91497175}, {\"run_id\": \"AutoML_afab6e29-547c-4aba-8888-d56cddb118ec_22\", \"run_number\": 24, \"metric\": null, \"status\": \"Completed\", \"run_type\": null, \"training_percent\": \"100\", \"start_time\": \"2020-06-19T10:51:18.714303Z\", \"end_time\": \"2020-06-19T10:51:49.281215Z\", \"created_time\": \"2020-06-19T10:51:18.602192Z\", \"created_time_dt\": \"2020-06-19T10:51:18.602192Z\", \"duration\": \"0:00:30\", \"iteration\": \"22\", \"goal\": \"spearman_correlation_max\", \"run_name\": \"MaxAbsScaler, DecisionTree\", \"run_properties\": \"copy=True\", \"primary_metric\": 0.86067774, \"best_metric\": 0.91497175}, {\"run_id\": \"AutoML_afab6e29-547c-4aba-8888-d56cddb118ec_23\", \"run_number\": 25, \"metric\": null, \"status\": \"Completed\", \"run_type\": null, \"training_percent\": \"100\", \"start_time\": \"2020-06-19T10:51:51.779444Z\", \"end_time\": \"2020-06-19T10:52:39.1386Z\", \"created_time\": \"2020-06-19T10:51:51.652065Z\", \"created_time_dt\": \"2020-06-19T10:51:51.652065Z\", \"duration\": \"0:00:47\", \"iteration\": \"23\", \"goal\": \"spearman_correlation_max\", \"run_name\": \"StandardScalerWrapper, LightGBM\", \"run_properties\": \"<azureml.automl.runtime.shared.model_wrappers.StandardScalerWrapper object at 0x7f045fbad278\", \"primary_metric\": 0.91153989, \"best_metric\": 0.91497175}, {\"run_id\": \"AutoML_afab6e29-547c-4aba-8888-d56cddb118ec_24\", \"run_number\": 26, \"metric\": null, \"status\": \"Completed\", \"run_type\": null, \"training_percent\": \"100\", \"start_time\": \"2020-06-19T10:52:39.819148Z\", \"end_time\": \"2020-06-19T10:54:08.661595Z\", \"created_time\": \"2020-06-19T10:52:39.673408Z\", \"created_time_dt\": \"2020-06-19T10:52:39.673408Z\", \"duration\": \"0:01:28\", \"iteration\": \"24\", \"goal\": \"spearman_correlation_max\", \"run_name\": \"VotingEnsemble\", \"run_properties\": \"estimators=[('0', Pipeline(memory=None,\\n     steps=[('maxabsscaler', MaxAbsScaler(copy=True\", \"primary_metric\": 0.9183499, \"best_metric\": 0.9183499}, {\"run_id\": \"AutoML_afab6e29-547c-4aba-8888-d56cddb118ec_25\", \"run_number\": 27, \"metric\": null, \"status\": \"Completed\", \"run_type\": null, \"training_percent\": \"100\", \"start_time\": \"2020-06-19T10:54:09.924116Z\", \"end_time\": \"2020-06-19T10:55:32.655521Z\", \"created_time\": \"2020-06-19T10:54:09.80377Z\", \"created_time_dt\": \"2020-06-19T10:54:09.80377Z\", \"duration\": \"0:01:22\", \"iteration\": \"25\", \"goal\": \"spearman_correlation_max\", \"run_name\": \"StackEnsemble\", \"run_properties\": \"base_learners=[('0', Pipeline(memory=None,\\n     steps=[('maxabsscaler', MaxAbsScaler(copy=True\", \"primary_metric\": 0.91915188, \"best_metric\": 0.91915188}], \"children_metrics\": {\"categories\": [0], \"series\": {\"explained_variance\": [{\"categories\": [\"0\", \"1\", \"2\", \"3\", \"4\", \"5\", \"6\", \"7\", \"8\", \"9\", \"10\", \"11\", \"12\", \"13\", \"14\", \"15\", \"16\", \"17\", \"18\", \"19\", \"20\", \"21\", \"22\", \"23\", \"24\", \"25\"], \"mode\": \"markers\", \"name\": \"explained_variance\", \"stepped\": false, \"type\": \"scatter\", \"data\": [0.8291625856258966, 0.7722145801895285, 0.5581050705065709, 0.7196964277132764, 0.6174723807445133, 0.7022195854920488, 0.610266359961168, 0.6718648926808191, 0.6089223596234442, 0.7276172828156626, 0.6017872210218046, 0.584091392973059, 0.679510826075667, 0.5183903271110297, 0.6192058005629015, 0.6869809746725807, 0.6241865143728829, 0.6469671674001823, 0.711922228149913, 0.4975172411339008, 0.6469619908160799, 0.45032772266349735, 0.7174392500788508, 0.8244675388221656, 0.8345075994860199, 0.8371048521719139]}, {\"categories\": [\"0\", \"1\", \"2\", \"3\", \"4\", \"5\", \"6\", \"7\", \"8\", \"9\", \"10\", \"11\", \"12\", \"13\", \"14\", \"15\", \"16\", \"17\", \"18\", \"19\", \"20\", \"21\", \"22\", \"23\", \"24\", \"25\"], \"mode\": \"lines\", \"name\": \"explained_variance_max\", \"stepped\": true, \"type\": \"scatter\", \"data\": [0.8291625856258966, 0.8291625856258966, 0.8291625856258966, 0.8291625856258966, 0.8291625856258966, 0.8291625856258966, 0.8291625856258966, 0.8291625856258966, 0.8291625856258966, 0.8291625856258966, 0.8291625856258966, 0.8291625856258966, 0.8291625856258966, 0.8291625856258966, 0.8291625856258966, 0.8291625856258966, 0.8291625856258966, 0.8291625856258966, 0.8291625856258966, 0.8291625856258966, 0.8291625856258966, 0.8291625856258966, 0.8291625856258966, 0.8291625856258966, 0.8345075994860199, 0.8371048521719139]}], \"mean_absolute_percentage_error\": [{\"categories\": [\"0\", \"1\", \"2\", \"3\", \"4\", \"5\", \"6\", \"7\", \"8\", \"9\", \"10\", \"11\", \"12\", \"13\", \"14\", \"15\", \"16\", \"17\", \"18\", \"19\", \"20\", \"21\", \"22\", \"23\", \"24\", \"25\"], \"mode\": \"markers\", \"name\": \"mean_absolute_percentage_error\", \"stepped\": false, \"type\": \"scatter\", \"data\": [17.99228836729695, 21.63618321699851, 34.283242140662836, 23.718414157220856, 29.76901462105817, 24.30748700125464, 31.386155595363903, 27.467069827759207, 31.013667802672067, 22.48507349291669, 31.142065822101927, 31.476978072253303, 27.405683551482007, 32.32005037559442, 29.26010520001621, 24.85500106096905, 29.331376244401905, 28.66423920834284, 24.465945808967252, 37.80880194937623, 28.662712668452798, 39.75211421631755, 23.275757198983122, 18.656251700252536, 17.59036645329043, 17.428767480775008]}, {\"categories\": [\"0\", \"1\", \"2\", \"3\", \"4\", \"5\", \"6\", \"7\", \"8\", \"9\", \"10\", \"11\", \"12\", \"13\", \"14\", \"15\", \"16\", \"17\", \"18\", \"19\", \"20\", \"21\", \"22\", \"23\", \"24\", \"25\"], \"mode\": \"lines\", \"name\": \"mean_absolute_percentage_error_min\", \"stepped\": true, \"type\": \"scatter\", \"data\": [17.99228836729695, 17.99228836729695, 17.99228836729695, 17.99228836729695, 17.99228836729695, 17.99228836729695, 17.99228836729695, 17.99228836729695, 17.99228836729695, 17.99228836729695, 17.99228836729695, 17.99228836729695, 17.99228836729695, 17.99228836729695, 17.99228836729695, 17.99228836729695, 17.99228836729695, 17.99228836729695, 17.99228836729695, 17.99228836729695, 17.99228836729695, 17.99228836729695, 17.99228836729695, 17.99228836729695, 17.59036645329043, 17.428767480775008]}], \"root_mean_squared_error\": [{\"categories\": [\"0\", \"1\", \"2\", \"3\", \"4\", \"5\", \"6\", \"7\", \"8\", \"9\", \"10\", \"11\", \"12\", \"13\", \"14\", \"15\", \"16\", \"17\", \"18\", \"19\", \"20\", \"21\", \"22\", \"23\", \"24\", \"25\"], \"mode\": \"markers\", \"name\": \"root_mean_squared_error\", \"stepped\": false, \"type\": \"scatter\", \"data\": [47697.44074452784, 55072.561825885976, 76703.8077047542, 61086.583023403735, 71363.68255262161, 62964.159784426054, 72026.51292574797, 66100.37814067262, 72142.32142593843, 60219.82683404983, 72806.55492082842, 74421.09827525313, 65324.56661056417, 79995.99357849298, 71218.73028280144, 64522.10726770803, 71779.43591836079, 68558.6462122066, 61927.38713650599, 81793.20008282756, 68559.14136972546, 85531.44854959482, 61328.303455745896, 48338.621235296516, 46941.80560989822, 46577.07969190769]}, {\"categories\": [\"0\", \"1\", \"2\", \"3\", \"4\", \"5\", \"6\", \"7\", \"8\", \"9\", \"10\", \"11\", \"12\", \"13\", \"14\", \"15\", \"16\", \"17\", \"18\", \"19\", \"20\", \"21\", \"22\", \"23\", \"24\", \"25\"], \"mode\": \"lines\", \"name\": \"root_mean_squared_error_min\", \"stepped\": true, \"type\": \"scatter\", \"data\": [47697.44074452784, 47697.44074452784, 47697.44074452784, 47697.44074452784, 47697.44074452784, 47697.44074452784, 47697.44074452784, 47697.44074452784, 47697.44074452784, 47697.44074452784, 47697.44074452784, 47697.44074452784, 47697.44074452784, 47697.44074452784, 47697.44074452784, 47697.44074452784, 47697.44074452784, 47697.44074452784, 47697.44074452784, 47697.44074452784, 47697.44074452784, 47697.44074452784, 47697.44074452784, 47697.44074452784, 46941.80560989822, 46577.07969190769]}], \"median_absolute_error\": [{\"categories\": [\"0\", \"1\", \"2\", \"3\", \"4\", \"5\", \"6\", \"7\", \"8\", \"9\", \"10\", \"11\", \"12\", \"13\", \"14\", \"15\", \"16\", \"17\", \"18\", \"19\", \"20\", \"21\", \"22\", \"23\", \"24\", \"25\"], \"mode\": \"markers\", \"name\": \"median_absolute_error\", \"stepped\": false, \"type\": \"scatter\", \"data\": [21274.882935321868, 27453.9671875, 43291.19115706651, 29445.17281100571, 39044.89664696723, 30651.52241336366, 39462.79327172371, 35657.70299097204, 40441.82432733611, 27401.84462063289, 40341.783539708704, 41350.24940132366, 34743.63474391842, 42387.95707237341, 39119.23379233053, 30724.974191412755, 39440.164050775726, 37415.582137342964, 31367.66949191614, 48000.68120562085, 37407.58479284132, 52124.997333506224, 28083.09074809729, 22464.358809814537, 20809.78405267257, 20571.55872756263]}, {\"categories\": [\"0\", \"1\", \"2\", \"3\", \"4\", \"5\", \"6\", \"7\", \"8\", \"9\", \"10\", \"11\", \"12\", \"13\", \"14\", \"15\", \"16\", \"17\", \"18\", \"19\", \"20\", \"21\", \"22\", \"23\", \"24\", \"25\"], \"mode\": \"lines\", \"name\": \"median_absolute_error_min\", \"stepped\": true, \"type\": \"scatter\", \"data\": [21274.882935321868, 21274.882935321868, 21274.882935321868, 21274.882935321868, 21274.882935321868, 21274.882935321868, 21274.882935321868, 21274.882935321868, 21274.882935321868, 21274.882935321868, 21274.882935321868, 21274.882935321868, 21274.882935321868, 21274.882935321868, 21274.882935321868, 21274.882935321868, 21274.882935321868, 21274.882935321868, 21274.882935321868, 21274.882935321868, 21274.882935321868, 21274.882935321868, 21274.882935321868, 21274.882935321868, 20809.78405267257, 20571.55872756263]}], \"r2_score\": [{\"categories\": [\"0\", \"1\", \"2\", \"3\", \"4\", \"5\", \"6\", \"7\", \"8\", \"9\", \"10\", \"11\", \"12\", \"13\", \"14\", \"15\", \"16\", \"17\", \"18\", \"19\", \"20\", \"21\", \"22\", \"23\", \"24\", \"25\"], \"mode\": \"markers\", \"name\": \"r2_score\", \"stepped\": false, \"type\": \"scatter\", \"data\": [0.8290726759622254, 0.7721269125508733, 0.5579582295347798, 0.719605827777998, 0.6173244263145568, 0.7021210223138544, 0.6101462275889309, 0.6716985217830419, 0.6087501425502546, 0.7274948590349866, 0.6016201698501812, 0.5838541123740676, 0.6793851954247347, 0.5182740945922634, 0.6188821750505994, 0.6868713700388879, 0.6128647970542704, 0.6467759231383529, 0.711839765436451, 0.4973297572694502, 0.6467706807232062, 0.4500921766604334, 0.7173580448803826, 0.8244042240391407, 0.8344312245128738, 0.8369887584765692]}, {\"categories\": [\"0\", \"1\", \"2\", \"3\", \"4\", \"5\", \"6\", \"7\", \"8\", \"9\", \"10\", \"11\", \"12\", \"13\", \"14\", \"15\", \"16\", \"17\", \"18\", \"19\", \"20\", \"21\", \"22\", \"23\", \"24\", \"25\"], \"mode\": \"lines\", \"name\": \"r2_score_max\", \"stepped\": true, \"type\": \"scatter\", \"data\": [0.8290726759622254, 0.8290726759622254, 0.8290726759622254, 0.8290726759622254, 0.8290726759622254, 0.8290726759622254, 0.8290726759622254, 0.8290726759622254, 0.8290726759622254, 0.8290726759622254, 0.8290726759622254, 0.8290726759622254, 0.8290726759622254, 0.8290726759622254, 0.8290726759622254, 0.8290726759622254, 0.8290726759622254, 0.8290726759622254, 0.8290726759622254, 0.8290726759622254, 0.8290726759622254, 0.8290726759622254, 0.8290726759622254, 0.8290726759622254, 0.8344312245128738, 0.8369887584765692]}], \"normalized_mean_absolute_error\": [{\"categories\": [\"0\", \"1\", \"2\", \"3\", \"4\", \"5\", \"6\", \"7\", \"8\", \"9\", \"10\", \"11\", \"12\", \"13\", \"14\", \"15\", \"16\", \"17\", \"18\", \"19\", \"20\", \"21\", \"22\", \"23\", \"24\", \"25\"], \"mode\": \"markers\", \"name\": \"normalized_mean_absolute_error\", \"stepped\": false, \"type\": \"scatter\", \"data\": [0.06618026113732842, 0.07922482242383935, 0.11783234539199894, 0.08777911155685442, 0.1075003659702561, 0.09169533589944745, 0.10965732366077643, 0.09874380451158682, 0.10988314200457756, 0.08480827327337541, 0.11083088453463796, 0.11298119456173279, 0.09763338675715497, 0.12037721388377762, 0.10656792161277906, 0.09307105894924854, 0.10730880485260738, 0.10235471513185099, 0.09034141916937881, 0.12691000489388093, 0.10235246006198362, 0.1340585776728191, 0.08692559955681625, 0.06796419926356916, 0.06477859864569105, 0.06419427452767837]}, {\"categories\": [\"0\", \"1\", \"2\", \"3\", \"4\", \"5\", \"6\", \"7\", \"8\", \"9\", \"10\", \"11\", \"12\", \"13\", \"14\", \"15\", \"16\", \"17\", \"18\", \"19\", \"20\", \"21\", \"22\", \"23\", \"24\", \"25\"], \"mode\": \"lines\", \"name\": \"normalized_mean_absolute_error_min\", \"stepped\": true, \"type\": \"scatter\", \"data\": [0.06618026113732842, 0.06618026113732842, 0.06618026113732842, 0.06618026113732842, 0.06618026113732842, 0.06618026113732842, 0.06618026113732842, 0.06618026113732842, 0.06618026113732842, 0.06618026113732842, 0.06618026113732842, 0.06618026113732842, 0.06618026113732842, 0.06618026113732842, 0.06618026113732842, 0.06618026113732842, 0.06618026113732842, 0.06618026113732842, 0.06618026113732842, 0.06618026113732842, 0.06618026113732842, 0.06618026113732842, 0.06618026113732842, 0.06618026113732842, 0.06477859864569105, 0.06419427452767837]}], \"mean_absolute_error\": [{\"categories\": [\"0\", \"1\", \"2\", \"3\", \"4\", \"5\", \"6\", \"7\", \"8\", \"9\", \"10\", \"11\", \"12\", \"13\", \"14\", \"15\", \"16\", \"17\", \"18\", \"19\", \"20\", \"21\", \"22\", \"23\", \"24\", \"25\"], \"mode\": \"markers\", \"name\": \"mean_absolute_error\", \"stepped\": false, \"type\": \"scatter\", \"data\": [32097.559012126556, 38424.19732520693, 57148.92317981027, 42573.04466329751, 52137.89249630614, 44472.42130190382, 53184.02129012389, 47890.94267572863, 53293.54363850413, 41132.18215413362, 53753.20066106848, 54796.10532482952, 47352.38784399367, 58383.189488059914, 51685.655118041075, 45139.649732503436, 52044.984971124286, 49642.241548378006, 43815.76897998706, 61551.60619354204, 49641.14783498218, 65018.678288472605, 42159.089636255, 32962.772571229565, 31417.74990035744, 31134.351534473062]}, {\"categories\": [\"0\", \"1\", \"2\", \"3\", \"4\", \"5\", \"6\", \"7\", \"8\", \"9\", \"10\", \"11\", \"12\", \"13\", \"14\", \"15\", \"16\", \"17\", \"18\", \"19\", \"20\", \"21\", \"22\", \"23\", \"24\", \"25\"], \"mode\": \"lines\", \"name\": \"mean_absolute_error_min\", \"stepped\": true, \"type\": \"scatter\", \"data\": [32097.559012126556, 32097.559012126556, 32097.559012126556, 32097.559012126556, 32097.559012126556, 32097.559012126556, 32097.559012126556, 32097.559012126556, 32097.559012126556, 32097.559012126556, 32097.559012126556, 32097.559012126556, 32097.559012126556, 32097.559012126556, 32097.559012126556, 32097.559012126556, 32097.559012126556, 32097.559012126556, 32097.559012126556, 32097.559012126556, 32097.559012126556, 32097.559012126556, 32097.559012126556, 32097.559012126556, 31417.74990035744, 31134.351534473062]}], \"normalized_root_mean_squared_log_error\": [{\"categories\": [\"0\", \"1\", \"2\", \"3\", \"4\", \"5\", \"6\", \"7\", \"8\", \"9\", \"10\", \"11\", \"12\", \"13\", \"14\", \"15\", \"16\", \"17\", \"18\", \"19\", \"20\", \"21\", \"22\", \"23\", \"24\", \"25\"], \"mode\": \"markers\", \"name\": \"normalized_root_mean_squared_log_error\", \"stepped\": false, \"type\": \"scatter\", \"data\": [0.06725591998430362, 0.07723572690480604, 0.10659397896274866, 0.08280651840349482, 0.09743163595591083, 0.08392204311489647, 0.09964815995421329, 0.09080437536891554, 0.0995729668938327, 0.0809610634464956, 0.1000944790348109, 0.10242667269066799, 0.0900672457568703, 0.10535513212245666, 0.10314908703362215, 0.08681019638966506, 0.10364377017001881, NaN, 0.08384601466151707, 0.11520101980902546, NaN, 0.11954432164887399, 0.08303000108850812, 0.07026779851608157, 0.0662290480092377, 0.06593646749338332]}, {\"categories\": [\"0\", \"1\", \"2\", \"3\", \"4\", \"5\", \"6\", \"7\", \"8\", \"9\", \"10\", \"11\", \"12\", \"13\", \"14\", \"15\", \"16\", \"17\", \"18\", \"19\", \"20\", \"21\", \"22\", \"23\", \"24\", \"25\"], \"mode\": \"lines\", \"name\": \"normalized_root_mean_squared_log_error_min\", \"stepped\": true, \"type\": \"scatter\", \"data\": [0.06725591998430362, 0.06725591998430362, 0.06725591998430362, 0.06725591998430362, 0.06725591998430362, 0.06725591998430362, 0.06725591998430362, 0.06725591998430362, 0.06725591998430362, 0.06725591998430362, 0.06725591998430362, 0.06725591998430362, 0.06725591998430362, 0.06725591998430362, 0.06725591998430362, 0.06725591998430362, 0.06725591998430362, 0.06725591998430362, 0.06725591998430362, 0.06725591998430362, 0.06725591998430362, 0.06725591998430362, 0.06725591998430362, 0.06725591998430362, 0.0662290480092377, 0.06593646749338332]}], \"normalized_median_absolute_error\": [{\"categories\": [\"0\", \"1\", \"2\", \"3\", \"4\", \"5\", \"6\", \"7\", \"8\", \"9\", \"10\", \"11\", \"12\", \"13\", \"14\", \"15\", \"16\", \"17\", \"18\", \"19\", \"20\", \"21\", \"22\", \"23\", \"24\", \"25\"], \"mode\": \"markers\", \"name\": \"normalized_median_absolute_error\", \"stepped\": false, \"type\": \"scatter\", \"data\": [0.04386555712207757, 0.056605884486043354, 0.08925981987098304, 0.060711446161058516, 0.08050460956236724, 0.06319875467186456, 0.0813662485344879, 0.07352073391650352, 0.08338486094353445, 0.05649841571917826, 0.08317859212891637, 0.08525789460934935, 0.07163606489028584, 0.08739748923174215, 0.08065788139498502, 0.06335020101239326, 0.0813195905393704, 0.07714521205550279, 0.06467534049739204, 0.09897006858862613, 0.07712872275339341, 0.10747377811536081, 0.05790304111755682, 0.04631807458487704, 0.04290659430821434, 0.042415410096376165]}, {\"categories\": [\"0\", \"1\", \"2\", \"3\", \"4\", \"5\", \"6\", \"7\", \"8\", \"9\", \"10\", \"11\", \"12\", \"13\", \"14\", \"15\", \"16\", \"17\", \"18\", \"19\", \"20\", \"21\", \"22\", \"23\", \"24\", \"25\"], \"mode\": \"lines\", \"name\": \"normalized_median_absolute_error_min\", \"stepped\": true, \"type\": \"scatter\", \"data\": [0.04386555712207757, 0.04386555712207757, 0.04386555712207757, 0.04386555712207757, 0.04386555712207757, 0.04386555712207757, 0.04386555712207757, 0.04386555712207757, 0.04386555712207757, 0.04386555712207757, 0.04386555712207757, 0.04386555712207757, 0.04386555712207757, 0.04386555712207757, 0.04386555712207757, 0.04386555712207757, 0.04386555712207757, 0.04386555712207757, 0.04386555712207757, 0.04386555712207757, 0.04386555712207757, 0.04386555712207757, 0.04386555712207757, 0.04386555712207757, 0.04290659430821434, 0.042415410096376165]}], \"root_mean_squared_log_error\": [{\"categories\": [\"0\", \"1\", \"2\", \"3\", \"4\", \"5\", \"6\", \"7\", \"8\", \"9\", \"10\", \"11\", \"12\", \"13\", \"14\", \"15\", \"16\", \"17\", \"18\", \"19\", \"20\", \"21\", \"22\", \"23\", \"24\", \"25\"], \"mode\": \"markers\", \"name\": \"root_mean_squared_log_error\", \"stepped\": false, \"type\": \"scatter\", \"data\": [0.23583704638562253, 0.27083185707558666, 0.37377838511364936, 0.2903661822827582, 0.3416500622357689, 0.2942778387312692, 0.3494224408326939, 0.3184111627778538, 0.3491587717122211, 0.2838949802473393, 0.3509874863147608, 0.3591654677255419, 0.3158263721668756, 0.36943429198687605, 0.36169865833461673, 0.3044053269581696, 0.3634332953719481, NaN, 0.2940112402535375, 0.40395950659381147, NaN, 0.41918956333394924, 0.29114983815073486, 0.24639838488448698, 0.2322362562444389, 0.23121030455564795]}, {\"categories\": [\"0\", \"1\", \"2\", \"3\", \"4\", \"5\", \"6\", \"7\", \"8\", \"9\", \"10\", \"11\", \"12\", \"13\", \"14\", \"15\", \"16\", \"17\", \"18\", \"19\", \"20\", \"21\", \"22\", \"23\", \"24\", \"25\"], \"mode\": \"lines\", \"name\": \"root_mean_squared_log_error_min\", \"stepped\": true, \"type\": \"scatter\", \"data\": [0.23583704638562253, 0.23583704638562253, 0.23583704638562253, 0.23583704638562253, 0.23583704638562253, 0.23583704638562253, 0.23583704638562253, 0.23583704638562253, 0.23583704638562253, 0.23583704638562253, 0.23583704638562253, 0.23583704638562253, 0.23583704638562253, 0.23583704638562253, 0.23583704638562253, 0.23583704638562253, 0.23583704638562253, 0.23583704638562253, 0.23583704638562253, 0.23583704638562253, 0.23583704638562253, 0.23583704638562253, 0.23583704638562253, 0.23583704638562253, 0.2322362562444389, 0.23121030455564795]}], \"spearman_correlation\": [{\"categories\": [\"0\", \"1\", \"2\", \"3\", \"4\", \"5\", \"6\", \"7\", \"8\", \"9\", \"10\", \"11\", \"12\", \"13\", \"14\", \"15\", \"16\", \"17\", \"18\", \"19\", \"20\", \"21\", \"22\", \"23\", \"24\", \"25\"], \"mode\": \"markers\", \"name\": \"spearman_correlation\", \"stepped\": false, \"type\": \"scatter\", \"data\": [0.9149717459882305, 0.8875300198190397, 0.821145810857241, 0.8647899798539654, 0.8132232623901634, 0.8628915890613824, 0.836833775482179, 0.8486343803271053, 0.820382834779686, 0.8684097893327534, 0.8102942496808841, 0.7966721112068792, 0.8628035460063611, 0.7551959405621942, 0.8119343848416742, 0.8456095746313247, 0.8170865016267271, 0.836243287647832, 0.8649591925399376, 0.8012154960252934, 0.8362466466550366, 0.8037608757562069, 0.8606777442703617, 0.9115398905382512, 0.9183499006525697, 0.9191518753090915]}, {\"categories\": [\"0\", \"1\", \"2\", \"3\", \"4\", \"5\", \"6\", \"7\", \"8\", \"9\", \"10\", \"11\", \"12\", \"13\", \"14\", \"15\", \"16\", \"17\", \"18\", \"19\", \"20\", \"21\", \"22\", \"23\", \"24\", \"25\"], \"mode\": \"lines\", \"name\": \"spearman_correlation_max\", \"stepped\": true, \"type\": \"scatter\", \"data\": [0.9149717459882305, 0.9149717459882305, 0.9149717459882305, 0.9149717459882305, 0.9149717459882305, 0.9149717459882305, 0.9149717459882305, 0.9149717459882305, 0.9149717459882305, 0.9149717459882305, 0.9149717459882305, 0.9149717459882305, 0.9149717459882305, 0.9149717459882305, 0.9149717459882305, 0.9149717459882305, 0.9149717459882305, 0.9149717459882305, 0.9149717459882305, 0.9149717459882305, 0.9149717459882305, 0.9149717459882305, 0.9149717459882305, 0.9149717459882305, 0.9183499006525697, 0.9191518753090915]}], \"normalized_root_mean_squared_error\": [{\"categories\": [\"0\", \"1\", \"2\", \"3\", \"4\", \"5\", \"6\", \"7\", \"8\", \"9\", \"10\", \"11\", \"12\", \"13\", \"14\", \"15\", \"16\", \"17\", \"18\", \"19\", \"20\", \"21\", \"22\", \"23\", \"24\", \"25\"], \"mode\": \"markers\", \"name\": \"normalized_root_mean_squared_error\", \"stepped\": false, \"type\": \"scatter\", \"data\": [0.09834483310280748, 0.11355120561541185, 0.15815152866329252, 0.12595119818764405, 0.1471410067435219, 0.1298224745143856, 0.14850766167097862, 0.1362888774493149, 0.148746441099085, 0.12416407939358978, 0.15011598904917595, 0.15344493069152937, 0.1346892726433379, 0.16493951278240707, 0.1468421373165501, 0.1330347241201233, 0.14799822664310822, 0.1413574505099084, 0.12768480776678443, 0.16864507792303451, 0.1413584714490362, 0.17635277493617516, 0.1264495887764296, 0.09966684928164525, 0.09678682894070174, 0.09603481983972786]}, {\"categories\": [\"0\", \"1\", \"2\", \"3\", \"4\", \"5\", \"6\", \"7\", \"8\", \"9\", \"10\", \"11\", \"12\", \"13\", \"14\", \"15\", \"16\", \"17\", \"18\", \"19\", \"20\", \"21\", \"22\", \"23\", \"24\", \"25\"], \"mode\": \"lines\", \"name\": \"normalized_root_mean_squared_error_min\", \"stepped\": true, \"type\": \"scatter\", \"data\": [0.09834483310280748, 0.09834483310280748, 0.09834483310280748, 0.09834483310280748, 0.09834483310280748, 0.09834483310280748, 0.09834483310280748, 0.09834483310280748, 0.09834483310280748, 0.09834483310280748, 0.09834483310280748, 0.09834483310280748, 0.09834483310280748, 0.09834483310280748, 0.09834483310280748, 0.09834483310280748, 0.09834483310280748, 0.09834483310280748, 0.09834483310280748, 0.09834483310280748, 0.09834483310280748, 0.09834483310280748, 0.09834483310280748, 0.09834483310280748, 0.09678682894070174, 0.09603481983972786]}]}, \"metricName\": null, \"primaryMetricName\": \"spearman_correlation\", \"showLegend\": false}, \"run_metrics\": [{\"name\": \"experiment_status\", \"run_id\": \"AutoML_afab6e29-547c-4aba-8888-d56cddb118ec\", \"categories\": [0, 1, 2, 3, 4, 5, 6, 7, 8, 9, 10, 11], \"series\": [{\"data\": [\"DatasetEvaluation\", \"FeaturesGeneration\", \"DatasetFeaturization\", \"DatasetFeaturizationCompleted\", \"DatasetCrossValidationSplit\", \"ModelSelection\", \"BestRunExplainModel\", \"ModelExplanationDataSetSetup\", \"PickSurrogateModel\", \"EngineeredFeatureExplanations\", \"EngineeredFeatureExplanations\", \"BestRunExplainModel\"]}]}, {\"name\": \"experiment_status_description\", \"run_id\": \"AutoML_afab6e29-547c-4aba-8888-d56cddb118ec\", \"categories\": [0, 1, 2, 3, 4, 5, 6, 7, 8, 9, 10, 11], \"series\": [{\"data\": [\"Gathering dataset statistics.\", \"Beginning to fit featurizers and featurize the dataset.\", \"Generating features for the dataset.\", \"Completed fit featurizers and featurizing the dataset.\", \"Generating individually featurized CV splits.\", \"Beginning model selection.\", \"Best run model explanations started\", \"Model explanations data setup completed\", \"Choosing LightGBM as the surrogate model for explanations\", \"Computation of engineered features started\", \"Computation of engineered features completed\", \"Best run model explanations completed\"]}]}, {\"name\": \"explained_variance\", \"run_id\": \"AutoML_afab6e29-547c-4aba-8888-d56cddb118ec\", \"categories\": [0], \"series\": [{\"data\": [0.8371048521719139]}]}, {\"name\": \"root_mean_squared_error\", \"run_id\": \"AutoML_afab6e29-547c-4aba-8888-d56cddb118ec\", \"categories\": [0], \"series\": [{\"data\": [46577.07969190769]}]}, {\"name\": \"mean_absolute_percentage_error\", \"run_id\": \"AutoML_afab6e29-547c-4aba-8888-d56cddb118ec\", \"categories\": [0], \"series\": [{\"data\": [17.428767480775008]}]}, {\"name\": \"median_absolute_error\", \"run_id\": \"AutoML_afab6e29-547c-4aba-8888-d56cddb118ec\", \"categories\": [0], \"series\": [{\"data\": [20571.55872756263]}]}, {\"name\": \"normalized_median_absolute_error\", \"run_id\": \"AutoML_afab6e29-547c-4aba-8888-d56cddb118ec\", \"categories\": [0], \"series\": [{\"data\": [0.042415410096376165]}]}, {\"name\": \"r2_score\", \"run_id\": \"AutoML_afab6e29-547c-4aba-8888-d56cddb118ec\", \"categories\": [0], \"series\": [{\"data\": [0.8369887584765692]}]}, {\"name\": \"normalized_mean_absolute_error\", \"run_id\": \"AutoML_afab6e29-547c-4aba-8888-d56cddb118ec\", \"categories\": [0], \"series\": [{\"data\": [0.06419427452767837]}]}, {\"name\": \"root_mean_squared_log_error\", \"run_id\": \"AutoML_afab6e29-547c-4aba-8888-d56cddb118ec\", \"categories\": [0], \"series\": [{\"data\": [0.23121030455564795]}]}, {\"name\": \"mean_absolute_error\", \"run_id\": \"AutoML_afab6e29-547c-4aba-8888-d56cddb118ec\", \"categories\": [0], \"series\": [{\"data\": [31134.351534473062]}]}, {\"name\": \"normalized_root_mean_squared_error\", \"run_id\": \"AutoML_afab6e29-547c-4aba-8888-d56cddb118ec\", \"categories\": [0], \"series\": [{\"data\": [0.09603481983972786]}]}, {\"name\": \"spearman_correlation\", \"run_id\": \"AutoML_afab6e29-547c-4aba-8888-d56cddb118ec\", \"categories\": [0], \"series\": [{\"data\": [0.9191518753090915]}]}, {\"name\": \"normalized_root_mean_squared_log_error\", \"run_id\": \"AutoML_afab6e29-547c-4aba-8888-d56cddb118ec\", \"categories\": [0], \"series\": [{\"data\": [0.06593646749338332]}]}], \"run_logs\": \"\\nRun is completed.\", \"graph\": {}, \"widget_settings\": {\"childWidgetDisplay\": \"popup\", \"send_telemetry\": false, \"log_level\": \"INFO\", \"sdk_version\": \"1.7.0\"}, \"loading\": false}"
     },
     "metadata": {},
     "output_type": "display_data"
    }
   ],
   "source": [
    "RunDetails(run).show()"
   ]
  },
  {
   "cell_type": "code",
   "execution_count": null,
   "metadata": {},
   "outputs": [],
   "source": [
    "best_run, fitted_model = run.get_output()"
   ]
  },
  {
   "cell_type": "code",
   "execution_count": 45,
   "metadata": {},
   "outputs": [
    {
     "name": "stdout",
     "output_type": "stream",
     "text": [
      "Run(Experiment: housing_experiment,\n",
      "Id: AutoML_afab6e29-547c-4aba-8888-d56cddb118ec_25,\n",
      "Type: None,\n",
      "Status: Completed)\n"
     ]
    }
   ],
   "source": [
    "print(best_run)"
   ]
  },
  {
   "cell_type": "code",
   "execution_count": 46,
   "metadata": {},
   "outputs": [
    {
     "name": "stdout",
     "output_type": "stream",
     "text": [
      "RegressionPipeline(pipeline=Pipeline(memory=None,\n",
      "     steps=[('datatransformer', DataTransformer(enable_dnn=None, enable_feature_sweeping=None,\n",
      "        feature_sweeping_config=None, feature_sweeping_timeout=None,\n",
      "        featurization_config=None, force_text_dnn=None,\n",
      "        is_cross_validation=None, is_onnx_compatible=None, logger=None,\n",
      "        obser...   random_state=None, selection='cyclic', tol=0.0001, verbose=0),\n",
      "            training_cv_folds=5))]),\n",
      "          stddev=None)\n"
     ]
    }
   ],
   "source": [
    "print(fitted_model)"
   ]
  },
  {
   "cell_type": "code",
   "execution_count": 58,
   "metadata": {},
   "outputs": [],
   "source": [
    "X_test = X_test.drop(\"median_house_value\", axis=\"columns\")"
   ]
  },
  {
   "cell_type": "code",
   "execution_count": 60,
   "metadata": {},
   "outputs": [
    {
     "name": "stdout",
     "output_type": "stream",
     "text": [
      "[ 59313.43202915  85031.56368723 459938.87405784 ... 297499.98837995\n",
      " 138472.30327682 131905.62019071]\n"
     ]
    }
   ],
   "source": [
    "y_predict = fitted_model.predict(X_test)\n",
    "print(y_predict)"
   ]
  }
 ],
 "metadata": {
  "kernelspec": {
   "display_name": "Python 3.6 - AzureML",
   "language": "python",
   "name": "python3-azureml"
  },
  "language_info": {
   "codemirror_mode": {
    "name": "ipython",
    "version": 3
   },
   "file_extension": ".py",
   "mimetype": "text/x-python",
   "name": "python",
   "nbconvert_exporter": "python",
   "pygments_lexer": "ipython3",
   "version": "3.6.9"
  }
 },
 "nbformat": 4,
 "nbformat_minor": 4
}

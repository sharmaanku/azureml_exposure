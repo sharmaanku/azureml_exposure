{
 "cells": [
  {
   "cell_type": "code",
   "execution_count": 3,
   "metadata": {
    "nteract": {
     "transient": {
      "deleting": false
     }
    }
   },
   "outputs": [],
   "source": [
    "from azureml.core.workspace import Workspace\r\n",
    "from azureml.core.dataset import Dataset\r\n",
    "from azureml.core.experiment import Experiment\r\n",
    "from azureml.train.automl import AutoMLConfig\r\n",
    "from azureml.widgets import RunDetails\r\n",
    "from sklearn.model_selection import train_test_split\r\n",
    "from sklearn.metrics import mean_squared_error"
   ]
  },
  {
   "cell_type": "code",
   "execution_count": 4,
   "metadata": {},
   "outputs": [],
   "source": [
    "ws = Workspace.from_config()"
   ]
  },
  {
   "cell_type": "code",
   "execution_count": 5,
   "metadata": {},
   "outputs": [
    {
     "data": {
      "text/plain": [
       "{'Iris': DatasetRegistration(id='1fe4a774-82c1-4c71-b205-375051bb4b2b', name='Iris', version=1, description='', tags={}), 'BankCustomer': DatasetRegistration(id='fc963daa-041c-49a8-9587-678e2e792e8e', name='BankCustomer', version=1, description='', tags={})}"
      ]
     },
     "execution_count": 5,
     "metadata": {},
     "output_type": "execute_result"
    }
   ],
   "source": [
    "ws.datasets"
   ]
  },
  {
   "cell_type": "code",
   "execution_count": 6,
   "metadata": {},
   "outputs": [],
   "source": [
    "iris_ds = Dataset.get_by_name(workspace=ws, name=\"Iris\")"
   ]
  },
  {
   "cell_type": "code",
   "execution_count": 7,
   "metadata": {},
   "outputs": [],
   "source": [
    "iris_df = iris_ds.to_pandas_dataframe()"
   ]
  },
  {
   "cell_type": "code",
   "execution_count": 35,
   "metadata": {},
   "outputs": [
    {
     "data": {
      "text/html": [
       "<div>\n",
       "<style scoped>\n",
       "    .dataframe tbody tr th:only-of-type {\n",
       "        vertical-align: middle;\n",
       "    }\n",
       "\n",
       "    .dataframe tbody tr th {\n",
       "        vertical-align: top;\n",
       "    }\n",
       "\n",
       "    .dataframe thead th {\n",
       "        text-align: right;\n",
       "    }\n",
       "</style>\n",
       "<table border=\"1\" class=\"dataframe\">\n",
       "  <thead>\n",
       "    <tr style=\"text-align: right;\">\n",
       "      <th></th>\n",
       "      <th>SepalLength</th>\n",
       "      <th>SepalWidth</th>\n",
       "      <th>PetalLength</th>\n",
       "      <th>PetalWidth</th>\n",
       "      <th>Class</th>\n",
       "    </tr>\n",
       "  </thead>\n",
       "  <tbody>\n",
       "    <tr>\n",
       "      <th>0</th>\n",
       "      <td>5.10</td>\n",
       "      <td>3.50</td>\n",
       "      <td>1.40</td>\n",
       "      <td>0.20</td>\n",
       "      <td>Iris-setosa</td>\n",
       "    </tr>\n",
       "    <tr>\n",
       "      <th>1</th>\n",
       "      <td>4.90</td>\n",
       "      <td>3.00</td>\n",
       "      <td>1.40</td>\n",
       "      <td>0.20</td>\n",
       "      <td>Iris-setosa</td>\n",
       "    </tr>\n",
       "    <tr>\n",
       "      <th>2</th>\n",
       "      <td>4.70</td>\n",
       "      <td>3.20</td>\n",
       "      <td>1.30</td>\n",
       "      <td>0.20</td>\n",
       "      <td>Iris-setosa</td>\n",
       "    </tr>\n",
       "    <tr>\n",
       "      <th>3</th>\n",
       "      <td>4.60</td>\n",
       "      <td>3.10</td>\n",
       "      <td>1.50</td>\n",
       "      <td>0.20</td>\n",
       "      <td>Iris-setosa</td>\n",
       "    </tr>\n",
       "    <tr>\n",
       "      <th>4</th>\n",
       "      <td>5.00</td>\n",
       "      <td>3.60</td>\n",
       "      <td>1.40</td>\n",
       "      <td>0.20</td>\n",
       "      <td>Iris-setosa</td>\n",
       "    </tr>\n",
       "  </tbody>\n",
       "</table>\n",
       "</div>"
      ],
      "text/plain": [
       "   SepalLength  SepalWidth  PetalLength  PetalWidth        Class\n",
       "0         5.10        3.50         1.40        0.20  Iris-setosa\n",
       "1         4.90        3.00         1.40        0.20  Iris-setosa\n",
       "2         4.70        3.20         1.30        0.20  Iris-setosa\n",
       "3         4.60        3.10         1.50        0.20  Iris-setosa\n",
       "4         5.00        3.60         1.40        0.20  Iris-setosa"
      ]
     },
     "execution_count": 35,
     "metadata": {},
     "output_type": "execute_result"
    }
   ],
   "source": [
    "iris_df.head()"
   ]
  },
  {
   "cell_type": "code",
   "execution_count": 36,
   "metadata": {},
   "outputs": [
    {
     "data": {
      "text/plain": [
       "Index(['SepalLength', 'SepalWidth', 'PetalLength', 'PetalWidth', 'Class'], dtype='object')"
      ]
     },
     "execution_count": 36,
     "metadata": {},
     "output_type": "execute_result"
    }
   ],
   "source": [
    "iris_df.columns"
   ]
  },
  {
   "cell_type": "code",
   "execution_count": 37,
   "metadata": {},
   "outputs": [],
   "source": [
    "iris_df = iris_df.rename(columns={\n",
    "    \"Column1\": \"SepalLength\",\n",
    "    \"Column2\": \"SepalWidth\",\n",
    "    \"Column3\": \"PetalLength\",\n",
    "    \"Column4\": \"PetalWidth\",\n",
    "    \"Column5\": \"Class\"\n",
    "})"
   ]
  },
  {
   "cell_type": "code",
   "execution_count": 38,
   "metadata": {},
   "outputs": [
    {
     "data": {
      "text/html": [
       "<div>\n",
       "<style scoped>\n",
       "    .dataframe tbody tr th:only-of-type {\n",
       "        vertical-align: middle;\n",
       "    }\n",
       "\n",
       "    .dataframe tbody tr th {\n",
       "        vertical-align: top;\n",
       "    }\n",
       "\n",
       "    .dataframe thead th {\n",
       "        text-align: right;\n",
       "    }\n",
       "</style>\n",
       "<table border=\"1\" class=\"dataframe\">\n",
       "  <thead>\n",
       "    <tr style=\"text-align: right;\">\n",
       "      <th></th>\n",
       "      <th>SepalLength</th>\n",
       "      <th>SepalWidth</th>\n",
       "      <th>PetalLength</th>\n",
       "      <th>PetalWidth</th>\n",
       "      <th>Class</th>\n",
       "    </tr>\n",
       "  </thead>\n",
       "  <tbody>\n",
       "    <tr>\n",
       "      <th>0</th>\n",
       "      <td>5.10</td>\n",
       "      <td>3.50</td>\n",
       "      <td>1.40</td>\n",
       "      <td>0.20</td>\n",
       "      <td>Iris-setosa</td>\n",
       "    </tr>\n",
       "    <tr>\n",
       "      <th>1</th>\n",
       "      <td>4.90</td>\n",
       "      <td>3.00</td>\n",
       "      <td>1.40</td>\n",
       "      <td>0.20</td>\n",
       "      <td>Iris-setosa</td>\n",
       "    </tr>\n",
       "    <tr>\n",
       "      <th>2</th>\n",
       "      <td>4.70</td>\n",
       "      <td>3.20</td>\n",
       "      <td>1.30</td>\n",
       "      <td>0.20</td>\n",
       "      <td>Iris-setosa</td>\n",
       "    </tr>\n",
       "    <tr>\n",
       "      <th>3</th>\n",
       "      <td>4.60</td>\n",
       "      <td>3.10</td>\n",
       "      <td>1.50</td>\n",
       "      <td>0.20</td>\n",
       "      <td>Iris-setosa</td>\n",
       "    </tr>\n",
       "    <tr>\n",
       "      <th>4</th>\n",
       "      <td>5.00</td>\n",
       "      <td>3.60</td>\n",
       "      <td>1.40</td>\n",
       "      <td>0.20</td>\n",
       "      <td>Iris-setosa</td>\n",
       "    </tr>\n",
       "  </tbody>\n",
       "</table>\n",
       "</div>"
      ],
      "text/plain": [
       "   SepalLength  SepalWidth  PetalLength  PetalWidth        Class\n",
       "0         5.10        3.50         1.40        0.20  Iris-setosa\n",
       "1         4.90        3.00         1.40        0.20  Iris-setosa\n",
       "2         4.70        3.20         1.30        0.20  Iris-setosa\n",
       "3         4.60        3.10         1.50        0.20  Iris-setosa\n",
       "4         5.00        3.60         1.40        0.20  Iris-setosa"
      ]
     },
     "execution_count": 38,
     "metadata": {},
     "output_type": "execute_result"
    }
   ],
   "source": [
    "iris_df.head()"
   ]
  },
  {
   "cell_type": "code",
   "execution_count": 39,
   "metadata": {},
   "outputs": [],
   "source": [
    "X_train, X_test = train_test_split(iris_df, test_size=0.2, random_state=42)"
   ]
  },
  {
   "cell_type": "code",
   "execution_count": 40,
   "metadata": {},
   "outputs": [],
   "source": [
    "automl_settings = {\n",
    "    \"iteration_timeout_minutes\": 2,\n",
    "    \"experiment_timeout_minutes\": 15,\n",
    "    \"enable_early_stopping\": True,\n",
    "    \"primary_metric\": 'AUC_weighted',\n",
    "    \"featurization\": 'auto',\n",
    "    \"n_cross_validations\": 5,\n",
    "}"
   ]
  },
  {
   "cell_type": "code",
   "execution_count": 44,
   "metadata": {},
   "outputs": [],
   "source": [
    "automl_config = AutoMLConfig(task='classification',\n",
    "    debug_log='automl_errors.log',\n",
    "    training_data=X_train,\n",
    "    label_column_name=\"Class\",\n",
    "    **automl_settings)"
   ]
  },
  {
   "cell_type": "code",
   "execution_count": 45,
   "metadata": {},
   "outputs": [],
   "source": [
    "experiment = Experiment(ws, \"iris_experiment\")"
   ]
  },
  {
   "cell_type": "code",
   "execution_count": 46,
   "metadata": {},
   "outputs": [
    {
     "name": "stdout",
     "output_type": "stream",
     "text": [
      "Running on local machine\n",
      "Parent Run ID: AutoML_de22720f-3457-4cb4-a8c8-29529b1b7325\n",
      "\n",
      "Current status: DatasetEvaluation. Gathering dataset statistics.\n",
      "Current status: FeaturesGeneration. Generating features for the dataset.\n",
      "Current status: DatasetFeaturization. Beginning to fit featurizers and featurize the dataset.\n",
      "Current status: DatasetFeaturizationCompleted. Completed fit featurizers and featurizing the dataset.\n",
      "Current status: DatasetCrossValidationSplit. Generating individually featurized CV splits.\n",
      "\n",
      "****************************************************************************************************\n",
      "DATA GUARDRAILS: \n",
      "\n",
      "TYPE:         Class balancing detection\n",
      "STATUS:       PASSED\n",
      "DESCRIPTION:  Your inputs were analyzed, and all classes are balanced in your training data.\n",
      "              Learn more about imbalanced data: https://aka.ms/AutomatedMLImbalancedData\n",
      "\n",
      "****************************************************************************************************\n",
      "\n",
      "TYPE:         Missing feature values imputation\n",
      "STATUS:       PASSED\n",
      "DESCRIPTION:  No feature missing values were detected in the training data.\n",
      "              Learn more about missing value imputation: https://aka.ms/AutomatedMLFeaturization\n",
      "\n",
      "****************************************************************************************************\n",
      "\n",
      "TYPE:         High cardinality feature detection\n",
      "STATUS:       PASSED\n",
      "DESCRIPTION:  Your inputs were analyzed, and no high cardinality features were detected.\n",
      "              Learn more about high cardinality feature handling: https://aka.ms/AutomatedMLFeaturization\n",
      "\n",
      "****************************************************************************************************\n",
      "Current status: ModelSelection. Beginning model selection.\n",
      "\n",
      "****************************************************************************************************\n",
      "ITERATION: The iteration being evaluated.\n",
      "PIPELINE: A summary description of the pipeline being evaluated.\n",
      "DURATION: Time taken for the current iteration.\n",
      "METRIC: The result of computing score on the fitted pipeline.\n",
      "BEST: The best observed score thus far.\n",
      "****************************************************************************************************\n",
      "\n",
      " ITERATION   PIPELINE                                       DURATION      METRIC      BEST\n",
      "         0   MaxAbsScaler LightGBM                          0:00:25       0.9899    0.9899\n",
      "         1   MaxAbsScaler XGBoostClassifier                 0:00:22       0.9734    0.9899\n",
      "         2   SparseNormalizer KNN                           0:00:22       0.9912    0.9912\n",
      "         3   MinMaxScaler RandomForest                      0:00:23       0.9882    0.9912\n",
      "         4   StandardScalerWrapper SGD                      0:00:22       0.8978    0.9912\n",
      "         5   MinMaxScaler SGD                               0:00:21       0.9378    0.9912\n",
      "         6   StandardScalerWrapper RandomForest             0:00:34       0.9747    0.9912\n",
      "         7   MaxAbsScaler SGD                               0:00:21       0.9904    0.9912\n",
      "         8   MaxAbsScaler ExtremeRandomTrees                0:00:22       0.9957    0.9957\n",
      "         9   StandardScalerWrapper SGD                      0:00:22       0.9599    0.9957\n",
      "        10   MinMaxScaler ExtremeRandomTrees                0:00:23       0.9925    0.9957\n",
      "        11   StandardScalerWrapper SGD                      0:00:22       0.9420    0.9957\n",
      "        12   MinMaxScaler SGD                               0:00:23       0.9520    0.9957\n",
      "        13   RobustScaler ExtremeRandomTrees                0:00:23       0.9927    0.9957\n",
      "        14   MaxAbsScaler RandomForest                      0:00:22       0.9859    0.9957\n",
      "        15   MaxAbsScaler SGD                               0:00:23       0.9532    0.9957\n",
      "        16   StandardScalerWrapper SGD                      0:00:23       0.9570    0.9957\n",
      "        17   MinMaxScaler RandomForest                      0:00:23       0.9867    0.9957\n",
      "        18   StandardScalerWrapper SGD                      0:00:21       0.9371    0.9957\n",
      "        19   MinMaxScaler SGD                               0:00:23       0.9519    0.9957\n",
      "        20   StandardScalerWrapper SGD                      0:00:21       0.8818    0.9957\n",
      "        21   RobustScaler ExtremeRandomTrees                0:00:23       0.9946    0.9957\n",
      "        22   StandardScalerWrapper XGBoostClassifier        0:00:22       0.9820    0.9957\n",
      "        23   MinMaxScaler LightGBM                          0:00:22       0.9868    0.9957\n",
      "        24   StandardScalerWrapper KNN                      0:00:22       0.9890    0.9957\n",
      "        25   StandardScalerWrapper ExtremeRandomTrees       0:00:23       0.9228    0.9957\n",
      "        26   MaxAbsScaler LightGBM                          0:00:22       0.9855    0.9957\n",
      "        27   SparseNormalizer SVM                           0:00:23       0.9932    0.9957\n",
      "        28   RobustScaler KNN                               0:00:29       0.9927    0.9957\n",
      "        29   StandardScalerWrapper GradientBoosting         0:00:37       0.9824    0.9957\n",
      "        30   VotingEnsemble                                 0:00:40       0.9979    0.9979\n",
      "        31   StackEnsemble                                  0:00:38       0.9974    0.9979\n",
      "Stopping criteria reached at iteration 32. Ending experiment.\n",
      "****************************************************************************************************\n",
      "Current status: BestRunExplainModel. Best run model explanations started\n",
      "Current status: ModelExplanationDataSetSetup. Model explanations data setup completed\n",
      "Current status: PickSurrogateModel. Choosing LightGBM as the surrogate model for explanations\n",
      "Current status: EngineeredFeatureExplanations. Computation of engineered features started\n",
      "Current status: EngineeredFeatureExplanations. Computation of engineered features completed\n",
      "Current status: RawFeaturesExplanations. Computation of raw features started\n",
      "Current status: RawFeaturesExplanations. Computation of raw features completed\n",
      "Current status: BestRunExplainModel. Best run model explanations completed\n",
      "****************************************************************************************************\n"
     ]
    }
   ],
   "source": [
    "run = experiment.submit(automl_config, show_output=True)"
   ]
  },
  {
   "cell_type": "code",
   "execution_count": 48,
   "metadata": {},
   "outputs": [],
   "source": [
    "best_run, fitted_model = run.get_output()"
   ]
  },
  {
   "cell_type": "code",
   "execution_count": 50,
   "metadata": {},
   "outputs": [
    {
     "data": {
      "application/vnd.jupyter.widget-view+json": {
       "model_id": "ec5d3b0465f84115ad3cfc4f3e4e0b0e",
       "version_major": 2,
       "version_minor": 0
      },
      "text/plain": [
       "_AutoMLWidget(widget_settings={'childWidgetDisplay': 'popup', 'send_telemetry': False, 'log_level': 'INFO', 's…"
      ]
     },
     "metadata": {},
     "output_type": "display_data"
    },
    {
     "data": {
      "application/aml.mini.widget.v1": "{\"status\": \"Completed\", \"workbench_run_details_uri\": \"https://ml.azure.com/experiments/iris_experiment/runs/AutoML_de22720f-3457-4cb4-a8c8-29529b1b7325?wsid=/subscriptions/27f745d3-0df0-4402-b374-f48c258b0863/resourcegroups/demoRG/workspaces/gpuWorkspace\", \"run_id\": \"AutoML_de22720f-3457-4cb4-a8c8-29529b1b7325\", \"run_properties\": {\"run_id\": \"AutoML_de22720f-3457-4cb4-a8c8-29529b1b7325\", \"created_utc\": \"2020-11-24T22:09:04.437859Z\", \"properties\": {\"num_iterations\": \"1000\", \"training_type\": \"TrainFull\", \"acquisition_function\": \"EI\", \"primary_metric\": \"AUC_weighted\", \"train_split\": \"0\", \"acquisition_parameter\": \"0\", \"num_cross_validation\": \"5\", \"target\": \"local\", \"AMLSettingsJsonString\": \"{\\\"path\\\":null,\\\"name\\\":\\\"iris_experiment\\\",\\\"subscription_id\\\":\\\"27f745d3-0df0-4402-b374-f48c258b0863\\\",\\\"resource_group\\\":\\\"demoRG\\\",\\\"workspace_name\\\":\\\"gpuWorkspace\\\",\\\"region\\\":\\\"eastus\\\",\\\"compute_target\\\":\\\"local\\\",\\\"spark_service\\\":null,\\\"azure_service\\\":\\\"Microsoft.AzureNotebookVM\\\",\\\"_local_managed_run_id\\\":null,\\\"many_models\\\":false,\\\"pipeline_fetch_max_batch_size\\\":1,\\\"iterations\\\":1000,\\\"primary_metric\\\":\\\"AUC_weighted\\\",\\\"task_type\\\":\\\"classification\\\",\\\"data_script\\\":null,\\\"validation_size\\\":0.0,\\\"n_cross_validations\\\":5,\\\"y_min\\\":null,\\\"y_max\\\":null,\\\"num_classes\\\":3,\\\"featurization\\\":\\\"auto\\\",\\\"_ignore_package_version_incompatibilities\\\":false,\\\"is_timeseries\\\":false,\\\"max_cores_per_iteration\\\":1,\\\"max_concurrent_iterations\\\":1,\\\"iteration_timeout_minutes\\\":2,\\\"mem_in_mb\\\":null,\\\"enforce_time_on_windows\\\":false,\\\"experiment_timeout_minutes\\\":15,\\\"experiment_exit_score\\\":null,\\\"whitelist_models\\\":null,\\\"blacklist_algos\\\":[\\\"TensorFlowLinearClassifier\\\",\\\"TensorFlowDNN\\\"],\\\"supported_models\\\":[\\\"GradientBoosting\\\",\\\"TensorFlowDNN\\\",\\\"BernoulliNaiveBayes\\\",\\\"DecisionTree\\\",\\\"TensorFlowLinearClassifier\\\",\\\"RandomForest\\\",\\\"MultinomialNaiveBayes\\\",\\\"ExtremeRandomTrees\\\",\\\"LinearSVM\\\",\\\"LightGBM\\\",\\\"XGBoostClassifier\\\",\\\"SVM\\\",\\\"AveragedPerceptronClassifier\\\",\\\"SGD\\\",\\\"KNN\\\",\\\"LogisticRegression\\\"],\\\"auto_blacklist\\\":true,\\\"blacklist_samples_reached\\\":false,\\\"exclude_nan_labels\\\":true,\\\"verbosity\\\":20,\\\"_debug_log\\\":\\\"automl_errors.log\\\",\\\"show_warnings\\\":false,\\\"model_explainability\\\":true,\\\"service_url\\\":null,\\\"sdk_url\\\":null,\\\"sdk_packages\\\":null,\\\"enable_onnx_compatible_models\\\":false,\\\"enable_split_onnx_featurizer_estimator_models\\\":false,\\\"vm_type\\\":null,\\\"telemetry_verbosity\\\":20,\\\"send_telemetry\\\":true,\\\"enable_dnn\\\":false,\\\"scenario\\\":\\\"SDK-1.13.0\\\",\\\"environment_label\\\":null,\\\"force_text_dnn\\\":false,\\\"enable_feature_sweeping\\\":true,\\\"enable_early_stopping\\\":true,\\\"early_stopping_n_iters\\\":10,\\\"metrics\\\":null,\\\"enable_ensembling\\\":true,\\\"enable_stack_ensembling\\\":true,\\\"ensemble_iterations\\\":15,\\\"enable_tf\\\":false,\\\"enable_subsampling\\\":null,\\\"subsample_seed\\\":null,\\\"enable_nimbusml\\\":false,\\\"enable_streaming\\\":false,\\\"force_streaming\\\":false,\\\"track_child_runs\\\":true,\\\"allowed_private_models\\\":[],\\\"label_column_name\\\":\\\"Class\\\",\\\"weight_column_name\\\":null,\\\"cv_split_column_names\\\":null,\\\"enable_local_managed\\\":false,\\\"cost_mode\\\":1,\\\"lag_length\\\":0,\\\"metric_operation\\\":\\\"maximize\\\",\\\"preprocess\\\":true}\", \"DataPrepJsonString\": null, \"EnableSubsampling\": null, \"runTemplate\": \"AutoML\", \"azureml.runsource\": \"automl\", \"display_task_type\": \"classification\", \"dependencies_versions\": \"{\\\"azureml-widgets\\\": \\\"1.18.0\\\", \\\"azureml-train\\\": \\\"1.18.0\\\", \\\"azureml-train-restclients-hyperdrive\\\": \\\"1.18.0\\\", \\\"azureml-train-core\\\": \\\"1.18.0\\\", \\\"azureml-train-automl\\\": \\\"1.18.0\\\", \\\"azureml-train-automl-runtime\\\": \\\"1.18.0\\\", \\\"azureml-train-automl-client\\\": \\\"1.18.0\\\", \\\"azureml-tensorboard\\\": \\\"1.18.0\\\", \\\"azureml-telemetry\\\": \\\"1.18.0\\\", \\\"azureml-sdk\\\": \\\"1.18.0\\\", \\\"azureml-samples\\\": \\\"0+unknown\\\", \\\"azureml-pipeline\\\": \\\"1.18.0\\\", \\\"azureml-pipeline-steps\\\": \\\"1.18.0\\\", \\\"azureml-pipeline-core\\\": \\\"1.18.0\\\", \\\"azureml-opendatasets\\\": \\\"1.18.0\\\", \\\"azureml-model-management-sdk\\\": \\\"1.0.1b6.post1\\\", \\\"azureml-mlflow\\\": \\\"1.18.0\\\", \\\"azureml-interpret\\\": \\\"1.18.0\\\", \\\"azureml-explain-model\\\": \\\"1.18.0\\\", \\\"azureml-defaults\\\": \\\"1.18.0\\\", \\\"azureml-dataset-runtime\\\": \\\"1.18.0\\\", \\\"azureml-dataprep\\\": \\\"2.4.2\\\", \\\"azureml-dataprep-rslex\\\": \\\"1.2.2\\\", \\\"azureml-dataprep-native\\\": \\\"24.0.0\\\", \\\"azureml-datadrift\\\": \\\"1.18.0\\\", \\\"azureml-core\\\": \\\"1.18.0\\\", \\\"azureml-contrib-services\\\": \\\"1.18.0\\\", \\\"azureml-contrib-server\\\": \\\"1.18.0\\\", \\\"azureml-contrib-reinforcementlearning\\\": \\\"1.18.0\\\", \\\"azureml-contrib-pipeline-steps\\\": \\\"1.18.0\\\", \\\"azureml-contrib-notebook\\\": \\\"1.18.0\\\", \\\"azureml-contrib-interpret\\\": \\\"1.18.0\\\", \\\"azureml-contrib-gbdt\\\": \\\"1.18.0\\\", \\\"azureml-contrib-fairness\\\": \\\"1.18.0\\\", \\\"azureml-contrib-dataset\\\": \\\"1.18.0\\\", \\\"azureml-cli-common\\\": \\\"1.18.0\\\", \\\"azureml-automl-runtime\\\": \\\"1.18.0\\\", \\\"azureml-automl-core\\\": \\\"1.18.0\\\", \\\"azureml-accel-models\\\": \\\"1.18.0\\\"}\", \"_aml_system_scenario_identification\": \"Local.Parent\", \"ClientSdkVersion\": \"1.18.0\", \"ClientType\": \"SDK\", \"environment_cpu_name\": \"AzureML-AutoML\", \"environment_cpu_version\": \"48\", \"environment_gpu_name\": \"AzureML-AutoML-GPU\", \"environment_gpu_version\": \"36\", \"root_attribution\": \"automl\", \"attribution\": \"AutoML\", \"Orchestrator\": \"AutoML\", \"_azureml.ComputeTargetType\": \"local\", \"ProblemInfoJsonString\": \"{\\\"dataset_num_categorical\\\": 0, \\\"is_sparse\\\": false, \\\"subsampling\\\": false, \\\"dataset_classes\\\": 3, \\\"dataset_features\\\": 4, \\\"dataset_samples\\\": 120, \\\"single_frequency_class_detected\\\": false}\", \"feature_skus\": \"automatedml_sdk_guardrails\"}, \"tags\": {\"model_explain_run\": \"best_run\", \"best_score\": \"0.9979464285714286\", \"best_pipeline\": \"VotingEnsemble\", \"automl_best_child_run_id\": \"AutoML_de22720f-3457-4cb4-a8c8-29529b1b7325_30\", \"model_explain_best_run_child_id\": \"AutoML_de22720f-3457-4cb4-a8c8-29529b1b7325_30\"}, \"end_time_utc\": \"2020-11-24T22:23:34.802367Z\", \"status\": \"Completed\", \"log_files\": {}, \"log_groups\": [], \"run_duration\": \"0:14:30\"}, \"child_runs\": [{\"run_id\": \"AutoML_de22720f-3457-4cb4-a8c8-29529b1b7325_0\", \"run_number\": 2, \"metric\": null, \"status\": \"Completed\", \"run_type\": null, \"training_percent\": \"100\", \"start_time\": \"2020-11-24T22:09:22.038981Z\", \"end_time\": \"2020-11-24T22:09:47.014975Z\", \"created_time\": \"2020-11-24T22:09:21.890433Z\", \"created_time_dt\": \"2020-11-24T22:09:21.890433Z\", \"duration\": \"0:00:25\", \"iteration\": \"0\", \"goal\": \"AUC_weighted_max\", \"run_name\": \"MaxAbsScaler, LightGBM\", \"run_properties\": \"copy=True\", \"primary_metric\": 0.98993343, \"best_metric\": 0.98993343}, {\"run_id\": \"AutoML_de22720f-3457-4cb4-a8c8-29529b1b7325_1\", \"run_number\": 3, \"metric\": null, \"status\": \"Completed\", \"run_type\": null, \"training_percent\": \"100\", \"start_time\": \"2020-11-24T22:09:47.461632Z\", \"end_time\": \"2020-11-24T22:10:09.599816Z\", \"created_time\": \"2020-11-24T22:09:47.3118Z\", \"created_time_dt\": \"2020-11-24T22:09:47.3118Z\", \"duration\": \"0:00:22\", \"iteration\": \"1\", \"goal\": \"AUC_weighted_max\", \"run_name\": \"MaxAbsScaler, XGBoostClassifier\", \"run_properties\": \"copy=True\", \"primary_metric\": 0.9734097, \"best_metric\": 0.98993343}, {\"run_id\": \"AutoML_de22720f-3457-4cb4-a8c8-29529b1b7325_2\", \"run_number\": 4, \"metric\": null, \"status\": \"Completed\", \"run_type\": null, \"training_percent\": \"100\", \"start_time\": \"2020-11-24T22:10:11.520215Z\", \"end_time\": \"2020-11-24T22:10:34.016174Z\", \"created_time\": \"2020-11-24T22:10:11.009477Z\", \"created_time_dt\": \"2020-11-24T22:10:11.009477Z\", \"duration\": \"0:00:23\", \"iteration\": \"2\", \"goal\": \"AUC_weighted_max\", \"run_name\": \"SparseNormalizer, KNN\", \"run_properties\": \"<azureml.automl.runtime.shared.model_wrappers.SparseNormalizer object at 0x7fbd13ae69b0\", \"primary_metric\": 0.99122768, \"best_metric\": 0.99122768}, {\"run_id\": \"AutoML_de22720f-3457-4cb4-a8c8-29529b1b7325_3\", \"run_number\": 5, \"metric\": null, \"status\": \"Completed\", \"run_type\": null, \"training_percent\": \"100\", \"start_time\": \"2020-11-24T22:10:35.770941Z\", \"end_time\": \"2020-11-24T22:10:58.730693Z\", \"created_time\": \"2020-11-24T22:10:35.637844Z\", \"created_time_dt\": \"2020-11-24T22:10:35.637844Z\", \"duration\": \"0:00:23\", \"iteration\": \"3\", \"goal\": \"AUC_weighted_max\", \"run_name\": \"MinMaxScaler, RandomForest\", \"run_properties\": \"copy=True, feature_range=(0, 1\", \"primary_metric\": 0.98819353, \"best_metric\": 0.99122768}, {\"run_id\": \"AutoML_de22720f-3457-4cb4-a8c8-29529b1b7325_4\", \"run_number\": 6, \"metric\": null, \"status\": \"Completed\", \"run_type\": null, \"training_percent\": \"100\", \"start_time\": \"2020-11-24T22:11:01.567791Z\", \"end_time\": \"2020-11-24T22:11:24.246294Z\", \"created_time\": \"2020-11-24T22:11:01.073003Z\", \"created_time_dt\": \"2020-11-24T22:11:01.073003Z\", \"duration\": \"0:00:23\", \"iteration\": \"4\", \"goal\": \"AUC_weighted_max\", \"run_name\": \"StandardScalerWrapper, SGD\", \"run_properties\": \"<azureml.automl.runtime.shared.model_wrappers.StandardScalerWrapper object at 0x7fbd17ea2160\", \"primary_metric\": 0.89777177, \"best_metric\": 0.99122768}, {\"run_id\": \"AutoML_de22720f-3457-4cb4-a8c8-29529b1b7325_5\", \"run_number\": 7, \"metric\": null, \"status\": \"Completed\", \"run_type\": null, \"training_percent\": \"100\", \"start_time\": \"2020-11-24T22:11:25.953498Z\", \"end_time\": \"2020-11-24T22:11:47.721816Z\", \"created_time\": \"2020-11-24T22:11:25.830978Z\", \"created_time_dt\": \"2020-11-24T22:11:25.830978Z\", \"duration\": \"0:00:21\", \"iteration\": \"5\", \"goal\": \"AUC_weighted_max\", \"run_name\": \"MinMaxScaler, SGD\", \"run_properties\": \"copy=True, feature_range=(0, 1\", \"primary_metric\": 0.93778979, \"best_metric\": 0.99122768}, {\"run_id\": \"AutoML_de22720f-3457-4cb4-a8c8-29529b1b7325_6\", \"run_number\": 8, \"metric\": null, \"status\": \"Completed\", \"run_type\": null, \"training_percent\": \"100\", \"start_time\": \"2020-11-24T22:11:50.319103Z\", \"end_time\": \"2020-11-24T22:12:24.235598Z\", \"created_time\": \"2020-11-24T22:11:50.168038Z\", \"created_time_dt\": \"2020-11-24T22:11:50.168038Z\", \"duration\": \"0:00:34\", \"iteration\": \"6\", \"goal\": \"AUC_weighted_max\", \"run_name\": \"StandardScalerWrapper, RandomForest\", \"run_properties\": \"<azureml.automl.runtime.shared.model_wrappers.StandardScalerWrapper object at 0x7fbd17deaf28\", \"primary_metric\": 0.97468163, \"best_metric\": 0.99122768}, {\"run_id\": \"AutoML_de22720f-3457-4cb4-a8c8-29529b1b7325_7\", \"run_number\": 9, \"metric\": null, \"status\": \"Completed\", \"run_type\": null, \"training_percent\": \"100\", \"start_time\": \"2020-11-24T22:12:25.731921Z\", \"end_time\": \"2020-11-24T22:12:47.301778Z\", \"created_time\": \"2020-11-24T22:12:25.598325Z\", \"created_time_dt\": \"2020-11-24T22:12:25.598325Z\", \"duration\": \"0:00:21\", \"iteration\": \"7\", \"goal\": \"AUC_weighted_max\", \"run_name\": \"MaxAbsScaler, SGD\", \"run_properties\": \"copy=True\", \"primary_metric\": 0.99035793, \"best_metric\": 0.99122768}, {\"run_id\": \"AutoML_de22720f-3457-4cb4-a8c8-29529b1b7325_8\", \"run_number\": 10, \"metric\": null, \"status\": \"Completed\", \"run_type\": null, \"training_percent\": \"100\", \"start_time\": \"2020-11-24T22:12:49.041488Z\", \"end_time\": \"2020-11-24T22:13:11.445254Z\", \"created_time\": \"2020-11-24T22:12:48.909204Z\", \"created_time_dt\": \"2020-11-24T22:12:48.909204Z\", \"duration\": \"0:00:22\", \"iteration\": \"8\", \"goal\": \"AUC_weighted_max\", \"run_name\": \"MaxAbsScaler, ExtremeRandomTrees\", \"run_properties\": \"copy=True\", \"primary_metric\": 0.99571429, \"best_metric\": 0.99571429}, {\"run_id\": \"AutoML_de22720f-3457-4cb4-a8c8-29529b1b7325_9\", \"run_number\": 11, \"metric\": null, \"status\": \"Completed\", \"run_type\": null, \"training_percent\": \"100\", \"start_time\": \"2020-11-24T22:13:13.240687Z\", \"end_time\": \"2020-11-24T22:13:35.530557Z\", \"created_time\": \"2020-11-24T22:13:13.096316Z\", \"created_time_dt\": \"2020-11-24T22:13:13.096316Z\", \"duration\": \"0:00:22\", \"iteration\": \"9\", \"goal\": \"AUC_weighted_max\", \"run_name\": \"StandardScalerWrapper, SGD\", \"run_properties\": \"<azureml.automl.runtime.shared.model_wrappers.StandardScalerWrapper object at 0x7fbdf0428da0\", \"primary_metric\": 0.95989427, \"best_metric\": 0.99571429}, {\"run_id\": \"AutoML_de22720f-3457-4cb4-a8c8-29529b1b7325_10\", \"run_number\": 12, \"metric\": null, \"status\": \"Completed\", \"run_type\": null, \"training_percent\": \"100\", \"start_time\": \"2020-11-24T22:13:37.309128Z\", \"end_time\": \"2020-11-24T22:14:00.405382Z\", \"created_time\": \"2020-11-24T22:13:37.154889Z\", \"created_time_dt\": \"2020-11-24T22:13:37.154889Z\", \"duration\": \"0:00:23\", \"iteration\": \"10\", \"goal\": \"AUC_weighted_max\", \"run_name\": \"MinMaxScaler, ExtremeRandomTrees\", \"run_properties\": \"copy=True, feature_range=(0, 1\", \"primary_metric\": 0.99250744, \"best_metric\": 0.99571429}, {\"run_id\": \"AutoML_de22720f-3457-4cb4-a8c8-29529b1b7325_11\", \"run_number\": 13, \"metric\": null, \"status\": \"Completed\", \"run_type\": null, \"training_percent\": \"100\", \"start_time\": \"2020-11-24T22:14:01.984367Z\", \"end_time\": \"2020-11-24T22:14:24.623368Z\", \"created_time\": \"2020-11-24T22:14:01.831354Z\", \"created_time_dt\": \"2020-11-24T22:14:01.831354Z\", \"duration\": \"0:00:22\", \"iteration\": \"11\", \"goal\": \"AUC_weighted_max\", \"run_name\": \"StandardScalerWrapper, SGD\", \"run_properties\": \"<azureml.automl.runtime.shared.model_wrappers.StandardScalerWrapper object at 0x7fbd14b86be0\", \"primary_metric\": 0.94204026, \"best_metric\": 0.99571429}, {\"run_id\": \"AutoML_de22720f-3457-4cb4-a8c8-29529b1b7325_12\", \"run_number\": 14, \"metric\": null, \"status\": \"Completed\", \"run_type\": null, \"training_percent\": \"100\", \"start_time\": \"2020-11-24T22:14:26.570095Z\", \"end_time\": \"2020-11-24T22:14:49.649672Z\", \"created_time\": \"2020-11-24T22:14:26.43547Z\", \"created_time_dt\": \"2020-11-24T22:14:26.43547Z\", \"duration\": \"0:00:23\", \"iteration\": \"12\", \"goal\": \"AUC_weighted_max\", \"run_name\": \"MinMaxScaler, SGD\", \"run_properties\": \"copy=True, feature_range=(0, 1\", \"primary_metric\": 0.95198073, \"best_metric\": 0.99571429}, {\"run_id\": \"AutoML_de22720f-3457-4cb4-a8c8-29529b1b7325_13\", \"run_number\": 15, \"metric\": null, \"status\": \"Completed\", \"run_type\": null, \"training_percent\": \"100\", \"start_time\": \"2020-11-24T22:14:51.521378Z\", \"end_time\": \"2020-11-24T22:15:15.12367Z\", \"created_time\": \"2020-11-24T22:14:51.391161Z\", \"created_time_dt\": \"2020-11-24T22:14:51.391161Z\", \"duration\": \"0:00:23\", \"iteration\": \"13\", \"goal\": \"AUC_weighted_max\", \"run_name\": \"RobustScaler, ExtremeRandomTrees\", \"run_properties\": \"copy=True, quantile_range=[10, 90], with_centering=False,\\n             with_scaling=False\", \"primary_metric\": 0.99273105, \"best_metric\": 0.99571429}, {\"run_id\": \"AutoML_de22720f-3457-4cb4-a8c8-29529b1b7325_14\", \"run_number\": 16, \"metric\": null, \"status\": \"Completed\", \"run_type\": null, \"training_percent\": \"100\", \"start_time\": \"2020-11-24T22:15:16.730896Z\", \"end_time\": \"2020-11-24T22:15:38.903592Z\", \"created_time\": \"2020-11-24T22:15:16.593885Z\", \"created_time_dt\": \"2020-11-24T22:15:16.593885Z\", \"duration\": \"0:00:22\", \"iteration\": \"14\", \"goal\": \"AUC_weighted_max\", \"run_name\": \"MaxAbsScaler, RandomForest\", \"run_properties\": \"copy=True\", \"primary_metric\": 0.98593828, \"best_metric\": 0.99571429}, {\"run_id\": \"AutoML_de22720f-3457-4cb4-a8c8-29529b1b7325_15\", \"run_number\": 17, \"metric\": null, \"status\": \"Completed\", \"run_type\": null, \"training_percent\": \"100\", \"start_time\": \"2020-11-24T22:15:40.410879Z\", \"end_time\": \"2020-11-24T22:16:03.480647Z\", \"created_time\": \"2020-11-24T22:15:40.250008Z\", \"created_time_dt\": \"2020-11-24T22:15:40.250008Z\", \"duration\": \"0:00:23\", \"iteration\": \"15\", \"goal\": \"AUC_weighted_max\", \"run_name\": \"MaxAbsScaler, SGD\", \"run_properties\": \"copy=True\", \"primary_metric\": 0.95324013, \"best_metric\": 0.99571429}, {\"run_id\": \"AutoML_de22720f-3457-4cb4-a8c8-29529b1b7325_16\", \"run_number\": 18, \"metric\": null, \"status\": \"Completed\", \"run_type\": null, \"training_percent\": \"100\", \"start_time\": \"2020-11-24T22:16:05.877648Z\", \"end_time\": \"2020-11-24T22:16:29.156479Z\", \"created_time\": \"2020-11-24T22:16:05.739562Z\", \"created_time_dt\": \"2020-11-24T22:16:05.739562Z\", \"duration\": \"0:00:23\", \"iteration\": \"16\", \"goal\": \"AUC_weighted_max\", \"run_name\": \"StandardScalerWrapper, SGD\", \"run_properties\": \"<azureml.automl.runtime.shared.model_wrappers.StandardScalerWrapper object at 0x7fbd13aff630\", \"primary_metric\": 0.95704887, \"best_metric\": 0.99571429}, {\"run_id\": \"AutoML_de22720f-3457-4cb4-a8c8-29529b1b7325_17\", \"run_number\": 19, \"metric\": null, \"status\": \"Completed\", \"run_type\": null, \"training_percent\": \"100\", \"start_time\": \"2020-11-24T22:16:30.820953Z\", \"end_time\": \"2020-11-24T22:16:53.965245Z\", \"created_time\": \"2020-11-24T22:16:30.660043Z\", \"created_time_dt\": \"2020-11-24T22:16:30.660043Z\", \"duration\": \"0:00:23\", \"iteration\": \"17\", \"goal\": \"AUC_weighted_max\", \"run_name\": \"MinMaxScaler, RandomForest\", \"run_properties\": \"copy=True, feature_range=(0, 1\", \"primary_metric\": 0.98671248, \"best_metric\": 0.99571429}, {\"run_id\": \"AutoML_de22720f-3457-4cb4-a8c8-29529b1b7325_18\", \"run_number\": 20, \"metric\": null, \"status\": \"Completed\", \"run_type\": null, \"training_percent\": \"100\", \"start_time\": \"2020-11-24T22:16:55.406789Z\", \"end_time\": \"2020-11-24T22:17:17.100705Z\", \"created_time\": \"2020-11-24T22:16:55.273887Z\", \"created_time_dt\": \"2020-11-24T22:16:55.273887Z\", \"duration\": \"0:00:21\", \"iteration\": \"18\", \"goal\": \"AUC_weighted_max\", \"run_name\": \"StandardScalerWrapper, SGD\", \"run_properties\": \"<azureml.automl.runtime.shared.model_wrappers.StandardScalerWrapper object at 0x7fbdf03c3898\", \"primary_metric\": 0.93711623, \"best_metric\": 0.99571429}, {\"run_id\": \"AutoML_de22720f-3457-4cb4-a8c8-29529b1b7325_19\", \"run_number\": 21, \"metric\": null, \"status\": \"Completed\", \"run_type\": null, \"training_percent\": \"100\", \"start_time\": \"2020-11-24T22:17:19.148254Z\", \"end_time\": \"2020-11-24T22:17:42.248724Z\", \"created_time\": \"2020-11-24T22:17:18.927944Z\", \"created_time_dt\": \"2020-11-24T22:17:18.927944Z\", \"duration\": \"0:00:23\", \"iteration\": \"19\", \"goal\": \"AUC_weighted_max\", \"run_name\": \"MinMaxScaler, SGD\", \"run_properties\": \"copy=True, feature_range=(0, 1\", \"primary_metric\": 0.95192278, \"best_metric\": 0.99571429}, {\"run_id\": \"AutoML_de22720f-3457-4cb4-a8c8-29529b1b7325_20\", \"run_number\": 22, \"metric\": null, \"status\": \"Completed\", \"run_type\": null, \"training_percent\": \"100\", \"start_time\": \"2020-11-24T22:17:43.864042Z\", \"end_time\": \"2020-11-24T22:18:05.610212Z\", \"created_time\": \"2020-11-24T22:17:43.729282Z\", \"created_time_dt\": \"2020-11-24T22:17:43.729282Z\", \"duration\": \"0:00:21\", \"iteration\": \"20\", \"goal\": \"AUC_weighted_max\", \"run_name\": \"StandardScalerWrapper, SGD\", \"run_properties\": \"<azureml.automl.runtime.shared.model_wrappers.StandardScalerWrapper object at 0x7fbdf037d2e8\", \"primary_metric\": 0.88181391, \"best_metric\": 0.99571429}, {\"run_id\": \"AutoML_de22720f-3457-4cb4-a8c8-29529b1b7325_21\", \"run_number\": 23, \"metric\": null, \"status\": \"Completed\", \"run_type\": null, \"training_percent\": \"100\", \"start_time\": \"2020-11-24T22:18:07.170206Z\", \"end_time\": \"2020-11-24T22:18:30.410674Z\", \"created_time\": \"2020-11-24T22:18:07.015539Z\", \"created_time_dt\": \"2020-11-24T22:18:07.015539Z\", \"duration\": \"0:00:23\", \"iteration\": \"21\", \"goal\": \"AUC_weighted_max\", \"run_name\": \"RobustScaler, ExtremeRandomTrees\", \"run_properties\": \"copy=True, quantile_range=[10, 90], with_centering=False,\\n             with_scaling=False\", \"primary_metric\": 0.99459821, \"best_metric\": 0.99571429}, {\"run_id\": \"AutoML_de22720f-3457-4cb4-a8c8-29529b1b7325_22\", \"run_number\": 24, \"metric\": null, \"status\": \"Completed\", \"run_type\": null, \"training_percent\": \"100\", \"start_time\": \"2020-11-24T22:18:31.94183Z\", \"end_time\": \"2020-11-24T22:18:54.828206Z\", \"created_time\": \"2020-11-24T22:18:31.763287Z\", \"created_time_dt\": \"2020-11-24T22:18:31.763287Z\", \"duration\": \"0:00:23\", \"iteration\": \"22\", \"goal\": \"AUC_weighted_max\", \"run_name\": \"StandardScalerWrapper, XGBoostClassifier\", \"run_properties\": \"<azureml.automl.runtime.shared.model_wrappers.StandardScalerWrapper object at 0x7fbd17e6b198\", \"primary_metric\": 0.98201833, \"best_metric\": 0.99571429}, {\"run_id\": \"AutoML_de22720f-3457-4cb4-a8c8-29529b1b7325_23\", \"run_number\": 25, \"metric\": null, \"status\": \"Completed\", \"run_type\": null, \"training_percent\": \"100\", \"start_time\": \"2020-11-24T22:18:56.402996Z\", \"end_time\": \"2020-11-24T22:19:18.634376Z\", \"created_time\": \"2020-11-24T22:18:56.267936Z\", \"created_time_dt\": \"2020-11-24T22:18:56.267936Z\", \"duration\": \"0:00:22\", \"iteration\": \"23\", \"goal\": \"AUC_weighted_max\", \"run_name\": \"MinMaxScaler, LightGBM\", \"run_properties\": \"copy=True, feature_range=(0, 1\", \"primary_metric\": 0.98680216, \"best_metric\": 0.99571429}, {\"run_id\": \"AutoML_de22720f-3457-4cb4-a8c8-29529b1b7325_24\", \"run_number\": 26, \"metric\": null, \"status\": \"Completed\", \"run_type\": null, \"training_percent\": \"100\", \"start_time\": \"2020-11-24T22:19:20.613152Z\", \"end_time\": \"2020-11-24T22:19:42.538259Z\", \"created_time\": \"2020-11-24T22:19:20.448887Z\", \"created_time_dt\": \"2020-11-24T22:19:20.448887Z\", \"duration\": \"0:00:22\", \"iteration\": \"24\", \"goal\": \"AUC_weighted_max\", \"run_name\": \"StandardScalerWrapper, KNN\", \"run_properties\": \"<azureml.automl.runtime.shared.model_wrappers.StandardScalerWrapper object at 0x7fbcfc0a9710\", \"primary_metric\": 0.98899554, \"best_metric\": 0.99571429}, {\"run_id\": \"AutoML_de22720f-3457-4cb4-a8c8-29529b1b7325_25\", \"run_number\": 27, \"metric\": null, \"status\": \"Completed\", \"run_type\": null, \"training_percent\": \"100\", \"start_time\": \"2020-11-24T22:19:44.95861Z\", \"end_time\": \"2020-11-24T22:20:08.435483Z\", \"created_time\": \"2020-11-24T22:19:44.82408Z\", \"created_time_dt\": \"2020-11-24T22:19:44.82408Z\", \"duration\": \"0:00:23\", \"iteration\": \"25\", \"goal\": \"AUC_weighted_max\", \"run_name\": \"StandardScalerWrapper, ExtremeRandomTrees\", \"run_properties\": \"<azureml.automl.runtime.shared.model_wrappers.StandardScalerWrapper object at 0x7fbd0325fda0\", \"primary_metric\": 0.92277921, \"best_metric\": 0.99571429}, {\"run_id\": \"AutoML_de22720f-3457-4cb4-a8c8-29529b1b7325_26\", \"run_number\": 28, \"metric\": null, \"status\": \"Completed\", \"run_type\": null, \"training_percent\": \"100\", \"start_time\": \"2020-11-24T22:20:09.962268Z\", \"end_time\": \"2020-11-24T22:20:32.675052Z\", \"created_time\": \"2020-11-24T22:20:09.830476Z\", \"created_time_dt\": \"2020-11-24T22:20:09.830476Z\", \"duration\": \"0:00:22\", \"iteration\": \"26\", \"goal\": \"AUC_weighted_max\", \"run_name\": \"MaxAbsScaler, LightGBM\", \"run_properties\": \"copy=True\", \"primary_metric\": 0.9855412, \"best_metric\": 0.99571429}, {\"run_id\": \"AutoML_de22720f-3457-4cb4-a8c8-29529b1b7325_27\", \"run_number\": 29, \"metric\": null, \"status\": \"Completed\", \"run_type\": null, \"training_percent\": \"100\", \"start_time\": \"2020-11-24T22:20:34.065742Z\", \"end_time\": \"2020-11-24T22:20:57.005841Z\", \"created_time\": \"2020-11-24T22:20:33.917688Z\", \"created_time_dt\": \"2020-11-24T22:20:33.917688Z\", \"duration\": \"0:00:23\", \"iteration\": \"27\", \"goal\": \"AUC_weighted_max\", \"run_name\": \"SparseNormalizer, SVM\", \"run_properties\": \"<azureml.automl.runtime.shared.model_wrappers.SparseNormalizer object at 0x7fbcfe9cf7f0\", \"primary_metric\": 0.99318452, \"best_metric\": 0.99571429}, {\"run_id\": \"AutoML_de22720f-3457-4cb4-a8c8-29529b1b7325_28\", \"run_number\": 30, \"metric\": null, \"status\": \"Completed\", \"run_type\": null, \"training_percent\": \"100\", \"start_time\": \"2020-11-24T22:20:58.62601Z\", \"end_time\": \"2020-11-24T22:21:26.938632Z\", \"created_time\": \"2020-11-24T22:20:58.462911Z\", \"created_time_dt\": \"2020-11-24T22:20:58.462911Z\", \"duration\": \"0:00:28\", \"iteration\": \"28\", \"goal\": \"AUC_weighted_max\", \"run_name\": \"RobustScaler, KNN\", \"run_properties\": \"copy=True, quantile_range=[10, 90], with_centering=True,\\n             with_scaling=False\", \"primary_metric\": 0.99272321, \"best_metric\": 0.99571429}, {\"run_id\": \"AutoML_de22720f-3457-4cb4-a8c8-29529b1b7325_29\", \"run_number\": 31, \"metric\": null, \"status\": \"Completed\", \"run_type\": null, \"training_percent\": \"100\", \"start_time\": \"2020-11-24T22:21:31.14034Z\", \"end_time\": \"2020-11-24T22:22:07.955991Z\", \"created_time\": \"2020-11-24T22:21:30.199627Z\", \"created_time_dt\": \"2020-11-24T22:21:30.199627Z\", \"duration\": \"0:00:37\", \"iteration\": \"29\", \"goal\": \"AUC_weighted_max\", \"run_name\": \"StandardScalerWrapper, GradientBoosting\", \"run_properties\": \"<azureml.automl.runtime.shared.model_wrappers.StandardScalerWrapper object at 0x7fbd1651dd68\", \"primary_metric\": 0.98238957, \"best_metric\": 0.99571429}, {\"run_id\": \"AutoML_de22720f-3457-4cb4-a8c8-29529b1b7325_30\", \"run_number\": 32, \"metric\": null, \"status\": \"Completed\", \"run_type\": null, \"training_percent\": \"100\", \"start_time\": \"2020-11-24T22:22:11.440579Z\", \"end_time\": \"2020-11-24T22:22:51.729951Z\", \"created_time\": \"2020-11-24T22:22:10.461213Z\", \"created_time_dt\": \"2020-11-24T22:22:10.461213Z\", \"duration\": \"0:00:41\", \"iteration\": \"30\", \"goal\": \"AUC_weighted_max\", \"run_name\": \"VotingEnsemble\", \"run_properties\": \"classification_labels=None,\\n                              estimators=[('8',\\n                                           Pipeline(memory=None,\\n                                                    steps=[('maxabsscaler',\\n                                                            MaxAbsScaler(copy=True\", \"primary_metric\": 0.99794643, \"best_metric\": 0.99794643}, {\"run_id\": \"AutoML_de22720f-3457-4cb4-a8c8-29529b1b7325_31\", \"run_number\": 33, \"metric\": null, \"status\": \"Completed\", \"run_type\": null, \"training_percent\": \"100\", \"start_time\": \"2020-11-24T22:22:52.20942Z\", \"end_time\": \"2020-11-24T22:23:30.696727Z\", \"created_time\": \"2020-11-24T22:22:52.065612Z\", \"created_time_dt\": \"2020-11-24T22:22:52.065612Z\", \"duration\": \"0:00:38\", \"iteration\": \"31\", \"goal\": \"AUC_weighted_max\", \"run_name\": \"StackEnsemble\", \"run_properties\": \"base_learners=[('8',\\n                                        Pipeline(memory=None,\\n                                                 steps=[('maxabsscaler',\\n                                                         MaxAbsScaler(copy=True\", \"primary_metric\": 0.99735119, \"best_metric\": 0.99794643}], \"children_metrics\": {\"categories\": [0], \"series\": {\"recall_score_micro\": [{\"categories\": [\"0\", \"1\", \"2\", \"3\", \"4\", \"5\", \"6\", \"7\", \"8\", \"9\", \"10\", \"11\", \"12\", \"13\", \"14\", \"15\", \"16\", \"17\", \"18\", \"19\", \"20\", \"21\", \"22\", \"23\", \"24\", \"25\", \"26\", \"27\", \"28\", \"29\", \"30\", \"31\"], \"mode\": \"markers\", \"name\": \"recall_score_micro\", \"stepped\": false, \"type\": \"scatter\", \"data\": [0.9416666666666667, 0.9583333333333334, 0.9583333333333334, 0.9583333333333334, 0.8, 0.6916666666666667, 0.9416666666666667, 0.9083333333333332, 0.9416666666666667, 0.8666666666666666, 0.95, 0.8083333333333333, 0.8, 0.9583333333333334, 0.9583333333333334, 0.825, 0.85, 0.9583333333333334, 0.775, 0.8166666666666667, 0.7916666666666666, 0.9416666666666667, 0.9583333333333334, 0.95, 0.9583333333333334, 0.8083333333333333, 0.9333333333333332, 0.9583333333333334, 0.9583333333333334, 0.95, 0.9583333333333334, 0.9583333333333334]}, {\"categories\": [\"0\", \"1\", \"2\", \"3\", \"4\", \"5\", \"6\", \"7\", \"8\", \"9\", \"10\", \"11\", \"12\", \"13\", \"14\", \"15\", \"16\", \"17\", \"18\", \"19\", \"20\", \"21\", \"22\", \"23\", \"24\", \"25\", \"26\", \"27\", \"28\", \"29\", \"30\", \"31\"], \"mode\": \"lines\", \"name\": \"recall_score_micro_max\", \"stepped\": true, \"type\": \"scatter\", \"data\": [0.9416666666666667, 0.9583333333333334, 0.9583333333333334, 0.9583333333333334, 0.9583333333333334, 0.9583333333333334, 0.9583333333333334, 0.9583333333333334, 0.9583333333333334, 0.9583333333333334, 0.9583333333333334, 0.9583333333333334, 0.9583333333333334, 0.9583333333333334, 0.9583333333333334, 0.9583333333333334, 0.9583333333333334, 0.9583333333333334, 0.9583333333333334, 0.9583333333333334, 0.9583333333333334, 0.9583333333333334, 0.9583333333333334, 0.9583333333333334, 0.9583333333333334, 0.9583333333333334, 0.9583333333333334, 0.9583333333333334, 0.9583333333333334, 0.9583333333333334, 0.9583333333333334, 0.9583333333333334]}], \"average_precision_score_weighted\": [{\"categories\": [\"0\", \"1\", \"2\", \"3\", \"4\", \"5\", \"6\", \"7\", \"8\", \"9\", \"10\", \"11\", \"12\", \"13\", \"14\", \"15\", \"16\", \"17\", \"18\", \"19\", \"20\", \"21\", \"22\", \"23\", \"24\", \"25\", \"26\", \"27\", \"28\", \"29\", \"30\", \"31\"], \"mode\": \"markers\", \"name\": \"average_precision_score_weighted\", \"stepped\": false, \"type\": \"scatter\", \"data\": [0.9783107864357865, 0.9528752035002036, 0.9812695406445406, 0.9759794603544604, 0.8579220337124749, 0.9010575399545987, 0.9507371332371333, 0.9867657805157805, 0.9923262617012618, 0.9509761264850274, 0.9865743978243978, 0.9243330473419483, 0.9263760082510082, 0.9880501674251674, 0.9708619865972807, 0.9460773759980416, 0.9501739656828665, 0.9826806758056759, 0.9168332688553278, 0.9343361594832181, 0.8377851947888713, 0.9907933501683501, 0.9713603526103526, 0.9783775483775484, 0.9780119648869648, 0.8714143032893032, 0.9749411796780217, 0.9871954665704665, 0.9865058552558553, 0.9709912554765495, 0.9957239057239058, 0.9950925925925926]}, {\"categories\": [\"0\", \"1\", \"2\", \"3\", \"4\", \"5\", \"6\", \"7\", \"8\", \"9\", \"10\", \"11\", \"12\", \"13\", \"14\", \"15\", \"16\", \"17\", \"18\", \"19\", \"20\", \"21\", \"22\", \"23\", \"24\", \"25\", \"26\", \"27\", \"28\", \"29\", \"30\", \"31\"], \"mode\": \"lines\", \"name\": \"average_precision_score_weighted_max\", \"stepped\": true, \"type\": \"scatter\", \"data\": [0.9783107864357865, 0.9783107864357865, 0.9812695406445406, 0.9812695406445406, 0.9812695406445406, 0.9812695406445406, 0.9812695406445406, 0.9867657805157805, 0.9923262617012618, 0.9923262617012618, 0.9923262617012618, 0.9923262617012618, 0.9923262617012618, 0.9923262617012618, 0.9923262617012618, 0.9923262617012618, 0.9923262617012618, 0.9923262617012618, 0.9923262617012618, 0.9923262617012618, 0.9923262617012618, 0.9923262617012618, 0.9923262617012618, 0.9923262617012618, 0.9923262617012618, 0.9923262617012618, 0.9923262617012618, 0.9923262617012618, 0.9923262617012618, 0.9923262617012618, 0.9957239057239058, 0.9957239057239058]}], \"precision_score_weighted\": [{\"categories\": [\"0\", \"1\", \"2\", \"3\", \"4\", \"5\", \"6\", \"7\", \"8\", \"9\", \"10\", \"11\", \"12\", \"13\", \"14\", \"15\", \"16\", \"17\", \"18\", \"19\", \"20\", \"21\", \"22\", \"23\", \"24\", \"25\", \"26\", \"27\", \"28\", \"29\", \"30\", \"31\"], \"mode\": \"markers\", \"name\": \"precision_score_weighted\", \"stepped\": false, \"type\": \"scatter\", \"data\": [0.9453703703703704, 0.961574074074074, 0.9668350168350168, 0.961574074074074, 0.8851372354497353, 0.675190501506291, 0.9459259259259258, 0.9396969696969697, 0.9443061568061568, 0.9100071225071226, 0.9541666666666666, 0.869498556998557, 0.8708685064935064, 0.961574074074074, 0.961574074074074, 0.9105494505494505, 0.912274531024531, 0.961574074074074, 0.8722079425204425, 0.9070888024013023, 0.8792113095238093, 0.9443061568061568, 0.961574074074074, 0.9566137566137567, 0.9655363155363155, 0.7948520923520924, 0.942063492063492, 0.9639057239057239, 0.9614057239057239, 0.9535654160654161, 0.9614057239057239, 0.9614057239057239]}, {\"categories\": [\"0\", \"1\", \"2\", \"3\", \"4\", \"5\", \"6\", \"7\", \"8\", \"9\", \"10\", \"11\", \"12\", \"13\", \"14\", \"15\", \"16\", \"17\", \"18\", \"19\", \"20\", \"21\", \"22\", \"23\", \"24\", \"25\", \"26\", \"27\", \"28\", \"29\", \"30\", \"31\"], \"mode\": \"lines\", \"name\": \"precision_score_weighted_max\", \"stepped\": true, \"type\": \"scatter\", \"data\": [0.9453703703703704, 0.961574074074074, 0.9668350168350168, 0.9668350168350168, 0.9668350168350168, 0.9668350168350168, 0.9668350168350168, 0.9668350168350168, 0.9668350168350168, 0.9668350168350168, 0.9668350168350168, 0.9668350168350168, 0.9668350168350168, 0.9668350168350168, 0.9668350168350168, 0.9668350168350168, 0.9668350168350168, 0.9668350168350168, 0.9668350168350168, 0.9668350168350168, 0.9668350168350168, 0.9668350168350168, 0.9668350168350168, 0.9668350168350168, 0.9668350168350168, 0.9668350168350168, 0.9668350168350168, 0.9668350168350168, 0.9668350168350168, 0.9668350168350168, 0.9668350168350168, 0.9668350168350168]}], \"log_loss\": [{\"categories\": [\"0\", \"1\", \"2\", \"3\", \"4\", \"5\", \"6\", \"7\", \"8\", \"9\", \"10\", \"11\", \"12\", \"13\", \"14\", \"15\", \"16\", \"17\", \"18\", \"19\", \"20\", \"21\", \"22\", \"23\", \"24\", \"25\", \"26\", \"27\", \"28\", \"29\", \"30\", \"31\"], \"mode\": \"markers\", \"name\": \"log_loss\", \"stepped\": false, \"type\": \"scatter\", \"data\": [0.13212479766716817, 0.19525377131510535, 0.36057783861892595, 0.40208729273864313, 0.6942936793387082, 0.7564246935447586, 0.9293114737662457, 0.4576610934444295, 0.20945728291203897, 0.3980158685323108, 0.14443928897736905, 0.49837087627323184, 0.5564128297605323, 0.2856025094772673, 0.3766763282747828, 0.5843363818627811, 0.5041804219471905, 0.16317177226496543, 0.5173580271558263, 0.4993216663055994, 0.7414267741795363, 0.13253072423604634, 0.17073102758405073, 0.21035003986374412, 0.38511421080269304, 0.73096480026108, 0.32492534979390675, 0.16380896637823342, 0.09751202757887942, 0.23842212698087023, 0.15152173551224093, 0.12634025035010632]}, {\"categories\": [\"0\", \"1\", \"2\", \"3\", \"4\", \"5\", \"6\", \"7\", \"8\", \"9\", \"10\", \"11\", \"12\", \"13\", \"14\", \"15\", \"16\", \"17\", \"18\", \"19\", \"20\", \"21\", \"22\", \"23\", \"24\", \"25\", \"26\", \"27\", \"28\", \"29\", \"30\", \"31\"], \"mode\": \"lines\", \"name\": \"log_loss_min\", \"stepped\": true, \"type\": \"scatter\", \"data\": [0.13212479766716817, 0.13212479766716817, 0.13212479766716817, 0.13212479766716817, 0.13212479766716817, 0.13212479766716817, 0.13212479766716817, 0.13212479766716817, 0.13212479766716817, 0.13212479766716817, 0.13212479766716817, 0.13212479766716817, 0.13212479766716817, 0.13212479766716817, 0.13212479766716817, 0.13212479766716817, 0.13212479766716817, 0.13212479766716817, 0.13212479766716817, 0.13212479766716817, 0.13212479766716817, 0.13212479766716817, 0.13212479766716817, 0.13212479766716817, 0.13212479766716817, 0.13212479766716817, 0.13212479766716817, 0.13212479766716817, 0.09751202757887942, 0.09751202757887942, 0.09751202757887942, 0.09751202757887942]}], \"precision_score_macro\": [{\"categories\": [\"0\", \"1\", \"2\", \"3\", \"4\", \"5\", \"6\", \"7\", \"8\", \"9\", \"10\", \"11\", \"12\", \"13\", \"14\", \"15\", \"16\", \"17\", \"18\", \"19\", \"20\", \"21\", \"22\", \"23\", \"24\", \"25\", \"26\", \"27\", \"28\", \"29\", \"30\", \"31\"], \"mode\": \"markers\", \"name\": \"precision_score_macro\", \"stepped\": false, \"type\": \"scatter\", \"data\": [0.9483862433862434, 0.959074074074074, 0.9683501683501683, 0.959074074074074, 0.8754894179894179, 0.7141768562821195, 0.9461640211640212, 0.9192424242424242, 0.9348364598364599, 0.8854558404558406, 0.951851851851852, 0.8567604617604617, 0.8342857142857143, 0.959074074074074, 0.959074074074074, 0.8884981684981683, 0.8794372294372295, 0.959074074074074, 0.8354316979316978, 0.8946632071632072, 0.8695634920634921, 0.9348364598364599, 0.959074074074074, 0.9511375661375661, 0.9614237614237613, 0.7815728715728716, 0.9242063492063493, 0.9687542087542088, 0.9604208754208754, 0.9524290524290524, 0.9604208754208754, 0.9604208754208754]}, {\"categories\": [\"0\", \"1\", \"2\", \"3\", \"4\", \"5\", \"6\", \"7\", \"8\", \"9\", \"10\", \"11\", \"12\", \"13\", \"14\", \"15\", \"16\", \"17\", \"18\", \"19\", \"20\", \"21\", \"22\", \"23\", \"24\", \"25\", \"26\", \"27\", \"28\", \"29\", \"30\", \"31\"], \"mode\": \"lines\", \"name\": \"precision_score_macro_max\", \"stepped\": true, \"type\": \"scatter\", \"data\": [0.9483862433862434, 0.959074074074074, 0.9683501683501683, 0.9683501683501683, 0.9683501683501683, 0.9683501683501683, 0.9683501683501683, 0.9683501683501683, 0.9683501683501683, 0.9683501683501683, 0.9683501683501683, 0.9683501683501683, 0.9683501683501683, 0.9683501683501683, 0.9683501683501683, 0.9683501683501683, 0.9683501683501683, 0.9683501683501683, 0.9683501683501683, 0.9683501683501683, 0.9683501683501683, 0.9683501683501683, 0.9683501683501683, 0.9683501683501683, 0.9683501683501683, 0.9683501683501683, 0.9683501683501683, 0.9687542087542088, 0.9687542087542088, 0.9687542087542088, 0.9687542087542088, 0.9687542087542088]}], \"weighted_accuracy\": [{\"categories\": [\"0\", \"1\", \"2\", \"3\", \"4\", \"5\", \"6\", \"7\", \"8\", \"9\", \"10\", \"11\", \"12\", \"13\", \"14\", \"15\", \"16\", \"17\", \"18\", \"19\", \"20\", \"21\", \"22\", \"23\", \"24\", \"25\", \"26\", \"27\", \"28\", \"29\", \"30\", \"31\"], \"mode\": \"markers\", \"name\": \"weighted_accuracy\", \"stepped\": false, \"type\": \"scatter\", \"data\": [0.9469814169570266, 0.9570464576074332, 0.9584285714285714, 0.9570464576074332, 0.7717015098722415, 0.6668885017421602, 0.9429814169570268, 0.892993031358885, 0.9419036004645761, 0.8417526132404183, 0.9470464576074333, 0.7737979094076654, 0.790425087108014, 0.9570464576074332, 0.9570464576074332, 0.7818002322880371, 0.8179442508710801, 0.9570464576074332, 0.7388919860627178, 0.7844634146341464, 0.768130081300813, 0.9419036004645761, 0.9570464576074332, 0.945664343786295, 0.9576643437862951, 0.7678002322880373, 0.9285214866434378, 0.9643635307781651, 0.9590464576074332, 0.9490464576074332, 0.9590464576074332, 0.9590464576074332]}, {\"categories\": [\"0\", \"1\", \"2\", \"3\", \"4\", \"5\", \"6\", \"7\", \"8\", \"9\", \"10\", \"11\", \"12\", \"13\", \"14\", \"15\", \"16\", \"17\", \"18\", \"19\", \"20\", \"21\", \"22\", \"23\", \"24\", \"25\", \"26\", \"27\", \"28\", \"29\", \"30\", \"31\"], \"mode\": \"lines\", \"name\": \"weighted_accuracy_max\", \"stepped\": true, \"type\": \"scatter\", \"data\": [0.9469814169570266, 0.9570464576074332, 0.9584285714285714, 0.9584285714285714, 0.9584285714285714, 0.9584285714285714, 0.9584285714285714, 0.9584285714285714, 0.9584285714285714, 0.9584285714285714, 0.9584285714285714, 0.9584285714285714, 0.9584285714285714, 0.9584285714285714, 0.9584285714285714, 0.9584285714285714, 0.9584285714285714, 0.9584285714285714, 0.9584285714285714, 0.9584285714285714, 0.9584285714285714, 0.9584285714285714, 0.9584285714285714, 0.9584285714285714, 0.9584285714285714, 0.9584285714285714, 0.9584285714285714, 0.9643635307781651, 0.9643635307781651, 0.9643635307781651, 0.9643635307781651, 0.9643635307781651]}], \"f1_score_macro\": [{\"categories\": [\"0\", \"1\", \"2\", \"3\", \"4\", \"5\", \"6\", \"7\", \"8\", \"9\", \"10\", \"11\", \"12\", \"13\", \"14\", \"15\", \"16\", \"17\", \"18\", \"19\", \"20\", \"21\", \"22\", \"23\", \"24\", \"25\", \"26\", \"27\", \"28\", \"29\", \"30\", \"31\"], \"mode\": \"markers\", \"name\": \"f1_score_macro\", \"stepped\": false, \"type\": \"scatter\", \"data\": [0.9378749681690858, 0.9555945394283889, 0.9566445525578653, 0.9555945394283889, 0.8060893246187364, 0.6337593984962406, 0.9386445689386866, 0.9093843193843194, 0.9361827747225064, 0.872038153911219, 0.9483035177565622, 0.8247817478932031, 0.7825539386653937, 0.9555945394283889, 0.9555945394283889, 0.8383453583453584, 0.8564484741264927, 0.9555945394283889, 0.7792486924839866, 0.8257391845627138, 0.7899050731403674, 0.9361827747225064, 0.9555945394283889, 0.9478849650521477, 0.955077210371328, 0.7926863876863877, 0.9270300247854427, 0.9544145014327571, 0.9554058323666167, 0.9477373965712459, 0.9554058323666167, 0.9554058323666167]}, {\"categories\": [\"0\", \"1\", \"2\", \"3\", \"4\", \"5\", \"6\", \"7\", \"8\", \"9\", \"10\", \"11\", \"12\", \"13\", \"14\", \"15\", \"16\", \"17\", \"18\", \"19\", \"20\", \"21\", \"22\", \"23\", \"24\", \"25\", \"26\", \"27\", \"28\", \"29\", \"30\", \"31\"], \"mode\": \"lines\", \"name\": \"f1_score_macro_max\", \"stepped\": true, \"type\": \"scatter\", \"data\": [0.9378749681690858, 0.9555945394283889, 0.9566445525578653, 0.9566445525578653, 0.9566445525578653, 0.9566445525578653, 0.9566445525578653, 0.9566445525578653, 0.9566445525578653, 0.9566445525578653, 0.9566445525578653, 0.9566445525578653, 0.9566445525578653, 0.9566445525578653, 0.9566445525578653, 0.9566445525578653, 0.9566445525578653, 0.9566445525578653, 0.9566445525578653, 0.9566445525578653, 0.9566445525578653, 0.9566445525578653, 0.9566445525578653, 0.9566445525578653, 0.9566445525578653, 0.9566445525578653, 0.9566445525578653, 0.9566445525578653, 0.9566445525578653, 0.9566445525578653, 0.9566445525578653, 0.9566445525578653]}], \"recall_score_macro\": [{\"categories\": [\"0\", \"1\", \"2\", \"3\", \"4\", \"5\", \"6\", \"7\", \"8\", \"9\", \"10\", \"11\", \"12\", \"13\", \"14\", \"15\", \"16\", \"17\", \"18\", \"19\", \"20\", \"21\", \"22\", \"23\", \"24\", \"25\", \"26\", \"27\", \"28\", \"29\", \"30\", \"31\"], \"mode\": \"markers\", \"name\": \"recall_score_macro\", \"stepped\": false, \"type\": \"scatter\", \"data\": [0.9335714285714285, 0.9569047619047619, 0.9549999999999998, 0.9569047619047619, 0.8292857142857143, 0.71, 0.9369047619047619, 0.9247619047619047, 0.9402380952380952, 0.8941774891774893, 0.9502380952380951, 0.849047619047619, 0.8229870129870129, 0.9569047619047619, 0.9569047619047619, 0.8735714285714286, 0.888939393939394, 0.9569047619047619, 0.8242857142857144, 0.8509523809523809, 0.8126190476190477, 0.9402380952380952, 0.9569047619047619, 0.9521428571428571, 0.9571428571428571, 0.8552380952380952, 0.9371428571428572, 0.9483333333333333, 0.9552380952380952, 0.9485714285714286, 0.9552380952380952, 0.9552380952380952]}, {\"categories\": [\"0\", \"1\", \"2\", \"3\", \"4\", \"5\", \"6\", \"7\", \"8\", \"9\", \"10\", \"11\", \"12\", \"13\", \"14\", \"15\", \"16\", \"17\", \"18\", \"19\", \"20\", \"21\", \"22\", \"23\", \"24\", \"25\", \"26\", \"27\", \"28\", \"29\", \"30\", \"31\"], \"mode\": \"lines\", \"name\": \"recall_score_macro_max\", \"stepped\": true, \"type\": \"scatter\", \"data\": [0.9335714285714285, 0.9569047619047619, 0.9569047619047619, 0.9569047619047619, 0.9569047619047619, 0.9569047619047619, 0.9569047619047619, 0.9569047619047619, 0.9569047619047619, 0.9569047619047619, 0.9569047619047619, 0.9569047619047619, 0.9569047619047619, 0.9569047619047619, 0.9569047619047619, 0.9569047619047619, 0.9569047619047619, 0.9569047619047619, 0.9569047619047619, 0.9569047619047619, 0.9569047619047619, 0.9569047619047619, 0.9569047619047619, 0.9569047619047619, 0.9571428571428571, 0.9571428571428571, 0.9571428571428571, 0.9571428571428571, 0.9571428571428571, 0.9571428571428571, 0.9571428571428571, 0.9571428571428571]}], \"average_precision_score_macro\": [{\"categories\": [\"0\", \"1\", \"2\", \"3\", \"4\", \"5\", \"6\", \"7\", \"8\", \"9\", \"10\", \"11\", \"12\", \"13\", \"14\", \"15\", \"16\", \"17\", \"18\", \"19\", \"20\", \"21\", \"22\", \"23\", \"24\", \"25\", \"26\", \"27\", \"28\", \"29\", \"30\", \"31\"], \"mode\": \"markers\", \"name\": \"average_precision_score_macro\", \"stepped\": false, \"type\": \"scatter\", \"data\": [0.9727155483405483, 0.9464231786731787, 0.9744766113516115, 0.9699355043105043, 0.8600619241286257, 0.9019295131028324, 0.9458211880711881, 0.9859212692069835, 0.9910442104192103, 0.948562089799319, 0.9846846024346025, 0.9234057230179522, 0.931941882852597, 0.9864910598660599, 0.9693200359009182, 0.9501291623159712, 0.95239637522289, 0.9815821909571909, 0.915080492414526, 0.9393680309342074, 0.8360047431365707, 0.9897226430976431, 0.9635234672734672, 0.9727124317481459, 0.9715372174122173, 0.8796551088189745, 0.9685492460060129, 0.9825136483886485, 0.9834705572205571, 0.9658321811630636, 0.9942087542087542, 0.9937037037037036]}, {\"categories\": [\"0\", \"1\", \"2\", \"3\", \"4\", \"5\", \"6\", \"7\", \"8\", \"9\", \"10\", \"11\", \"12\", \"13\", \"14\", \"15\", \"16\", \"17\", \"18\", \"19\", \"20\", \"21\", \"22\", \"23\", \"24\", \"25\", \"26\", \"27\", \"28\", \"29\", \"30\", \"31\"], \"mode\": \"lines\", \"name\": \"average_precision_score_macro_max\", \"stepped\": true, \"type\": \"scatter\", \"data\": [0.9727155483405483, 0.9727155483405483, 0.9744766113516115, 0.9744766113516115, 0.9744766113516115, 0.9744766113516115, 0.9744766113516115, 0.9859212692069835, 0.9910442104192103, 0.9910442104192103, 0.9910442104192103, 0.9910442104192103, 0.9910442104192103, 0.9910442104192103, 0.9910442104192103, 0.9910442104192103, 0.9910442104192103, 0.9910442104192103, 0.9910442104192103, 0.9910442104192103, 0.9910442104192103, 0.9910442104192103, 0.9910442104192103, 0.9910442104192103, 0.9910442104192103, 0.9910442104192103, 0.9910442104192103, 0.9910442104192103, 0.9910442104192103, 0.9910442104192103, 0.9942087542087542, 0.9942087542087542]}], \"accuracy\": [{\"categories\": [\"0\", \"1\", \"2\", \"3\", \"4\", \"5\", \"6\", \"7\", \"8\", \"9\", \"10\", \"11\", \"12\", \"13\", \"14\", \"15\", \"16\", \"17\", \"18\", \"19\", \"20\", \"21\", \"22\", \"23\", \"24\", \"25\", \"26\", \"27\", \"28\", \"29\", \"30\", \"31\"], \"mode\": \"markers\", \"name\": \"accuracy\", \"stepped\": false, \"type\": \"scatter\", \"data\": [0.9416666666666667, 0.9583333333333334, 0.9583333333333334, 0.9583333333333334, 0.8, 0.6916666666666667, 0.9416666666666667, 0.9083333333333332, 0.9416666666666667, 0.8666666666666666, 0.95, 0.8083333333333333, 0.8, 0.9583333333333334, 0.9583333333333334, 0.825, 0.85, 0.9583333333333334, 0.775, 0.8166666666666667, 0.7916666666666666, 0.9416666666666667, 0.9583333333333334, 0.95, 0.9583333333333334, 0.8083333333333333, 0.9333333333333332, 0.9583333333333334, 0.9583333333333334, 0.95, 0.9583333333333334, 0.9583333333333334]}, {\"categories\": [\"0\", \"1\", \"2\", \"3\", \"4\", \"5\", \"6\", \"7\", \"8\", \"9\", \"10\", \"11\", \"12\", \"13\", \"14\", \"15\", \"16\", \"17\", \"18\", \"19\", \"20\", \"21\", \"22\", \"23\", \"24\", \"25\", \"26\", \"27\", \"28\", \"29\", \"30\", \"31\"], \"mode\": \"lines\", \"name\": \"accuracy_max\", \"stepped\": true, \"type\": \"scatter\", \"data\": [0.9416666666666667, 0.9583333333333334, 0.9583333333333334, 0.9583333333333334, 0.9583333333333334, 0.9583333333333334, 0.9583333333333334, 0.9583333333333334, 0.9583333333333334, 0.9583333333333334, 0.9583333333333334, 0.9583333333333334, 0.9583333333333334, 0.9583333333333334, 0.9583333333333334, 0.9583333333333334, 0.9583333333333334, 0.9583333333333334, 0.9583333333333334, 0.9583333333333334, 0.9583333333333334, 0.9583333333333334, 0.9583333333333334, 0.9583333333333334, 0.9583333333333334, 0.9583333333333334, 0.9583333333333334, 0.9583333333333334, 0.9583333333333334, 0.9583333333333334, 0.9583333333333334, 0.9583333333333334]}], \"AUC_macro\": [{\"categories\": [\"0\", \"1\", \"2\", \"3\", \"4\", \"5\", \"6\", \"7\", \"8\", \"9\", \"10\", \"11\", \"12\", \"13\", \"14\", \"15\", \"16\", \"17\", \"18\", \"19\", \"20\", \"21\", \"22\", \"23\", \"24\", \"25\", \"26\", \"27\", \"28\", \"29\", \"30\", \"31\"], \"mode\": \"markers\", \"name\": \"AUC_macro\", \"stepped\": false, \"type\": \"scatter\", \"data\": [0.9873488408521304, 0.9753677161654135, 0.9865550595238096, 0.989670661027569, 0.9116878132832081, 0.9482910401002507, 0.9771111372180451, 0.9919149436090227, 0.9956547619047619, 0.9657683270676692, 0.9923288690476191, 0.9496781015037593, 0.9578328634085214, 0.9930036027568923, 0.9869298245614034, 0.9639669486215539, 0.9675281954887218, 0.989077772556391, 0.9450109649122809, 0.9629722744360902, 0.8947117794486216, 0.994657738095238, 0.9840358709273183, 0.9867614348370927, 0.9845610119047619, 0.9330345394736842, 0.9859641290726817, 0.990922619047619, 0.9919494047619046, 0.9820762844611529, 0.9976488095238096, 0.997172619047619]}, {\"categories\": [\"0\", \"1\", \"2\", \"3\", \"4\", \"5\", \"6\", \"7\", \"8\", \"9\", \"10\", \"11\", \"12\", \"13\", \"14\", \"15\", \"16\", \"17\", \"18\", \"19\", \"20\", \"21\", \"22\", \"23\", \"24\", \"25\", \"26\", \"27\", \"28\", \"29\", \"30\", \"31\"], \"mode\": \"lines\", \"name\": \"AUC_macro_max\", \"stepped\": true, \"type\": \"scatter\", \"data\": [0.9873488408521304, 0.9873488408521304, 0.9873488408521304, 0.989670661027569, 0.989670661027569, 0.989670661027569, 0.989670661027569, 0.9919149436090227, 0.9956547619047619, 0.9956547619047619, 0.9956547619047619, 0.9956547619047619, 0.9956547619047619, 0.9956547619047619, 0.9956547619047619, 0.9956547619047619, 0.9956547619047619, 0.9956547619047619, 0.9956547619047619, 0.9956547619047619, 0.9956547619047619, 0.9956547619047619, 0.9956547619047619, 0.9956547619047619, 0.9956547619047619, 0.9956547619047619, 0.9956547619047619, 0.9956547619047619, 0.9956547619047619, 0.9956547619047619, 0.9976488095238096, 0.9976488095238096]}], \"matthews_correlation\": [{\"categories\": [\"0\", \"1\", \"2\", \"3\", \"4\", \"5\", \"6\", \"7\", \"8\", \"9\", \"10\", \"11\", \"12\", \"13\", \"14\", \"15\", \"16\", \"17\", \"18\", \"19\", \"20\", \"21\", \"22\", \"23\", \"24\", \"25\", \"26\", \"27\", \"28\", \"29\", \"30\", \"31\"], \"mode\": \"markers\", \"name\": \"matthews_correlation\", \"stepped\": false, \"type\": \"scatter\", \"data\": [0.9082686609837435, 0.935472822398937, 0.9406617514266156, 0.935472822398937, 0.7549017770240349, 0.6524761382847022, 0.908735825940165, 0.8751125629051654, 0.9089046374232567, 0.8213758050179341, 0.9233395258827578, 0.7511099403350003, 0.7263561652154662, 0.935472822398937, 0.935472822398937, 0.7892635781886852, 0.8048276629954699, 0.935472822398937, 0.7201419122381278, 0.7838861254837219, 0.7423650672389588, 0.9089046374232567, 0.935472822398937, 0.9235932886645916, 0.9366733955077795, 0.7583690918211575, 0.8986830866977021, 0.9367479841219376, 0.9353473837970359, 0.9229402699398241, 0.9353473837970359, 0.9353473837970359]}, {\"categories\": [\"0\", \"1\", \"2\", \"3\", \"4\", \"5\", \"6\", \"7\", \"8\", \"9\", \"10\", \"11\", \"12\", \"13\", \"14\", \"15\", \"16\", \"17\", \"18\", \"19\", \"20\", \"21\", \"22\", \"23\", \"24\", \"25\", \"26\", \"27\", \"28\", \"29\", \"30\", \"31\"], \"mode\": \"lines\", \"name\": \"matthews_correlation_max\", \"stepped\": true, \"type\": \"scatter\", \"data\": [0.9082686609837435, 0.935472822398937, 0.9406617514266156, 0.9406617514266156, 0.9406617514266156, 0.9406617514266156, 0.9406617514266156, 0.9406617514266156, 0.9406617514266156, 0.9406617514266156, 0.9406617514266156, 0.9406617514266156, 0.9406617514266156, 0.9406617514266156, 0.9406617514266156, 0.9406617514266156, 0.9406617514266156, 0.9406617514266156, 0.9406617514266156, 0.9406617514266156, 0.9406617514266156, 0.9406617514266156, 0.9406617514266156, 0.9406617514266156, 0.9406617514266156, 0.9406617514266156, 0.9406617514266156, 0.9406617514266156, 0.9406617514266156, 0.9406617514266156, 0.9406617514266156, 0.9406617514266156]}], \"f1_score_weighted\": [{\"categories\": [\"0\", \"1\", \"2\", \"3\", \"4\", \"5\", \"6\", \"7\", \"8\", \"9\", \"10\", \"11\", \"12\", \"13\", \"14\", \"15\", \"16\", \"17\", \"18\", \"19\", \"20\", \"21\", \"22\", \"23\", \"24\", \"25\", \"26\", \"27\", \"28\", \"29\", \"30\", \"31\"], \"mode\": \"markers\", \"name\": \"f1_score_weighted\", \"stepped\": false, \"type\": \"scatter\", \"data\": [0.9408836261777438, 0.9582334599620461, 0.957671630055531, 0.9582334599620461, 0.7888157485216308, 0.6191363826232248, 0.9413165266106442, 0.9108107864357864, 0.9416788381133067, 0.868354323122125, 0.9499775260095179, 0.8046109219870828, 0.7962639957651567, 0.9582334599620461, 0.9582334599620461, 0.8188744588744589, 0.8526109391124871, 0.9582334599620461, 0.767593803255568, 0.8056878306878307, 0.778980703392468, 0.9416788381133067, 0.9582334599620461, 0.9504235229854425, 0.958572326366444, 0.7744014550264551, 0.9342368773870321, 0.9575845433959025, 0.9581282950890794, 0.9496620313906176, 0.9581282950890794, 0.9581282950890794]}, {\"categories\": [\"0\", \"1\", \"2\", \"3\", \"4\", \"5\", \"6\", \"7\", \"8\", \"9\", \"10\", \"11\", \"12\", \"13\", \"14\", \"15\", \"16\", \"17\", \"18\", \"19\", \"20\", \"21\", \"22\", \"23\", \"24\", \"25\", \"26\", \"27\", \"28\", \"29\", \"30\", \"31\"], \"mode\": \"lines\", \"name\": \"f1_score_weighted_max\", \"stepped\": true, \"type\": \"scatter\", \"data\": [0.9408836261777438, 0.9582334599620461, 0.9582334599620461, 0.9582334599620461, 0.9582334599620461, 0.9582334599620461, 0.9582334599620461, 0.9582334599620461, 0.9582334599620461, 0.9582334599620461, 0.9582334599620461, 0.9582334599620461, 0.9582334599620461, 0.9582334599620461, 0.9582334599620461, 0.9582334599620461, 0.9582334599620461, 0.9582334599620461, 0.9582334599620461, 0.9582334599620461, 0.9582334599620461, 0.9582334599620461, 0.9582334599620461, 0.9582334599620461, 0.958572326366444, 0.958572326366444, 0.958572326366444, 0.958572326366444, 0.958572326366444, 0.958572326366444, 0.958572326366444, 0.958572326366444]}], \"average_precision_score_micro\": [{\"categories\": [\"0\", \"1\", \"2\", \"3\", \"4\", \"5\", \"6\", \"7\", \"8\", \"9\", \"10\", \"11\", \"12\", \"13\", \"14\", \"15\", \"16\", \"17\", \"18\", \"19\", \"20\", \"21\", \"22\", \"23\", \"24\", \"25\", \"26\", \"27\", \"28\", \"29\", \"30\", \"31\"], \"mode\": \"markers\", \"name\": \"average_precision_score_micro\", \"stepped\": false, \"type\": \"scatter\", \"data\": [0.9871501336369842, 0.9442082910591321, 0.9815438953156344, 0.9716560269263059, 0.8864854585757396, 0.8746313644457928, 0.9525365767485333, 0.9499727706206731, 0.9931967931493793, 0.9399096233797941, 0.9908068962036353, 0.9112287322819622, 0.9000499379865516, 0.991403839719057, 0.9772174311935681, 0.8804425970766241, 0.9175068186548987, 0.9756062326204076, 0.8887534687617945, 0.9105961637305631, 0.8777309837399546, 0.9928495709271571, 0.9635818976292804, 0.9739845913606551, 0.9791775281953319, 0.8697591032672548, 0.9703987707934516, 0.9893003596680178, 0.9925554874540381, 0.972215458449444, 0.997037393162393, 0.9951670638138028]}, {\"categories\": [\"0\", \"1\", \"2\", \"3\", \"4\", \"5\", \"6\", \"7\", \"8\", \"9\", \"10\", \"11\", \"12\", \"13\", \"14\", \"15\", \"16\", \"17\", \"18\", \"19\", \"20\", \"21\", \"22\", \"23\", \"24\", \"25\", \"26\", \"27\", \"28\", \"29\", \"30\", \"31\"], \"mode\": \"lines\", \"name\": \"average_precision_score_micro_max\", \"stepped\": true, \"type\": \"scatter\", \"data\": [0.9871501336369842, 0.9871501336369842, 0.9871501336369842, 0.9871501336369842, 0.9871501336369842, 0.9871501336369842, 0.9871501336369842, 0.9871501336369842, 0.9931967931493793, 0.9931967931493793, 0.9931967931493793, 0.9931967931493793, 0.9931967931493793, 0.9931967931493793, 0.9931967931493793, 0.9931967931493793, 0.9931967931493793, 0.9931967931493793, 0.9931967931493793, 0.9931967931493793, 0.9931967931493793, 0.9931967931493793, 0.9931967931493793, 0.9931967931493793, 0.9931967931493793, 0.9931967931493793, 0.9931967931493793, 0.9931967931493793, 0.9931967931493793, 0.9931967931493793, 0.997037393162393, 0.997037393162393]}], \"precision_score_micro\": [{\"categories\": [\"0\", \"1\", \"2\", \"3\", \"4\", \"5\", \"6\", \"7\", \"8\", \"9\", \"10\", \"11\", \"12\", \"13\", \"14\", \"15\", \"16\", \"17\", \"18\", \"19\", \"20\", \"21\", \"22\", \"23\", \"24\", \"25\", \"26\", \"27\", \"28\", \"29\", \"30\", \"31\"], \"mode\": \"markers\", \"name\": \"precision_score_micro\", \"stepped\": false, \"type\": \"scatter\", \"data\": [0.9416666666666667, 0.9583333333333334, 0.9583333333333334, 0.9583333333333334, 0.8, 0.6916666666666667, 0.9416666666666667, 0.9083333333333332, 0.9416666666666667, 0.8666666666666666, 0.95, 0.8083333333333333, 0.8, 0.9583333333333334, 0.9583333333333334, 0.825, 0.85, 0.9583333333333334, 0.775, 0.8166666666666667, 0.7916666666666666, 0.9416666666666667, 0.9583333333333334, 0.95, 0.9583333333333334, 0.8083333333333333, 0.9333333333333332, 0.9583333333333334, 0.9583333333333334, 0.95, 0.9583333333333334, 0.9583333333333334]}, {\"categories\": [\"0\", \"1\", \"2\", \"3\", \"4\", \"5\", \"6\", \"7\", \"8\", \"9\", \"10\", \"11\", \"12\", \"13\", \"14\", \"15\", \"16\", \"17\", \"18\", \"19\", \"20\", \"21\", \"22\", \"23\", \"24\", \"25\", \"26\", \"27\", \"28\", \"29\", \"30\", \"31\"], \"mode\": \"lines\", \"name\": \"precision_score_micro_max\", \"stepped\": true, \"type\": \"scatter\", \"data\": [0.9416666666666667, 0.9583333333333334, 0.9583333333333334, 0.9583333333333334, 0.9583333333333334, 0.9583333333333334, 0.9583333333333334, 0.9583333333333334, 0.9583333333333334, 0.9583333333333334, 0.9583333333333334, 0.9583333333333334, 0.9583333333333334, 0.9583333333333334, 0.9583333333333334, 0.9583333333333334, 0.9583333333333334, 0.9583333333333334, 0.9583333333333334, 0.9583333333333334, 0.9583333333333334, 0.9583333333333334, 0.9583333333333334, 0.9583333333333334, 0.9583333333333334, 0.9583333333333334, 0.9583333333333334, 0.9583333333333334, 0.9583333333333334, 0.9583333333333334, 0.9583333333333334, 0.9583333333333334]}], \"AUC_weighted\": [{\"categories\": [\"0\", \"1\", \"2\", \"3\", \"4\", \"5\", \"6\", \"7\", \"8\", \"9\", \"10\", \"11\", \"12\", \"13\", \"14\", \"15\", \"16\", \"17\", \"18\", \"19\", \"20\", \"21\", \"22\", \"23\", \"24\", \"25\", \"26\", \"27\", \"28\", \"29\", \"30\", \"31\"], \"mode\": \"markers\", \"name\": \"AUC_weighted\", \"stepped\": false, \"type\": \"scatter\", \"data\": [0.9899334273182957, 0.9734096961152883, 0.9912276785714287, 0.9881935307017544, 0.8977717731829575, 0.9377897869674185, 0.9746816259398496, 0.9903579260651629, 0.9957142857142858, 0.9598942669172932, 0.9925074404761904, 0.9420402568922306, 0.9519807330827069, 0.9927310463659147, 0.98593828320802, 0.9532401315789473, 0.9570488721804511, 0.9867124843358395, 0.9371162280701755, 0.9519227756892231, 0.8818139097744361, 0.9945982142857144, 0.9820183270676692, 0.9868021616541354, 0.9889955357142858, 0.9227792136591478, 0.9855411967418547, 0.9931845238095238, 0.9927232142857143, 0.9823895676691731, 0.9979464285714286, 0.9973511904761905]}, {\"categories\": [\"0\", \"1\", \"2\", \"3\", \"4\", \"5\", \"6\", \"7\", \"8\", \"9\", \"10\", \"11\", \"12\", \"13\", \"14\", \"15\", \"16\", \"17\", \"18\", \"19\", \"20\", \"21\", \"22\", \"23\", \"24\", \"25\", \"26\", \"27\", \"28\", \"29\", \"30\", \"31\"], \"mode\": \"lines\", \"name\": \"AUC_weighted_max\", \"stepped\": true, \"type\": \"scatter\", \"data\": [0.9899334273182957, 0.9899334273182957, 0.9912276785714287, 0.9912276785714287, 0.9912276785714287, 0.9912276785714287, 0.9912276785714287, 0.9912276785714287, 0.9957142857142858, 0.9957142857142858, 0.9957142857142858, 0.9957142857142858, 0.9957142857142858, 0.9957142857142858, 0.9957142857142858, 0.9957142857142858, 0.9957142857142858, 0.9957142857142858, 0.9957142857142858, 0.9957142857142858, 0.9957142857142858, 0.9957142857142858, 0.9957142857142858, 0.9957142857142858, 0.9957142857142858, 0.9957142857142858, 0.9957142857142858, 0.9957142857142858, 0.9957142857142858, 0.9957142857142858, 0.9979464285714286, 0.9979464285714286]}], \"f1_score_micro\": [{\"categories\": [\"0\", \"1\", \"2\", \"3\", \"4\", \"5\", \"6\", \"7\", \"8\", \"9\", \"10\", \"11\", \"12\", \"13\", \"14\", \"15\", \"16\", \"17\", \"18\", \"19\", \"20\", \"21\", \"22\", \"23\", \"24\", \"25\", \"26\", \"27\", \"28\", \"29\", \"30\", \"31\"], \"mode\": \"markers\", \"name\": \"f1_score_micro\", \"stepped\": false, \"type\": \"scatter\", \"data\": [0.9416666666666667, 0.9583333333333334, 0.9583333333333334, 0.9583333333333334, 0.8, 0.6916666666666667, 0.9416666666666667, 0.9083333333333332, 0.9416666666666667, 0.8666666666666666, 0.95, 0.8083333333333333, 0.8, 0.9583333333333334, 0.9583333333333334, 0.825, 0.85, 0.9583333333333334, 0.775, 0.8166666666666667, 0.7916666666666666, 0.9416666666666667, 0.9583333333333334, 0.95, 0.9583333333333334, 0.8083333333333333, 0.9333333333333332, 0.9583333333333334, 0.9583333333333334, 0.95, 0.9583333333333334, 0.9583333333333334]}, {\"categories\": [\"0\", \"1\", \"2\", \"3\", \"4\", \"5\", \"6\", \"7\", \"8\", \"9\", \"10\", \"11\", \"12\", \"13\", \"14\", \"15\", \"16\", \"17\", \"18\", \"19\", \"20\", \"21\", \"22\", \"23\", \"24\", \"25\", \"26\", \"27\", \"28\", \"29\", \"30\", \"31\"], \"mode\": \"lines\", \"name\": \"f1_score_micro_max\", \"stepped\": true, \"type\": \"scatter\", \"data\": [0.9416666666666667, 0.9583333333333334, 0.9583333333333334, 0.9583333333333334, 0.9583333333333334, 0.9583333333333334, 0.9583333333333334, 0.9583333333333334, 0.9583333333333334, 0.9583333333333334, 0.9583333333333334, 0.9583333333333334, 0.9583333333333334, 0.9583333333333334, 0.9583333333333334, 0.9583333333333334, 0.9583333333333334, 0.9583333333333334, 0.9583333333333334, 0.9583333333333334, 0.9583333333333334, 0.9583333333333334, 0.9583333333333334, 0.9583333333333334, 0.9583333333333334, 0.9583333333333334, 0.9583333333333334, 0.9583333333333334, 0.9583333333333334, 0.9583333333333334, 0.9583333333333334, 0.9583333333333334]}], \"norm_macro_recall\": [{\"categories\": [\"0\", \"1\", \"2\", \"3\", \"4\", \"5\", \"6\", \"7\", \"8\", \"9\", \"10\", \"11\", \"12\", \"13\", \"14\", \"15\", \"16\", \"17\", \"18\", \"19\", \"20\", \"21\", \"22\", \"23\", \"24\", \"25\", \"26\", \"27\", \"28\", \"29\", \"30\", \"31\"], \"mode\": \"markers\", \"name\": \"norm_macro_recall\", \"stepped\": false, \"type\": \"scatter\", \"data\": [0.9003571428571426, 0.9353571428571428, 0.9324999999999999, 0.9353571428571428, 0.7439285714285713, 0.5650000000000001, 0.9053571428571427, 0.887142857142857, 0.910357142857143, 0.8412662337662338, 0.9253571428571428, 0.7735714285714285, 0.7344805194805193, 0.9353571428571428, 0.9353571428571428, 0.8103571428571428, 0.8334090909090909, 0.9353571428571428, 0.7364285714285714, 0.7764285714285712, 0.7189285714285714, 0.910357142857143, 0.9353571428571428, 0.9282142857142857, 0.9357142857142856, 0.7828571428571428, 0.9057142857142857, 0.9224999999999998, 0.9328571428571427, 0.9228571428571428, 0.9328571428571427, 0.9328571428571427]}, {\"categories\": [\"0\", \"1\", \"2\", \"3\", \"4\", \"5\", \"6\", \"7\", \"8\", \"9\", \"10\", \"11\", \"12\", \"13\", \"14\", \"15\", \"16\", \"17\", \"18\", \"19\", \"20\", \"21\", \"22\", \"23\", \"24\", \"25\", \"26\", \"27\", \"28\", \"29\", \"30\", \"31\"], \"mode\": \"lines\", \"name\": \"norm_macro_recall_max\", \"stepped\": true, \"type\": \"scatter\", \"data\": [0.9003571428571426, 0.9353571428571428, 0.9353571428571428, 0.9353571428571428, 0.9353571428571428, 0.9353571428571428, 0.9353571428571428, 0.9353571428571428, 0.9353571428571428, 0.9353571428571428, 0.9353571428571428, 0.9353571428571428, 0.9353571428571428, 0.9353571428571428, 0.9353571428571428, 0.9353571428571428, 0.9353571428571428, 0.9353571428571428, 0.9353571428571428, 0.9353571428571428, 0.9353571428571428, 0.9353571428571428, 0.9353571428571428, 0.9353571428571428, 0.9357142857142856, 0.9357142857142856, 0.9357142857142856, 0.9357142857142856, 0.9357142857142856, 0.9357142857142856, 0.9357142857142856, 0.9357142857142856]}], \"balanced_accuracy\": [{\"categories\": [\"0\", \"1\", \"2\", \"3\", \"4\", \"5\", \"6\", \"7\", \"8\", \"9\", \"10\", \"11\", \"12\", \"13\", \"14\", \"15\", \"16\", \"17\", \"18\", \"19\", \"20\", \"21\", \"22\", \"23\", \"24\", \"25\", \"26\", \"27\", \"28\", \"29\", \"30\", \"31\"], \"mode\": \"markers\", \"name\": \"balanced_accuracy\", \"stepped\": false, \"type\": \"scatter\", \"data\": [0.9335714285714285, 0.9569047619047619, 0.9549999999999998, 0.9569047619047619, 0.8292857142857143, 0.71, 0.9369047619047619, 0.9247619047619047, 0.9402380952380952, 0.8941774891774893, 0.9502380952380951, 0.849047619047619, 0.8229870129870129, 0.9569047619047619, 0.9569047619047619, 0.8735714285714286, 0.888939393939394, 0.9569047619047619, 0.8242857142857144, 0.8509523809523809, 0.8126190476190477, 0.9402380952380952, 0.9569047619047619, 0.9521428571428571, 0.9571428571428571, 0.8552380952380952, 0.9371428571428572, 0.9483333333333333, 0.9552380952380952, 0.9485714285714286, 0.9552380952380952, 0.9552380952380952]}, {\"categories\": [\"0\", \"1\", \"2\", \"3\", \"4\", \"5\", \"6\", \"7\", \"8\", \"9\", \"10\", \"11\", \"12\", \"13\", \"14\", \"15\", \"16\", \"17\", \"18\", \"19\", \"20\", \"21\", \"22\", \"23\", \"24\", \"25\", \"26\", \"27\", \"28\", \"29\", \"30\", \"31\"], \"mode\": \"lines\", \"name\": \"balanced_accuracy_max\", \"stepped\": true, \"type\": \"scatter\", \"data\": [0.9335714285714285, 0.9569047619047619, 0.9569047619047619, 0.9569047619047619, 0.9569047619047619, 0.9569047619047619, 0.9569047619047619, 0.9569047619047619, 0.9569047619047619, 0.9569047619047619, 0.9569047619047619, 0.9569047619047619, 0.9569047619047619, 0.9569047619047619, 0.9569047619047619, 0.9569047619047619, 0.9569047619047619, 0.9569047619047619, 0.9569047619047619, 0.9569047619047619, 0.9569047619047619, 0.9569047619047619, 0.9569047619047619, 0.9569047619047619, 0.9571428571428571, 0.9571428571428571, 0.9571428571428571, 0.9571428571428571, 0.9571428571428571, 0.9571428571428571, 0.9571428571428571, 0.9571428571428571]}], \"AUC_micro\": [{\"categories\": [\"0\", \"1\", \"2\", \"3\", \"4\", \"5\", \"6\", \"7\", \"8\", \"9\", \"10\", \"11\", \"12\", \"13\", \"14\", \"15\", \"16\", \"17\", \"18\", \"19\", \"20\", \"21\", \"22\", \"23\", \"24\", \"25\", \"26\", \"27\", \"28\", \"29\", \"30\", \"31\"], \"mode\": \"markers\", \"name\": \"AUC_micro\", \"stepped\": false, \"type\": \"scatter\", \"data\": [0.9932291666666666, 0.9751736111111111, 0.9911458333333334, 0.9869791666666666, 0.9302083333333334, 0.9189236111111111, 0.9775173611111111, 0.9744791666666668, 0.9963541666666667, 0.9645833333333332, 0.9951388888888889, 0.9475694444444445, 0.9427083333333334, 0.9953125, 0.9899305555555555, 0.9182291666666667, 0.9505208333333333, 0.9869791666666667, 0.9345486111111111, 0.9489583333333333, 0.9234375, 0.9961805555555555, 0.9854166666666666, 0.9864583333333332, 0.9899305555555555, 0.9329861111111111, 0.9850694444444444, 0.9942708333333334, 0.9960069444444445, 0.9857638888888888, 0.9984375, 0.9973958333333334]}, {\"categories\": [\"0\", \"1\", \"2\", \"3\", \"4\", \"5\", \"6\", \"7\", \"8\", \"9\", \"10\", \"11\", \"12\", \"13\", \"14\", \"15\", \"16\", \"17\", \"18\", \"19\", \"20\", \"21\", \"22\", \"23\", \"24\", \"25\", \"26\", \"27\", \"28\", \"29\", \"30\", \"31\"], \"mode\": \"lines\", \"name\": \"AUC_micro_max\", \"stepped\": true, \"type\": \"scatter\", \"data\": [0.9932291666666666, 0.9932291666666666, 0.9932291666666666, 0.9932291666666666, 0.9932291666666666, 0.9932291666666666, 0.9932291666666666, 0.9932291666666666, 0.9963541666666667, 0.9963541666666667, 0.9963541666666667, 0.9963541666666667, 0.9963541666666667, 0.9963541666666667, 0.9963541666666667, 0.9963541666666667, 0.9963541666666667, 0.9963541666666667, 0.9963541666666667, 0.9963541666666667, 0.9963541666666667, 0.9963541666666667, 0.9963541666666667, 0.9963541666666667, 0.9963541666666667, 0.9963541666666667, 0.9963541666666667, 0.9963541666666667, 0.9963541666666667, 0.9963541666666667, 0.9984375, 0.9984375]}], \"recall_score_weighted\": [{\"categories\": [\"0\", \"1\", \"2\", \"3\", \"4\", \"5\", \"6\", \"7\", \"8\", \"9\", \"10\", \"11\", \"12\", \"13\", \"14\", \"15\", \"16\", \"17\", \"18\", \"19\", \"20\", \"21\", \"22\", \"23\", \"24\", \"25\", \"26\", \"27\", \"28\", \"29\", \"30\", \"31\"], \"mode\": \"markers\", \"name\": \"recall_score_weighted\", \"stepped\": false, \"type\": \"scatter\", \"data\": [0.9416666666666667, 0.9583333333333334, 0.9583333333333334, 0.9583333333333334, 0.8, 0.6916666666666667, 0.9416666666666667, 0.9083333333333332, 0.9416666666666667, 0.8666666666666666, 0.95, 0.8083333333333333, 0.8, 0.9583333333333334, 0.9583333333333334, 0.825, 0.85, 0.9583333333333334, 0.775, 0.8166666666666667, 0.7916666666666666, 0.9416666666666667, 0.9583333333333334, 0.95, 0.9583333333333334, 0.8083333333333333, 0.9333333333333332, 0.9583333333333334, 0.9583333333333334, 0.95, 0.9583333333333334, 0.9583333333333334]}, {\"categories\": [\"0\", \"1\", \"2\", \"3\", \"4\", \"5\", \"6\", \"7\", \"8\", \"9\", \"10\", \"11\", \"12\", \"13\", \"14\", \"15\", \"16\", \"17\", \"18\", \"19\", \"20\", \"21\", \"22\", \"23\", \"24\", \"25\", \"26\", \"27\", \"28\", \"29\", \"30\", \"31\"], \"mode\": \"lines\", \"name\": \"recall_score_weighted_max\", \"stepped\": true, \"type\": \"scatter\", \"data\": [0.9416666666666667, 0.9583333333333334, 0.9583333333333334, 0.9583333333333334, 0.9583333333333334, 0.9583333333333334, 0.9583333333333334, 0.9583333333333334, 0.9583333333333334, 0.9583333333333334, 0.9583333333333334, 0.9583333333333334, 0.9583333333333334, 0.9583333333333334, 0.9583333333333334, 0.9583333333333334, 0.9583333333333334, 0.9583333333333334, 0.9583333333333334, 0.9583333333333334, 0.9583333333333334, 0.9583333333333334, 0.9583333333333334, 0.9583333333333334, 0.9583333333333334, 0.9583333333333334, 0.9583333333333334, 0.9583333333333334, 0.9583333333333334, 0.9583333333333334, 0.9583333333333334, 0.9583333333333334]}]}, \"metricName\": null, \"primaryMetricName\": \"AUC_weighted\", \"showLegend\": false}, \"run_metrics\": [{\"name\": \"experiment_status\", \"run_id\": \"AutoML_de22720f-3457-4cb4-a8c8-29529b1b7325\", \"categories\": [0, 1, 2, 3, 4, 5, 6, 7, 8, 9, 10, 11, 12, 13], \"series\": [{\"data\": [\"DatasetEvaluation\", \"FeaturesGeneration\", \"DatasetFeaturization\", \"DatasetFeaturizationCompleted\", \"DatasetCrossValidationSplit\", \"ModelSelection\", \"BestRunExplainModel\", \"ModelExplanationDataSetSetup\", \"PickSurrogateModel\", \"EngineeredFeatureExplanations\", \"EngineeredFeatureExplanations\", \"RawFeaturesExplanations\", \"RawFeaturesExplanations\", \"BestRunExplainModel\"]}]}, {\"name\": \"experiment_status_description\", \"run_id\": \"AutoML_de22720f-3457-4cb4-a8c8-29529b1b7325\", \"categories\": [0, 1, 2, 3, 4, 5, 6, 7, 8, 9, 10, 11, 12, 13], \"series\": [{\"data\": [\"Gathering dataset statistics.\", \"Generating features for the dataset.\", \"Beginning to fit featurizers and featurize the dataset.\", \"Completed fit featurizers and featurizing the dataset.\", \"Generating individually featurized CV splits.\", \"Beginning model selection.\", \"Best run model explanations started\", \"Model explanations data setup completed\", \"Choosing LightGBM as the surrogate model for explanations\", \"Computation of engineered features started\", \"Computation of engineered features completed\", \"Computation of raw features started\", \"Computation of raw features completed\", \"Best run model explanations completed\"]}]}, {\"name\": \"recall_score_micro\", \"run_id\": \"AutoML_de22720f-3457-4cb4-a8c8-29529b1b7325\", \"categories\": [0], \"series\": [{\"data\": [0.9583333333333334]}]}, {\"name\": \"average_precision_score_weighted\", \"run_id\": \"AutoML_de22720f-3457-4cb4-a8c8-29529b1b7325\", \"categories\": [0], \"series\": [{\"data\": [0.9957239057239058]}]}, {\"name\": \"precision_score_weighted\", \"run_id\": \"AutoML_de22720f-3457-4cb4-a8c8-29529b1b7325\", \"categories\": [0], \"series\": [{\"data\": [0.9614057239057239]}]}, {\"name\": \"log_loss\", \"run_id\": \"AutoML_de22720f-3457-4cb4-a8c8-29529b1b7325\", \"categories\": [0], \"series\": [{\"data\": [0.15152173551224093]}]}, {\"name\": \"precision_score_macro\", \"run_id\": \"AutoML_de22720f-3457-4cb4-a8c8-29529b1b7325\", \"categories\": [0], \"series\": [{\"data\": [0.9604208754208754]}]}, {\"name\": \"weighted_accuracy\", \"run_id\": \"AutoML_de22720f-3457-4cb4-a8c8-29529b1b7325\", \"categories\": [0], \"series\": [{\"data\": [0.9590464576074332]}]}, {\"name\": \"f1_score_macro\", \"run_id\": \"AutoML_de22720f-3457-4cb4-a8c8-29529b1b7325\", \"categories\": [0], \"series\": [{\"data\": [0.9554058323666167]}]}, {\"name\": \"recall_score_macro\", \"run_id\": \"AutoML_de22720f-3457-4cb4-a8c8-29529b1b7325\", \"categories\": [0], \"series\": [{\"data\": [0.9552380952380952]}]}, {\"name\": \"average_precision_score_macro\", \"run_id\": \"AutoML_de22720f-3457-4cb4-a8c8-29529b1b7325\", \"categories\": [0], \"series\": [{\"data\": [0.9942087542087542]}]}, {\"name\": \"accuracy\", \"run_id\": \"AutoML_de22720f-3457-4cb4-a8c8-29529b1b7325\", \"categories\": [0], \"series\": [{\"data\": [0.9583333333333334]}]}, {\"name\": \"AUC_macro\", \"run_id\": \"AutoML_de22720f-3457-4cb4-a8c8-29529b1b7325\", \"categories\": [0], \"series\": [{\"data\": [0.9976488095238096]}]}, {\"name\": \"matthews_correlation\", \"run_id\": \"AutoML_de22720f-3457-4cb4-a8c8-29529b1b7325\", \"categories\": [0], \"series\": [{\"data\": [0.9353473837970359]}]}, {\"name\": \"f1_score_weighted\", \"run_id\": \"AutoML_de22720f-3457-4cb4-a8c8-29529b1b7325\", \"categories\": [0], \"series\": [{\"data\": [0.9581282950890794]}]}, {\"name\": \"average_precision_score_micro\", \"run_id\": \"AutoML_de22720f-3457-4cb4-a8c8-29529b1b7325\", \"categories\": [0], \"series\": [{\"data\": [0.997037393162393]}]}, {\"name\": \"precision_score_micro\", \"run_id\": \"AutoML_de22720f-3457-4cb4-a8c8-29529b1b7325\", \"categories\": [0], \"series\": [{\"data\": [0.9583333333333334]}]}, {\"name\": \"AUC_weighted\", \"run_id\": \"AutoML_de22720f-3457-4cb4-a8c8-29529b1b7325\", \"categories\": [0], \"series\": [{\"data\": [0.9979464285714286]}]}, {\"name\": \"f1_score_micro\", \"run_id\": \"AutoML_de22720f-3457-4cb4-a8c8-29529b1b7325\", \"categories\": [0], \"series\": [{\"data\": [0.9583333333333334]}]}, {\"name\": \"norm_macro_recall\", \"run_id\": \"AutoML_de22720f-3457-4cb4-a8c8-29529b1b7325\", \"categories\": [0], \"series\": [{\"data\": [0.9328571428571427]}]}, {\"name\": \"balanced_accuracy\", \"run_id\": \"AutoML_de22720f-3457-4cb4-a8c8-29529b1b7325\", \"categories\": [0], \"series\": [{\"data\": [0.9552380952380952]}]}, {\"name\": \"AUC_micro\", \"run_id\": \"AutoML_de22720f-3457-4cb4-a8c8-29529b1b7325\", \"categories\": [0], \"series\": [{\"data\": [0.9984375]}]}, {\"name\": \"recall_score_weighted\", \"run_id\": \"AutoML_de22720f-3457-4cb4-a8c8-29529b1b7325\", \"categories\": [0], \"series\": [{\"data\": [0.9583333333333334]}]}], \"run_logs\": \"\\nRun is completed.\", \"graph\": {}, \"widget_settings\": {\"childWidgetDisplay\": \"popup\", \"send_telemetry\": false, \"log_level\": \"INFO\", \"sdk_version\": \"1.18.0\"}, \"loading\": false}"
     },
     "metadata": {},
     "output_type": "display_data"
    }
   ],
   "source": [
    "from azureml.widgets import RunDetails\n",
    "RunDetails(run).show()"
   ]
  },
  {
   "cell_type": "code",
   "execution_count": 51,
   "metadata": {},
   "outputs": [],
   "source": [
    "model_name = best_run.properties['model_name']\n",
    "\n",
    "script_file_name = 'inference/score.py'\n",
    "\n",
    "best_run.download_file('outputs/scoring_file_v_1_0_0.py', 'inference/score.py')"
   ]
  },
  {
   "cell_type": "code",
   "execution_count": 54,
   "metadata": {},
   "outputs": [
    {
     "name": "stdout",
     "output_type": "stream",
     "text": [
      "Model ID AutoMLde22720f330\n"
     ]
    }
   ],
   "source": [
    "description = 'AutoML Iris model'\n",
    "model = run.register_model(model_name = model_name, description = description, tags = None)\n",
    "\n",
    "print(\"Model ID\", run.model_id)"
   ]
  },
  {
   "cell_type": "code",
   "execution_count": 60,
   "metadata": {},
   "outputs": [],
   "source": [
    "## Use the below to prevent the 'No usable environment found' error\n",
    "\n",
    "from azureml.core.environment import Environment\n",
    "from azureml.automl.core.shared import constants\n",
    "best_run.download_file(constants.CONDA_ENV_FILE_PATH, 'myenv.yml')\n",
    "myenv = Environment.from_conda_specification(name=\"myenv\", file_path=\"myenv.yml\")"
   ]
  },
  {
   "cell_type": "code",
   "execution_count": 62,
   "metadata": {},
   "outputs": [
    {
     "name": "stdout",
     "output_type": "stream",
     "text": [
      "automl-sample-bankmarketing-all\n",
      "Tips: You can try get_logs(): https://aka.ms/debugimage#dockerlog or local deployment: https://aka.ms/debugimage#debug-locally to debug if deployment takes longer than 10 minutes.\n",
      "Running.........................................................................................................................................................................................................................\n",
      "Succeeded\n",
      "ACI service creation operation finished, operation \"Succeeded\"\n",
      "Healthy\n"
     ]
    }
   ],
   "source": [
    "from azureml.core.model import InferenceConfig\n",
    "from azureml.core.webservice import AciWebservice\n",
    "from azureml.core.webservice import Webservice\n",
    "from azureml.core.model import Model\n",
    "from azureml.core.environment import Environment\n",
    "\n",
    "inference_config = InferenceConfig(entry_script=script_file_name, environment=myenv)\n",
    "\n",
    "aciconfig = AciWebservice.deploy_configuration(cpu_cores = 1, \n",
    "                                               memory_gb = 1, \n",
    "                                               description = 'Iris classification service')\n",
    "\n",
    "aci_service_name = 'automl-sample-bankmarketing-all'\n",
    "print(aci_service_name)\n",
    "aci_service = Model.deploy(ws, aci_service_name, [model], inference_config, aciconfig)\n",
    "aci_service.wait_for_deployment(True)\n",
    "print(aci_service.state)"
   ]
  },
  {
   "cell_type": "code",
   "execution_count": 61,
   "metadata": {},
   "outputs": [],
   "source": [
    "#aci_service.delete()"
   ]
  },
  {
   "cell_type": "code",
   "execution_count": 65,
   "metadata": {},
   "outputs": [
    {
     "data": {
      "text/html": [
       "<div>\n",
       "<style scoped>\n",
       "    .dataframe tbody tr th:only-of-type {\n",
       "        vertical-align: middle;\n",
       "    }\n",
       "\n",
       "    .dataframe tbody tr th {\n",
       "        vertical-align: top;\n",
       "    }\n",
       "\n",
       "    .dataframe thead th {\n",
       "        text-align: right;\n",
       "    }\n",
       "</style>\n",
       "<table border=\"1\" class=\"dataframe\">\n",
       "  <thead>\n",
       "    <tr style=\"text-align: right;\">\n",
       "      <th></th>\n",
       "      <th>SepalLength</th>\n",
       "      <th>SepalWidth</th>\n",
       "      <th>PetalLength</th>\n",
       "      <th>PetalWidth</th>\n",
       "      <th>Class</th>\n",
       "    </tr>\n",
       "  </thead>\n",
       "  <tbody>\n",
       "    <tr>\n",
       "      <th>73</th>\n",
       "      <td>6.10</td>\n",
       "      <td>2.80</td>\n",
       "      <td>4.70</td>\n",
       "      <td>1.20</td>\n",
       "      <td>Iris-versicolor</td>\n",
       "    </tr>\n",
       "    <tr>\n",
       "      <th>18</th>\n",
       "      <td>5.70</td>\n",
       "      <td>3.80</td>\n",
       "      <td>1.70</td>\n",
       "      <td>0.30</td>\n",
       "      <td>Iris-setosa</td>\n",
       "    </tr>\n",
       "    <tr>\n",
       "      <th>118</th>\n",
       "      <td>7.70</td>\n",
       "      <td>2.60</td>\n",
       "      <td>6.90</td>\n",
       "      <td>2.30</td>\n",
       "      <td>Iris-virginica</td>\n",
       "    </tr>\n",
       "    <tr>\n",
       "      <th>78</th>\n",
       "      <td>6.00</td>\n",
       "      <td>2.90</td>\n",
       "      <td>4.50</td>\n",
       "      <td>1.50</td>\n",
       "      <td>Iris-versicolor</td>\n",
       "    </tr>\n",
       "    <tr>\n",
       "      <th>76</th>\n",
       "      <td>6.80</td>\n",
       "      <td>2.80</td>\n",
       "      <td>4.80</td>\n",
       "      <td>1.40</td>\n",
       "      <td>Iris-versicolor</td>\n",
       "    </tr>\n",
       "    <tr>\n",
       "      <th>31</th>\n",
       "      <td>5.40</td>\n",
       "      <td>3.40</td>\n",
       "      <td>1.50</td>\n",
       "      <td>0.40</td>\n",
       "      <td>Iris-setosa</td>\n",
       "    </tr>\n",
       "    <tr>\n",
       "      <th>64</th>\n",
       "      <td>5.60</td>\n",
       "      <td>2.90</td>\n",
       "      <td>3.60</td>\n",
       "      <td>1.30</td>\n",
       "      <td>Iris-versicolor</td>\n",
       "    </tr>\n",
       "    <tr>\n",
       "      <th>141</th>\n",
       "      <td>6.90</td>\n",
       "      <td>3.10</td>\n",
       "      <td>5.10</td>\n",
       "      <td>2.30</td>\n",
       "      <td>Iris-virginica</td>\n",
       "    </tr>\n",
       "    <tr>\n",
       "      <th>68</th>\n",
       "      <td>6.20</td>\n",
       "      <td>2.20</td>\n",
       "      <td>4.50</td>\n",
       "      <td>1.50</td>\n",
       "      <td>Iris-versicolor</td>\n",
       "    </tr>\n",
       "    <tr>\n",
       "      <th>82</th>\n",
       "      <td>5.80</td>\n",
       "      <td>2.70</td>\n",
       "      <td>3.90</td>\n",
       "      <td>1.20</td>\n",
       "      <td>Iris-versicolor</td>\n",
       "    </tr>\n",
       "    <tr>\n",
       "      <th>110</th>\n",
       "      <td>6.50</td>\n",
       "      <td>3.20</td>\n",
       "      <td>5.10</td>\n",
       "      <td>2.00</td>\n",
       "      <td>Iris-virginica</td>\n",
       "    </tr>\n",
       "    <tr>\n",
       "      <th>12</th>\n",
       "      <td>4.80</td>\n",
       "      <td>3.00</td>\n",
       "      <td>1.40</td>\n",
       "      <td>0.10</td>\n",
       "      <td>Iris-setosa</td>\n",
       "    </tr>\n",
       "    <tr>\n",
       "      <th>36</th>\n",
       "      <td>5.50</td>\n",
       "      <td>3.50</td>\n",
       "      <td>1.30</td>\n",
       "      <td>0.20</td>\n",
       "      <td>Iris-setosa</td>\n",
       "    </tr>\n",
       "    <tr>\n",
       "      <th>9</th>\n",
       "      <td>4.90</td>\n",
       "      <td>3.10</td>\n",
       "      <td>1.50</td>\n",
       "      <td>0.10</td>\n",
       "      <td>Iris-setosa</td>\n",
       "    </tr>\n",
       "    <tr>\n",
       "      <th>19</th>\n",
       "      <td>5.10</td>\n",
       "      <td>3.80</td>\n",
       "      <td>1.50</td>\n",
       "      <td>0.30</td>\n",
       "      <td>Iris-setosa</td>\n",
       "    </tr>\n",
       "    <tr>\n",
       "      <th>56</th>\n",
       "      <td>6.30</td>\n",
       "      <td>3.30</td>\n",
       "      <td>4.70</td>\n",
       "      <td>1.60</td>\n",
       "      <td>Iris-versicolor</td>\n",
       "    </tr>\n",
       "    <tr>\n",
       "      <th>104</th>\n",
       "      <td>6.50</td>\n",
       "      <td>3.00</td>\n",
       "      <td>5.80</td>\n",
       "      <td>2.20</td>\n",
       "      <td>Iris-virginica</td>\n",
       "    </tr>\n",
       "    <tr>\n",
       "      <th>69</th>\n",
       "      <td>5.60</td>\n",
       "      <td>2.50</td>\n",
       "      <td>3.90</td>\n",
       "      <td>1.10</td>\n",
       "      <td>Iris-versicolor</td>\n",
       "    </tr>\n",
       "    <tr>\n",
       "      <th>55</th>\n",
       "      <td>5.70</td>\n",
       "      <td>2.80</td>\n",
       "      <td>4.50</td>\n",
       "      <td>1.30</td>\n",
       "      <td>Iris-versicolor</td>\n",
       "    </tr>\n",
       "    <tr>\n",
       "      <th>132</th>\n",
       "      <td>6.40</td>\n",
       "      <td>2.80</td>\n",
       "      <td>5.60</td>\n",
       "      <td>2.20</td>\n",
       "      <td>Iris-virginica</td>\n",
       "    </tr>\n",
       "    <tr>\n",
       "      <th>29</th>\n",
       "      <td>4.70</td>\n",
       "      <td>3.20</td>\n",
       "      <td>1.60</td>\n",
       "      <td>0.20</td>\n",
       "      <td>Iris-setosa</td>\n",
       "    </tr>\n",
       "    <tr>\n",
       "      <th>127</th>\n",
       "      <td>6.10</td>\n",
       "      <td>3.00</td>\n",
       "      <td>4.90</td>\n",
       "      <td>1.80</td>\n",
       "      <td>Iris-virginica</td>\n",
       "    </tr>\n",
       "    <tr>\n",
       "      <th>26</th>\n",
       "      <td>5.00</td>\n",
       "      <td>3.40</td>\n",
       "      <td>1.60</td>\n",
       "      <td>0.40</td>\n",
       "      <td>Iris-setosa</td>\n",
       "    </tr>\n",
       "    <tr>\n",
       "      <th>128</th>\n",
       "      <td>6.40</td>\n",
       "      <td>2.80</td>\n",
       "      <td>5.60</td>\n",
       "      <td>2.10</td>\n",
       "      <td>Iris-virginica</td>\n",
       "    </tr>\n",
       "    <tr>\n",
       "      <th>131</th>\n",
       "      <td>7.90</td>\n",
       "      <td>3.80</td>\n",
       "      <td>6.40</td>\n",
       "      <td>2.00</td>\n",
       "      <td>Iris-virginica</td>\n",
       "    </tr>\n",
       "    <tr>\n",
       "      <th>145</th>\n",
       "      <td>6.70</td>\n",
       "      <td>3.00</td>\n",
       "      <td>5.20</td>\n",
       "      <td>2.30</td>\n",
       "      <td>Iris-virginica</td>\n",
       "    </tr>\n",
       "    <tr>\n",
       "      <th>108</th>\n",
       "      <td>6.70</td>\n",
       "      <td>2.50</td>\n",
       "      <td>5.80</td>\n",
       "      <td>1.80</td>\n",
       "      <td>Iris-virginica</td>\n",
       "    </tr>\n",
       "    <tr>\n",
       "      <th>143</th>\n",
       "      <td>6.80</td>\n",
       "      <td>3.20</td>\n",
       "      <td>5.90</td>\n",
       "      <td>2.30</td>\n",
       "      <td>Iris-virginica</td>\n",
       "    </tr>\n",
       "    <tr>\n",
       "      <th>45</th>\n",
       "      <td>4.80</td>\n",
       "      <td>3.00</td>\n",
       "      <td>1.40</td>\n",
       "      <td>0.30</td>\n",
       "      <td>Iris-setosa</td>\n",
       "    </tr>\n",
       "    <tr>\n",
       "      <th>30</th>\n",
       "      <td>4.80</td>\n",
       "      <td>3.10</td>\n",
       "      <td>1.60</td>\n",
       "      <td>0.20</td>\n",
       "      <td>Iris-setosa</td>\n",
       "    </tr>\n",
       "  </tbody>\n",
       "</table>\n",
       "</div>"
      ],
      "text/plain": [
       "     SepalLength  SepalWidth  PetalLength  PetalWidth            Class\n",
       "73          6.10        2.80         4.70        1.20  Iris-versicolor\n",
       "18          5.70        3.80         1.70        0.30      Iris-setosa\n",
       "118         7.70        2.60         6.90        2.30   Iris-virginica\n",
       "78          6.00        2.90         4.50        1.50  Iris-versicolor\n",
       "76          6.80        2.80         4.80        1.40  Iris-versicolor\n",
       "31          5.40        3.40         1.50        0.40      Iris-setosa\n",
       "64          5.60        2.90         3.60        1.30  Iris-versicolor\n",
       "141         6.90        3.10         5.10        2.30   Iris-virginica\n",
       "68          6.20        2.20         4.50        1.50  Iris-versicolor\n",
       "82          5.80        2.70         3.90        1.20  Iris-versicolor\n",
       "110         6.50        3.20         5.10        2.00   Iris-virginica\n",
       "12          4.80        3.00         1.40        0.10      Iris-setosa\n",
       "36          5.50        3.50         1.30        0.20      Iris-setosa\n",
       "9           4.90        3.10         1.50        0.10      Iris-setosa\n",
       "19          5.10        3.80         1.50        0.30      Iris-setosa\n",
       "56          6.30        3.30         4.70        1.60  Iris-versicolor\n",
       "104         6.50        3.00         5.80        2.20   Iris-virginica\n",
       "69          5.60        2.50         3.90        1.10  Iris-versicolor\n",
       "55          5.70        2.80         4.50        1.30  Iris-versicolor\n",
       "132         6.40        2.80         5.60        2.20   Iris-virginica\n",
       "29          4.70        3.20         1.60        0.20      Iris-setosa\n",
       "127         6.10        3.00         4.90        1.80   Iris-virginica\n",
       "26          5.00        3.40         1.60        0.40      Iris-setosa\n",
       "128         6.40        2.80         5.60        2.10   Iris-virginica\n",
       "131         7.90        3.80         6.40        2.00   Iris-virginica\n",
       "145         6.70        3.00         5.20        2.30   Iris-virginica\n",
       "108         6.70        2.50         5.80        1.80   Iris-virginica\n",
       "143         6.80        3.20         5.90        2.30   Iris-virginica\n",
       "45          4.80        3.00         1.40        0.30      Iris-setosa\n",
       "30          4.80        3.10         1.60        0.20      Iris-setosa"
      ]
     },
     "execution_count": 65,
     "metadata": {},
     "output_type": "execute_result"
    }
   ],
   "source": [
    "X_test"
   ]
  }
 ],
 "metadata": {
  "kernel_info": {
   "name": "python3-azureml"
  },
  "kernelspec": {
   "display_name": "Python 3.6 - AzureML",
   "language": "python",
   "name": "python3-azureml"
  },
  "language_info": {
   "codemirror_mode": {
    "name": "ipython",
    "version": 3
   },
   "file_extension": ".py",
   "mimetype": "text/x-python",
   "name": "python",
   "nbconvert_exporter": "python",
   "pygments_lexer": "ipython3",
   "version": "3.6.9"
  },
  "nteract": {
   "version": "nteract-front-end@1.0.0"
  }
 },
 "nbformat": 4,
 "nbformat_minor": 4
}
